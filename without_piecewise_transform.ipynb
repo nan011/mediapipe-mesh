{
 "cells": [
  {
   "cell_type": "markdown",
   "id": "95eb9506",
   "metadata": {
    "tags": []
   },
   "source": [
    "# Mediapiple Facemesh + Texture\n",
    "\n",
    "## references\n",
    "- https://github.com/google/mediapipe/issues/1698\n",
    "- https://github.com/google/mediapipe/issues/1798\n",
    "- https://github.com/google/mediapipe/tree/master/mediapipe/modules/face_geometry/data\n",
    "- https://github.com/spite/FaceMeshFaceGeometry/blob/353ee557bec1c8b55a5e46daf785b57df819812c/js/geometry.js\n",
    "- https://github.com/google/mediapipe/blob/e6c19885c6d3c6f410c730952aeed2852790d306/mediapipe/modules/face_geometry/data/canonical_face_model.obj"
   ]
  },
  {
   "cell_type": "code",
   "execution_count": 20,
   "id": "92446cc0",
   "metadata": {},
   "outputs": [],
   "source": [
    "%matplotlib inline\n",
    "import matplotlib.pyplot as plt\n",
    "import os\n",
    "import json\n",
    "import cv2\n",
    "import numpy as np\n",
    "import mediapipe as mp\n",
    "import skimage\n",
    "from skimage.transform import PiecewiseAffineTransform, warp\n",
    "import plotly.graph_objects as go\n",
    "\n",
    "\n",
    "def imshow(img):\n",
    "    fig, ax = plt.subplots(figsize=(7, 7))\n",
    "    ax.imshow(img)\n",
    "    return ax\n",
    "\n",
    "uv_path = \"./data/uv_map.json\" #taken from https://github.com/spite/FaceMeshFaceGeometry/blob/353ee557bec1c8b55a5e46daf785b57df819812c/js/geometry.js\n",
    "uv_map_dict = json.load(open(uv_path))\n",
    "uv_map = np.array([ (uv_map_dict[\"u\"][str(i)],uv_map_dict[\"v\"][str(i)]) for i in range(468)])"
   ]
  },
  {
   "cell_type": "code",
   "execution_count": 38,
   "id": "3d03c750-2beb-49bd-ba7e-f8616f3b6adc",
   "metadata": {},
   "outputs": [],
   "source": [
    "# borrowed from https://github.com/YadiraF/DECA/blob/f84855abf9f6956fb79f3588258621b363fa282c/decalib/utils/util.py\n",
    "def load_obj(obj_filename):\n",
    "    \"\"\" Ref: https://github.com/facebookresearch/pytorch3d/blob/25c065e9dafa90163e7cec873dbb324a637c68b7/pytorch3d/io/obj_io.py\n",
    "    Load a mesh from a file-like object.\n",
    "    \"\"\"\n",
    "    with open(obj_filename, 'r') as f:\n",
    "        lines = [line.strip() for line in f]\n",
    "\n",
    "    verts, uvcoords = [], []\n",
    "    faces, uv_faces = [], []\n",
    "    # startswith expects each line to be a string. If the file is read in as\n",
    "    # bytes then first decode to strings.\n",
    "    if lines and isinstance(lines[0], bytes):\n",
    "        lines = [el.decode(\"utf-8\") for el in lines]\n",
    "\n",
    "    for line in lines:\n",
    "        tokens = line.strip().split()\n",
    "        if line.startswith(\"v \"):  # Line is a vertex.\n",
    "            vert = [float(x) for x in tokens[1:4]]\n",
    "            if len(vert) != 3:\n",
    "                msg = \"Vertex %s does not have 3 values. Line: %s\"\n",
    "                raise ValueError(msg % (str(vert), str(line)))\n",
    "            verts.append(vert)\n",
    "        elif line.startswith(\"vt \"):  # Line is a texture.\n",
    "            tx = [float(x) for x in tokens[1:3]]\n",
    "            if len(tx) != 2:\n",
    "                raise ValueError(\n",
    "                    \"Texture %s does not have 2 values. Line: %s\" % (str(tx), str(line))\n",
    "                )\n",
    "            uvcoords.append(tx)\n",
    "        elif line.startswith(\"f \"):  # Line is a face.\n",
    "            # Update face properties info.\n",
    "            face = tokens[1:]\n",
    "            face_list = [f.split(\"/\") for f in face]\n",
    "            for vert_props in face_list:\n",
    "                # Vertex index.\n",
    "                faces.append(int(vert_props[0]))\n",
    "                if len(vert_props) > 1:\n",
    "                    if vert_props[1] != \"\":\n",
    "                        # Texture index is present e.g. f 4/1/1.\n",
    "                        uv_faces.append(int(vert_props[1]))\n",
    "\n",
    "    verts = np.array(verts)\n",
    "    uvcoords = np.array(uvcoords)\n",
    "    faces = np.array(faces); faces = faces.reshape(-1, 3) - 1\n",
    "    uv_faces = np.array(uv_faces); uv_faces = uv_faces.reshape(-1, 3) - 1\n",
    "    return (\n",
    "        verts,\n",
    "        uvcoords,\n",
    "        faces,\n",
    "        uv_faces\n",
    "    )\n",
    "\n",
    "# borrowed from https://github.com/YadiraF/DECA/blob/f84855abf9f6956fb79f3588258621b363fa282c/decalib/utils/util.py\n",
    "def write_obj(obj_name,\n",
    "              vertices,\n",
    "              faces,\n",
    "              texture_name = \"texture.jpg\",\n",
    "              colors=None,\n",
    "              texture=None,\n",
    "              uvcoords=None,\n",
    "              uvfaces=None,\n",
    "              inverse_face_order=False,\n",
    "              normal_map=None,\n",
    "              ):\n",
    "    ''' Save 3D face model with texture. \n",
    "    Ref: https://github.com/patrikhuber/eos/blob/bd00155ebae4b1a13b08bf5a991694d682abbada/include/eos/core/Mesh.hpp\n",
    "    Args:\n",
    "        obj_name: str\n",
    "        vertices: shape = (nver, 3)\n",
    "        colors: shape = (nver, 3)\n",
    "        faces: shape = (ntri, 3)\n",
    "        texture: shape = (uv_size, uv_size, 3)\n",
    "        uvcoords: shape = (nver, 2) max value<=1\n",
    "    '''\n",
    "    if os.path.splitext(obj_name)[-1] != '.obj':\n",
    "        obj_name = obj_name + '.obj'\n",
    "\n",
    "    # Get the directory path from the file path\n",
    "    directory = os.path.dirname(obj_name)\n",
    "    \n",
    "    # Create the directory if it doesn't exist\n",
    "    if not os.path.exists(directory):\n",
    "        os.makedirs(directory)\n",
    "\n",
    "    mtl_name = obj_name.replace('.obj', '.mtl')\n",
    "    texture_name\n",
    "    material_name = 'FaceTexture'\n",
    "\n",
    "    faces = faces.copy()\n",
    "    # mesh lab start with 1, python/c++ start from 0\n",
    "    faces += 1\n",
    "    if inverse_face_order:\n",
    "        faces = faces[:, [2, 1, 0]]\n",
    "        if uvfaces is not None:\n",
    "            uvfaces = uvfaces[:, [2, 1, 0]]\n",
    "\n",
    "    # write obj\n",
    "    with open(obj_name, 'w') as f:\n",
    "        # first line: write mtlib(material library)\n",
    "        # f.write('# %s\\n' % os.path.basename(obj_name))\n",
    "        # f.write('#\\n')\n",
    "        # f.write('\\n')\n",
    "        if texture is not None:\n",
    "            f.write('mtllib %s\\n\\n' % os.path.basename(mtl_name))\n",
    "\n",
    "        # write vertices\n",
    "        if colors is None:\n",
    "            for i in range(vertices.shape[0]):\n",
    "                f.write('v {} {} {}\\n'.format(vertices[i, 0], vertices[i, 1], vertices[i, 2]))\n",
    "        else:\n",
    "            for i in range(vertices.shape[0]):\n",
    "                f.write('v {} {} {} {} {} {}\\n'.format(vertices[i, 0], vertices[i, 1], vertices[i, 2], colors[i, 0], colors[i, 1], colors[i, 2]))\n",
    "\n",
    "        # write uv coords\n",
    "        if texture is None:\n",
    "            for i in range(faces.shape[0]):\n",
    "                f.write('f {} {} {}\\n'.format(faces[i, 2], faces[i, 1], faces[i, 0]))\n",
    "        else:\n",
    "            for i in range(uvcoords.shape[0]):\n",
    "                f.write('vt {} {}\\n'.format(uvcoords[i,0], uvcoords[i,1]))\n",
    "            f.write('usemtl %s\\n' % material_name)\n",
    "            # write f: ver ind/ uv ind\n",
    "            uvfaces = uvfaces + 1\n",
    "            for i in range(faces.shape[0]):\n",
    "                f.write('f {}/{} {}/{} {}/{}\\n'.format(\n",
    "                    #  faces[i, 2], uvfaces[i, 2],\n",
    "                    #  faces[i, 1], uvfaces[i, 1],\n",
    "                    #  faces[i, 0], uvfaces[i, 0]\n",
    "                    faces[i, 0], uvfaces[i, 0],\n",
    "                    faces[i, 1], uvfaces[i, 1],\n",
    "                    faces[i, 2], uvfaces[i, 2]\n",
    "                )\n",
    "                )\n",
    "            # write mtl\n",
    "            with open(mtl_name, 'w') as f:\n",
    "                f.write('newmtl %s\\n' % material_name)\n",
    "                s = 'map_Kd {}\\n'.format(os.path.basename(texture_name)) # map to image\n",
    "                f.write(s)\n",
    "\n",
    "                if normal_map is not None:\n",
    "                    name, _ = os.path.splitext(obj_name)\n",
    "                    normal_name = f'{name}_normals.png'\n",
    "                    f.write(f'disp {normal_name}')\n",
    "                    # out_normal_map = normal_map / (np.linalg.norm(\n",
    "                    #     normal_map, axis=-1, keepdims=True) + 1e-9)\n",
    "                    # out_normal_map = (out_normal_map + 1) * 0.5\n",
    "\n",
    "                    cv2.imwrite(\n",
    "                        normal_name,\n",
    "                        # (out_normal_map * 255).astype(np.uint8)[:, :, ::-1]\n",
    "                        normal_map\n",
    "                    )\n",
    "            skimage.io.imsave(texture_name, texture)"
   ]
  },
  {
   "cell_type": "code",
   "execution_count": 22,
   "id": "416bf1b7",
   "metadata": {},
   "outputs": [
    {
     "data": {
      "text/plain": [
       "<Axes: >"
      ]
     },
     "execution_count": 22,
     "metadata": {},
     "output_type": "execute_result"
    },
    {
     "data": {
      "image/png": "[encoded data removed]",
      "text/plain": [
       "<Figure size 700x700 with 1 Axes>"
      ]
     },
     "metadata": {},
     "output_type": "display_data"
    }
   ],
   "source": [
    "#image source: https://mydramalist.com/people/461-aragaki-yui\n",
    "img_path = \"./data/gakki.jpg\"\n",
    "img_ori = skimage.io.imread(img_path)\n",
    "imshow(img_ori)"
   ]
  },
  {
   "cell_type": "code",
   "execution_count": 23,
   "id": "60bd2b52",
   "metadata": {},
   "outputs": [
    {
     "data": {
      "text/plain": [
       "array([[[223, 235, 251],\n",
       "        [223, 235, 251],\n",
       "        [223, 235, 251],\n",
       "        ...,\n",
       "        [224, 236, 252],\n",
       "        [224, 236, 252],\n",
       "        [224, 236, 252]],\n",
       "\n",
       "       [[223, 235, 251],\n",
       "        [223, 235, 251],\n",
       "        [223, 235, 251],\n",
       "        ...,\n",
       "        [224, 236, 252],\n",
       "        [224, 236, 252],\n",
       "        [224, 236, 252]],\n",
       "\n",
       "       [[223, 235, 251],\n",
       "        [223, 235, 251],\n",
       "        [223, 235, 251],\n",
       "        ...,\n",
       "        [224, 236, 252],\n",
       "        [224, 236, 252],\n",
       "        [224, 236, 252]],\n",
       "\n",
       "       ...,\n",
       "\n",
       "       [[161, 190, 222],\n",
       "        [161, 190, 222],\n",
       "        [160, 189, 221],\n",
       "        ...,\n",
       "        [252, 253, 255],\n",
       "        [252, 253, 255],\n",
       "        [252, 253, 255]],\n",
       "\n",
       "       [[163, 192, 224],\n",
       "        [161, 190, 222],\n",
       "        [159, 188, 220],\n",
       "        ...,\n",
       "        [252, 253, 255],\n",
       "        [252, 253, 255],\n",
       "        [252, 253, 255]],\n",
       "\n",
       "       [[163, 192, 224],\n",
       "        [161, 190, 222],\n",
       "        [159, 188, 220],\n",
       "        ...,\n",
       "        [252, 253, 255],\n",
       "        [252, 253, 255],\n",
       "        [252, 253, 255]]], dtype=uint8)"
      ]
     },
     "execution_count": 23,
     "metadata": {},
     "output_type": "execute_result"
    }
   ],
   "source": [
    "img_ori"
   ]
  },
  {
   "cell_type": "code",
   "execution_count": 24,
   "id": "a6f0a413",
   "metadata": {},
   "outputs": [
    {
     "name": "stderr",
     "output_type": "stream",
     "text": [
      "W0000 00:00:1715403527.876415  223143 inference_feedback_manager.cc:114] Feedback manager requires a model with a single signature inference. Disabling support for feedback tensors.\n",
      "W0000 00:00:1715403527.886164  223142 inference_feedback_manager.cc:114] Feedback manager requires a model with a single signature inference. Disabling support for feedback tensors.\n",
      "/home/nandhika/repositories/public/mediapipe-facemesh/env/lib/python3.10/site-packages/google/protobuf/symbol_database.py:55: UserWarning:\n",
      "\n",
      "SymbolDatabase.GetPrototype() is deprecated. Please use message_factory.GetMessageClass() instead. SymbolDatabase.GetPrototype() will be removed soon.\n",
      "\n"
     ]
    }
   ],
   "source": [
    "img = img_ori\n",
    "H,W,_ = img.shape\n",
    "#run facial landmark detection\n",
    "with mp.solutions.face_mesh.FaceMesh(\n",
    "        static_image_mode=True,\n",
    "        refine_landmarks=True,\n",
    "        max_num_faces=1,\n",
    "        min_detection_confidence=0.5) as face_mesh:\n",
    "    results = face_mesh.process(img)\n",
    "\n",
    "assert len(results.multi_face_landmarks)==1 \n",
    "\n",
    "face_landmarks = results.multi_face_landmarks[0]"
   ]
  },
  {
   "cell_type": "code",
   "execution_count": 25,
   "id": "2458c49b",
   "metadata": {},
   "outputs": [],
   "source": [
    "vertex_positions = np.array([(point.x, point.y, point.z) for point in face_landmarks.landmark[0:468]]) \n",
    "texture_coordinates = np.array([(point.x, point.y) for point in face_landmarks.landmark[0:468]]) "
   ]
  },
  {
   "cell_type": "code",
   "execution_count": 26,
   "id": "747206a1",
   "metadata": {},
   "outputs": [
    {
     "data": {
      "text/plain": [
       "array([[0.49606562, 0.70724165],\n",
       "       [0.49180377, 0.64608508],\n",
       "       [0.49291664, 0.66275698],\n",
       "       [0.46977764, 0.57377797],\n",
       "       [0.49097076, 0.62479794],\n",
       "       [0.49042302, 0.59541851],\n",
       "       [0.48960128, 0.52178669],\n",
       "       [0.31799045, 0.50983369],\n",
       "       [0.48785952, 0.46621466],\n",
       "       [0.48692831, 0.43723974],\n",
       "       [0.48346621, 0.3264111 ],\n",
       "       [0.49647081, 0.71397531],\n",
       "       [0.49680889, 0.72073102],\n",
       "       [0.49722373, 0.72516024],\n",
       "       [0.49830043, 0.73653895],\n",
       "       [0.49895966, 0.74601257],\n",
       "       [0.4995105 , 0.75738657],\n",
       "       [0.50015372, 0.76867706],\n",
       "       [0.49969986, 0.78195488],\n",
       "       [0.49236637, 0.65572733],\n",
       "       [0.4701702 , 0.65411514],\n",
       "       [0.21779558, 0.42298007],\n",
       "       [0.3890174 , 0.53013146],\n",
       "       [0.36344856, 0.5314365 ],\n",
       "       [0.33905119, 0.53028101],\n",
       "       [0.30834579, 0.51793289],\n",
       "       [0.41069847, 0.52598953],\n",
       "       [0.34589475, 0.47029427],\n",
       "       [0.37634474, 0.4726243 ],\n",
       "       [0.31924343, 0.47430521],\n",
       "       [0.30353296, 0.48254067],\n",
       "       [0.28741366, 0.53181469],\n",
       "       [0.41663697, 0.80572367],\n",
       "       [0.30946141, 0.50416517],\n",
       "       [0.21498564, 0.51541555],\n",
       "       [0.25898948, 0.516689  ],\n",
       "       [0.3722325 , 0.62043667],\n",
       "       [0.4684605 , 0.70288366],\n",
       "       [0.47258359, 0.71974134],\n",
       "       [0.44308332, 0.70990801],\n",
       "       [0.42662185, 0.71668386],\n",
       "       [0.45238039, 0.7206291 ],\n",
       "       [0.43685257, 0.72270054],\n",
       "       [0.39228609, 0.74571228],\n",
       "       [0.4717969 , 0.64559102],\n",
       "       [0.46780688, 0.62504435],\n",
       "       [0.26347435, 0.46588442],\n",
       "       [0.41955364, 0.56705326],\n",
       "       [0.41889602, 0.63658911],\n",
       "       [0.41721001, 0.62449706],\n",
       "       [0.29876161, 0.61631465],\n",
       "       [0.46842292, 0.59769535],\n",
       "       [0.31780452, 0.44421411],\n",
       "       [0.28429884, 0.45128316],\n",
       "       [0.23815048, 0.38674533],\n",
       "       [0.43261859, 0.46332923],\n",
       "       [0.40305686, 0.48195797],\n",
       "       [0.37377816, 0.7265805 ],\n",
       "       [0.26806682, 0.70191455],\n",
       "       [0.4374806 , 0.6484946 ],\n",
       "       [0.45610672, 0.65413928],\n",
       "       [0.40686798, 0.72707576],\n",
       "       [0.41279033, 0.72708058],\n",
       "       [0.26983881, 0.43741438],\n",
       "       [0.41865665, 0.64447236],\n",
       "       [0.36628729, 0.44639832],\n",
       "       [0.35972077, 0.42908588],\n",
       "       [0.33591971, 0.33821902],\n",
       "       [0.25672093, 0.41107249],\n",
       "       [0.35346413, 0.38248914],\n",
       "       [0.24933568, 0.45578259],\n",
       "       [0.23392525, 0.43957222],\n",
       "       [0.46998841, 0.71232194],\n",
       "       [0.44763225, 0.71577388],\n",
       "       [0.43146488, 0.71985513],\n",
       "       [0.44312593, 0.65164483],\n",
       "       [0.40992486, 0.72710913],\n",
       "       [0.41999996, 0.73282248],\n",
       "       [0.41579682, 0.72707659],\n",
       "       [0.44709995, 0.64359373],\n",
       "       [0.44115788, 0.72452939],\n",
       "       [0.45642418, 0.72360313],\n",
       "       [0.47520787, 0.72399831],\n",
       "       [0.46851131, 0.78149945],\n",
       "       [0.47021222, 0.76615757],\n",
       "       [0.47117364, 0.7549153 ],\n",
       "       [0.47316128, 0.74363196],\n",
       "       [0.47574854, 0.7348125 ],\n",
       "       [0.44158864, 0.7302677 ],\n",
       "       [0.43670213, 0.73415488],\n",
       "       [0.43126985, 0.73952359],\n",
       "       [0.42692775, 0.74561936],\n",
       "       [0.3975336 , 0.69476342],\n",
       "       [0.22749996, 0.60125077],\n",
       "       [0.49265054, 0.65911871],\n",
       "       [0.43014431, 0.72874063],\n",
       "       [0.42512673, 0.7305572 ],\n",
       "       [0.46346337, 0.66163415],\n",
       "       [0.42755875, 0.6553216 ],\n",
       "       [0.45996177, 0.657974  ],\n",
       "       [0.39400423, 0.57891846],\n",
       "       [0.35373226, 0.59303939],\n",
       "       [0.41376156, 0.63273096],\n",
       "       [0.27551842, 0.35759377],\n",
       "       [0.29459086, 0.39088947],\n",
       "       [0.30756116, 0.42717743],\n",
       "       [0.41242278, 0.75944591],\n",
       "       [0.42120486, 0.43487316],\n",
       "       [0.4149434 , 0.38106114],\n",
       "       [0.40301341, 0.32883635],\n",
       "       [0.31933433, 0.52589083],\n",
       "       [0.26152846, 0.54666281],\n",
       "       [0.42472029, 0.52151543],\n",
       "       [0.28002495, 0.49147165],\n",
       "       [0.43594673, 0.55365044],\n",
       "       [0.43166196, 0.63032359],\n",
       "       [0.23633617, 0.55908871],\n",
       "       [0.27781996, 0.56254476],\n",
       "       [0.30940896, 0.57144874],\n",
       "       [0.3579179 , 0.56858587],\n",
       "       [0.393601  , 0.56018984],\n",
       "       [0.41957289, 0.55071759],\n",
       "       [0.46646145, 0.52675867],\n",
       "       [0.24536151, 0.60368633],\n",
       "       [0.25990406, 0.48875505],\n",
       "       [0.48021799, 0.65513003],\n",
       "       [0.42325625, 0.58926207],\n",
       "       [0.20928708, 0.50936759],\n",
       "       [0.43841925, 0.53987932],\n",
       "       [0.41199613, 0.63262588],\n",
       "       [0.29808739, 0.5053274 ],\n",
       "       [0.43070951, 0.61557865],\n",
       "       [0.24459922, 0.65072095],\n",
       "       [0.42497933, 0.51395416],\n",
       "       [0.4486278 , 0.60438931],\n",
       "       [0.32122645, 0.75574619],\n",
       "       [0.32732266, 0.77324009],\n",
       "       [0.22779316, 0.60311323],\n",
       "       [0.29008818, 0.72794163],\n",
       "       [0.22296271, 0.47437274],\n",
       "       [0.4153741 , 0.82100791],\n",
       "       [0.48304516, 0.65845174],\n",
       "       [0.40165815, 0.60402662],\n",
       "       [0.24018446, 0.51966566],\n",
       "       [0.34091765, 0.51716912],\n",
       "       [0.36207438, 0.51905626],\n",
       "       [0.41536486, 0.73561954],\n",
       "       [0.25696042, 0.64455879],\n",
       "       [0.45814297, 0.84376717],\n",
       "       [0.39232096, 0.81747955],\n",
       "       [0.36326885, 0.79951614],\n",
       "       [0.48507935, 0.38138902],\n",
       "       [0.50464666, 0.84695917],\n",
       "       [0.38377851, 0.51818198],\n",
       "       [0.404461  , 0.51600301],\n",
       "       [0.4182108 , 0.51521391],\n",
       "       [0.24376941, 0.48373431],\n",
       "       [0.40051454, 0.49771023],\n",
       "       [0.3775121 , 0.4910233 ],\n",
       "       [0.35479328, 0.48960176],\n",
       "       [0.33344746, 0.49256578],\n",
       "       [0.3211484 , 0.4973534 ],\n",
       "       [0.20928439, 0.46175426],\n",
       "       [0.32717025, 0.51367021],\n",
       "       [0.49368563, 0.67797124],\n",
       "       [0.41992801, 0.68437046],\n",
       "       [0.43717301, 0.64579791],\n",
       "       [0.46190566, 0.67913723],\n",
       "       [0.48882285, 0.49294364],\n",
       "       [0.35340947, 0.7817623 ],\n",
       "       [0.38385513, 0.80119854],\n",
       "       [0.45503348, 0.83551019],\n",
       "       [0.29674888, 0.74307787],\n",
       "       [0.41711727, 0.5074206 ],\n",
       "       [0.45199347, 0.56192178],\n",
       "       [0.50379974, 0.83808517],\n",
       "       [0.4227694 , 0.83315742],\n",
       "       [0.24323153, 0.64802724],\n",
       "       [0.45695689, 0.73238468],\n",
       "       [0.45228413, 0.73899382],\n",
       "       [0.44822448, 0.74755585],\n",
       "       [0.44549173, 0.75754762],\n",
       "       [0.4373472 , 0.77234495],\n",
       "       [0.42460161, 0.72489655],\n",
       "       [0.41942069, 0.72363222],\n",
       "       [0.41508573, 0.72206646],\n",
       "       [0.38113022, 0.70931143],\n",
       "       [0.28746784, 0.65873003],\n",
       "       [0.45146641, 0.53869098],\n",
       "       [0.43996307, 0.49756992],\n",
       "       [0.42629933, 0.4999474 ],\n",
       "       [0.42933249, 0.72584933],\n",
       "       [0.29369479, 0.7041558 ],\n",
       "       [0.45883074, 0.49748716],\n",
       "       [0.42591715, 0.78868198],\n",
       "       [0.49021149, 0.57063478],\n",
       "       [0.46798021, 0.55162442],\n",
       "       [0.48998183, 0.54726672],\n",
       "       [0.43693352, 0.59578198],\n",
       "       [0.50254357, 0.82251924],\n",
       "       [0.50115794, 0.8013522 ],\n",
       "       [0.46206367, 0.80024123],\n",
       "       [0.37205887, 0.75198805],\n",
       "       [0.39203766, 0.6483196 ],\n",
       "       [0.3970544 , 0.77276713],\n",
       "       [0.33575618, 0.64439774],\n",
       "       [0.3707853 , 0.66841805],\n",
       "       [0.3200348 , 0.67580605],\n",
       "       [0.45591056, 0.82065535],\n",
       "       [0.42427787, 0.60678613],\n",
       "       [0.35572237, 0.76397592],\n",
       "       [0.3865476 , 0.78546417],\n",
       "       [0.35139096, 0.72766918],\n",
       "       [0.26931641, 0.67817026],\n",
       "       [0.32474422, 0.72782403],\n",
       "       [0.26185369, 0.68939275],\n",
       "       [0.35491866, 0.69359392],\n",
       "       [0.43802214, 0.57520729],\n",
       "       [0.43950447, 0.64022905],\n",
       "       [0.42662844, 0.64390057],\n",
       "       [0.44815934, 0.62699205],\n",
       "       [0.41729704, 0.47753048],\n",
       "       [0.37252122, 0.46344489],\n",
       "       [0.33416501, 0.46133715],\n",
       "       [0.30438757, 0.46606055],\n",
       "       [0.28619117, 0.47574449],\n",
       "       [0.28108633, 0.51082832],\n",
       "       [0.21730918, 0.55898857],\n",
       "       [0.30105811, 0.5412882 ],\n",
       "       [0.32638311, 0.5481168 ],\n",
       "       [0.36023778, 0.54841942],\n",
       "       [0.39223772, 0.54393554],\n",
       "       [0.41681468, 0.53765887],\n",
       "       [0.43340269, 0.53128552],\n",
       "       [0.21656576, 0.5547148 ],\n",
       "       [0.42752135, 0.6483978 ],\n",
       "       [0.45197821, 0.58273643],\n",
       "       [0.45517406, 0.6423654 ],\n",
       "       [0.46807009, 0.65137333],\n",
       "       [0.45568526, 0.64499831],\n",
       "       [0.43436623, 0.65358925],\n",
       "       [0.4726744 , 0.65366995],\n",
       "       [0.47552872, 0.65713251],\n",
       "       [0.43334889, 0.5150823 ],\n",
       "       [0.44552734, 0.51988059],\n",
       "       [0.45175967, 0.52369177],\n",
       "       [0.31446898, 0.50098753],\n",
       "       [0.29485339, 0.49212983],\n",
       "       [0.51138461, 0.57321864],\n",
       "       [0.66925836, 0.50875437],\n",
       "       [0.51531887, 0.65341306],\n",
       "       [0.75857222, 0.41716641],\n",
       "       [0.60091573, 0.53159106],\n",
       "       [0.62615615, 0.5321613 ],\n",
       "       [0.64995104, 0.52993309],\n",
       "       [0.67955923, 0.51532811],\n",
       "       [0.57877725, 0.52771956],\n",
       "       [0.63382161, 0.46911576],\n",
       "       [0.60403395, 0.4727217 ],\n",
       "       [0.66139668, 0.47173911],\n",
       "       [0.6789552 , 0.47912008],\n",
       "       [0.70175731, 0.52795595],\n",
       "       [0.58861887, 0.80381393],\n",
       "       [0.6772728 , 0.50166297],\n",
       "       [0.77167213, 0.5100891 ],\n",
       "       [0.72916597, 0.51105613],\n",
       "       [0.61660254, 0.61744076],\n",
       "       [0.52359843, 0.70245022],\n",
       "       [0.5212329 , 0.71949065],\n",
       "       [0.55013913, 0.70924258],\n",
       "       [0.56737882, 0.71593326],\n",
       "       [0.54190755, 0.72023243],\n",
       "       [0.55794072, 0.72219217],\n",
       "       [0.60444975, 0.74252826],\n",
       "       [0.51190805, 0.64506197],\n",
       "       [0.5146023 , 0.62445503],\n",
       "       [0.7135089 , 0.4603135 ],\n",
       "       [0.56539375, 0.56522626],\n",
       "       [0.56718534, 0.63487619],\n",
       "       [0.56875551, 0.62268084],\n",
       "       [0.69196963, 0.61173433],\n",
       "       [0.51286715, 0.59705979],\n",
       "       [0.65290284, 0.44298214],\n",
       "       [0.68865615, 0.44750756],\n",
       "       [0.73508394, 0.3812412 ],\n",
       "       [0.54136169, 0.46516025],\n",
       "       [0.57927978, 0.4832862 ],\n",
       "       [0.62137139, 0.72301912],\n",
       "       [0.73694658, 0.69687486],\n",
       "       [0.54889762, 0.64713234],\n",
       "       [0.53036559, 0.65323848],\n",
       "       [0.58934182, 0.72664011],\n",
       "       [0.58350599, 0.72667408],\n",
       "       [0.70140535, 0.43315959],\n",
       "       [0.56817937, 0.64276701],\n",
       "       [0.60499394, 0.44716799],\n",
       "       [0.6079855 , 0.43038628],\n",
       "       [0.63304824, 0.33496168],\n",
       "       [0.71795362, 0.40623376],\n",
       "       [0.617944  , 0.37964147],\n",
       "       [0.7275492 , 0.44968683],\n",
       "       [0.74390316, 0.43460667],\n",
       "       [0.52303565, 0.7119813 ],\n",
       "       [0.54614192, 0.71528041],\n",
       "       [0.56297863, 0.71917486],\n",
       "       [0.54341161, 0.65042907],\n",
       "       [0.58632421, 0.72670901],\n",
       "       [0.57715589, 0.73254657],\n",
       "       [0.5804649 , 0.7266407 ],\n",
       "       [0.53817701, 0.64239794],\n",
       "       [0.55391103, 0.72405434],\n",
       "       [0.53832185, 0.72322237],\n",
       "       [0.5194568 , 0.72381997],\n",
       "       [0.5314548 , 0.78059852],\n",
       "       [0.52994341, 0.76615143],\n",
       "       [0.52756304, 0.75479877],\n",
       "       [0.5244242 , 0.74350315],\n",
       "       [0.52073199, 0.73475921],\n",
       "       [0.55462521, 0.73001534],\n",
       "       [0.56045449, 0.73390853],\n",
       "       [0.56664342, 0.7393285 ],\n",
       "       [0.57178593, 0.74542469],\n",
       "       [0.59414202, 0.69206053],\n",
       "       [0.76842785, 0.59550589],\n",
       "       [0.56599224, 0.72843325],\n",
       "       [0.57159728, 0.73026562],\n",
       "       [0.52342457, 0.66088921],\n",
       "       [0.56030267, 0.65383393],\n",
       "       [0.52668345, 0.6571964 ],\n",
       "       [0.59195846, 0.57653958],\n",
       "       [0.63405395, 0.58973509],\n",
       "       [0.57319057, 0.63099205],\n",
       "       [0.69563633, 0.35296077],\n",
       "       [0.67803741, 0.38687584],\n",
       "       [0.66055775, 0.42598248],\n",
       "       [0.58587915, 0.75687945],\n",
       "       [0.54733336, 0.43776447],\n",
       "       [0.55587006, 0.37950966],\n",
       "       [0.56453812, 0.32698217],\n",
       "       [0.66926956, 0.52454513],\n",
       "       [0.72992289, 0.54170328],\n",
       "       [0.56385171, 0.52368307],\n",
       "       [0.70341629, 0.48677966],\n",
       "       [0.54786724, 0.5522036 ],\n",
       "       [0.55327195, 0.62889898],\n",
       "       [0.75274301, 0.55389035],\n",
       "       [0.71374178, 0.55815023],\n",
       "       [0.68185639, 0.56770819],\n",
       "       [0.63325989, 0.56597692],\n",
       "       [0.59726828, 0.55855095],\n",
       "       [0.57008874, 0.55013263],\n",
       "       [0.51390636, 0.52619332],\n",
       "       [0.74708033, 0.59845114],\n",
       "       [0.72297335, 0.48317015],\n",
       "       [0.50463825, 0.65473974],\n",
       "       [0.56215757, 0.58743149],\n",
       "       [0.77714884, 0.50326842],\n",
       "       [0.54942542, 0.54034144],\n",
       "       [0.575324  , 0.63079691],\n",
       "       [0.68884856, 0.5018025 ],\n",
       "       [0.55386722, 0.61404622],\n",
       "       [0.75620699, 0.64523339],\n",
       "       [0.56236762, 0.51646221],\n",
       "       [0.53418034, 0.60326368],\n",
       "       [0.68450755, 0.75216949],\n",
       "       [0.68209946, 0.76954961],\n",
       "       [0.76663601, 0.59768319],\n",
       "       [0.71434677, 0.7235744 ],\n",
       "       [0.7587713 , 0.46912339],\n",
       "       [0.59233916, 0.81925833],\n",
       "       [0.50228763, 0.65814847],\n",
       "       [0.58506364, 0.60179228],\n",
       "       [0.75096798, 0.5132311 ],\n",
       "       [0.64695823, 0.51860112],\n",
       "       [0.62598979, 0.52139395],\n",
       "       [0.58223522, 0.73526341],\n",
       "       [0.73929983, 0.63921583],\n",
       "       [0.55131423, 0.84266031],\n",
       "       [0.61781007, 0.81479239],\n",
       "       [0.64698768, 0.79650253],\n",
       "       [0.60459328, 0.5208329 ],\n",
       "       [0.58372599, 0.51867253],\n",
       "       [0.56960422, 0.51796442],\n",
       "       [0.7400617 , 0.47704527],\n",
       "       [0.58455884, 0.49850869],\n",
       "       [0.60646749, 0.49070835],\n",
       "       [0.62920541, 0.48876083],\n",
       "       [0.65107179, 0.49100399],\n",
       "       [0.66407704, 0.49526376],\n",
       "       [0.77125883, 0.45568264],\n",
       "       [0.66042566, 0.51384819],\n",
       "       [0.5706166 , 0.68231434],\n",
       "       [0.54886055, 0.64436501],\n",
       "       [0.52671808, 0.67838347],\n",
       "       [0.65313321, 0.77898771],\n",
       "       [0.62347913, 0.79903436],\n",
       "       [0.55282938, 0.83455169],\n",
       "       [0.7111764 , 0.73865354],\n",
       "       [0.56911618, 0.50945675],\n",
       "       [0.53051656, 0.56084502],\n",
       "       [0.58706188, 0.83105928],\n",
       "       [0.75513893, 0.64268404],\n",
       "       [0.53938264, 0.73215967],\n",
       "       [0.54507518, 0.73877585],\n",
       "       [0.55025578, 0.74741334],\n",
       "       [0.55439502, 0.75748265],\n",
       "       [0.5619939 , 0.77026778],\n",
       "       [0.57113904, 0.72427595],\n",
       "       [0.57599717, 0.72296774],\n",
       "       [0.58016676, 0.72134268],\n",
       "       [0.61199689, 0.70603114],\n",
       "       [0.70804834, 0.65371561],\n",
       "       [0.53047574, 0.53773665],\n",
       "       [0.54414845, 0.50007117],\n",
       "       [0.5592342 , 0.50232762],\n",
       "       [0.56647182, 0.72530472],\n",
       "       [0.70665503, 0.69937915],\n",
       "       [0.52142417, 0.49993598],\n",
       "       [0.57672018, 0.78674668],\n",
       "       [0.51291543, 0.55098802],\n",
       "       [0.54735816, 0.59439486],\n",
       "       [0.54080951, 0.7992214 ],\n",
       "       [0.62730068, 0.74902803],\n",
       "       [0.5968498 , 0.64582551],\n",
       "       [0.60434359, 0.77024859],\n",
       "       [0.65604711, 0.64033455],\n",
       "       [0.62071311, 0.66517478],\n",
       "       [0.67501748, 0.67137897],\n",
       "       [0.54963768, 0.81970155],\n",
       "       [0.56130952, 0.60500765],\n",
       "       [0.6472671 , 0.7608996 ],\n",
       "       [0.61791927, 0.78307569],\n",
       "       [0.64595085, 0.72422123],\n",
       "       [0.73003244, 0.67297745],\n",
       "       [0.67570972, 0.7238636 ],\n",
       "       [0.74005508, 0.68433124],\n",
       "       [0.63897908, 0.68994677],\n",
       "       [0.54584616, 0.57380772],\n",
       "       [0.54558349, 0.63889205],\n",
       "       [0.5594936 , 0.64236331],\n",
       "       [0.53529954, 0.62592041],\n",
       "       [0.56280971, 0.47957528],\n",
       "       [0.60391933, 0.46416295],\n",
       "       [0.6414789 , 0.46012548],\n",
       "       [0.6723721 , 0.46301255],\n",
       "       [0.69336486, 0.4714599 ],\n",
       "       [0.70606107, 0.50625944],\n",
       "       [0.77321184, 0.55357212],\n",
       "       [0.68875623, 0.5381223 ],\n",
       "       [0.6637181 , 0.54586691],\n",
       "       [0.63024431, 0.54728562],\n",
       "       [0.59826452, 0.54368508],\n",
       "       [0.57311296, 0.53812748],\n",
       "       [0.55553931, 0.53230166],\n",
       "       [0.77484131, 0.54874158],\n",
       "       [0.55898011, 0.64685041],\n",
       "       [0.53045553, 0.58166039],\n",
       "       [0.52898878, 0.64140946],\n",
       "       [0.51703864, 0.65072453],\n",
       "       [0.52916956, 0.64412707],\n",
       "       [0.55278224, 0.65217841],\n",
       "       [0.51229537, 0.65307224],\n",
       "       [0.50979364, 0.65657097],\n",
       "       [0.5541749 , 0.51749194],\n",
       "       [0.54151464, 0.52168477],\n",
       "       [0.5333904 , 0.52531111],\n",
       "       [0.67135602, 0.49861333],\n",
       "       [0.68937218, 0.48835683]])"
      ]
     },
     "execution_count": 26,
     "metadata": {},
     "output_type": "execute_result"
    }
   ],
   "source": [
    "texture_coordinates"
   ]
  },
  {
   "cell_type": "code",
   "execution_count": 27,
   "id": "40fc8228",
   "metadata": {},
   "outputs": [
    {
     "data": {
      "application/vnd.plotly.v1+json": {
       "config": {
        "plotlyServerURL": "https://plot.ly"
       },
       "data": [
        {
         "marker": {
          "size": 1.5
         },
         "mode": "markers",
         "type": "scatter3d",
         "x": [
          0.496065616607666,
          0.49180376529693604,
          0.49291664361953735,
          0.4697776436805725,
          0.49097076058387756,
          0.4904230237007141,
          0.4896012842655182,
          0.3179904520511627,
          0.4878595173358917,
          0.4869283139705658,
          0.4834662079811096,
          0.4964708089828491,
          0.49680888652801514,
          0.49722373485565186,
          0.4983004331588745,
          0.49895966053009033,
          0.4995104968547821,
          0.5001537203788757,
          0.4996998608112335,
          0.49236637353897095,
          0.47017019987106323,
          0.21779558062553406,
          0.38901740312576294,
          0.3634485602378845,
          0.33905118703842163,
          0.3083457946777344,
          0.41069847345352173,
          0.3458947539329529,
          0.3763447403907776,
          0.3192434310913086,
          0.3035329580307007,
          0.28741365671157837,
          0.41663697361946106,
          0.30946141481399536,
          0.21498563885688782,
          0.25898948311805725,
          0.37223249673843384,
          0.4684605002403259,
          0.4725835919380188,
          0.4430833160877228,
          0.42662185430526733,
          0.45238038897514343,
          0.4368525743484497,
          0.392286092042923,
          0.4717969000339508,
          0.467806875705719,
          0.26347434520721436,
          0.41955363750457764,
          0.41889601945877075,
          0.41721001267433167,
          0.29876160621643066,
          0.46842291951179504,
          0.3178045153617859,
          0.284298837184906,
          0.2381504774093628,
          0.4326185882091522,
          0.4030568599700928,
          0.37377816438674927,
          0.2680668234825134,
          0.4374805986881256,
          0.4561067223548889,
          0.40686798095703125,
          0.41279032826423645,
          0.269838809967041,
          0.4186566472053528,
          0.3662872910499573,
          0.35972076654434204,
          0.33591970801353455,
          0.2567209303379059,
          0.35346412658691406,
          0.24933567643165588,
          0.2339252531528473,
          0.4699884057044983,
          0.4476322531700134,
          0.43146488070487976,
          0.4431259334087372,
          0.40992486476898193,
          0.41999995708465576,
          0.41579681634902954,
          0.4470999538898468,
          0.44115787744522095,
          0.45642417669296265,
          0.4752078652381897,
          0.46851131319999695,
          0.4702122211456299,
          0.47117364406585693,
          0.4731612801551819,
          0.47574853897094727,
          0.4415886402130127,
          0.4367021322250366,
          0.4312698543071747,
          0.42692774534225464,
          0.3975335955619812,
          0.22749996185302734,
          0.4926505386829376,
          0.4301443099975586,
          0.42512673139572144,
          0.46346336603164673,
          0.4275587499141693,
          0.45996177196502686,
          0.394004225730896,
          0.35373225808143616,
          0.41376155614852905,
          0.27551841735839844,
          0.29459086060523987,
          0.30756115913391113,
          0.412422776222229,
          0.4212048649787903,
          0.4149433970451355,
          0.4030134081840515,
          0.31933432817459106,
          0.26152846217155457,
          0.42472028732299805,
          0.2800249457359314,
          0.4359467327594757,
          0.4316619634628296,
          0.23633617162704468,
          0.277819961309433,
          0.309408962726593,
          0.3579179048538208,
          0.3936010003089905,
          0.4195728898048401,
          0.4664614498615265,
          0.24536150693893433,
          0.25990405678749084,
          0.48021799325942993,
          0.4232562482357025,
          0.20928707718849182,
          0.43841925263404846,
          0.41199612617492676,
          0.29808738827705383,
          0.43070951104164124,
          0.24459922313690186,
          0.4249793291091919,
          0.4486277997493744,
          0.32122644782066345,
          0.32732266187667847,
          0.2277931571006775,
          0.2900881767272949,
          0.22296270728111267,
          0.41537410020828247,
          0.48304516077041626,
          0.40165814757347107,
          0.2401844561100006,
          0.3409176468849182,
          0.3620743751525879,
          0.4153648614883423,
          0.2569604218006134,
          0.4581429660320282,
          0.3923209607601166,
          0.3632688522338867,
          0.4850793480873108,
          0.5046466588973999,
          0.38377851247787476,
          0.40446099638938904,
          0.41821080446243286,
          0.24376940727233887,
          0.40051454305648804,
          0.3775120973587036,
          0.3547932803630829,
          0.3334474563598633,
          0.3211483955383301,
          0.20928439497947693,
          0.3271702527999878,
          0.49368563294410706,
          0.41992801427841187,
          0.4371730089187622,
          0.46190565824508667,
          0.4888228476047516,
          0.35340946912765503,
          0.3838551342487335,
          0.45503348112106323,
          0.2967488765716553,
          0.41711726784706116,
          0.451993465423584,
          0.5037997364997864,
          0.4227693974971771,
          0.24323153495788574,
          0.4569568932056427,
          0.4522841274738312,
          0.4482244849205017,
          0.4454917311668396,
          0.4373472034931183,
          0.42460161447525024,
          0.41942068934440613,
          0.41508573293685913,
          0.3811302185058594,
          0.2874678373336792,
          0.4514664113521576,
          0.43996307253837585,
          0.4262993335723877,
          0.4293324947357178,
          0.29369479417800903,
          0.45883074402809143,
          0.4259171485900879,
          0.49021148681640625,
          0.46798020601272583,
          0.48998183012008667,
          0.4369335174560547,
          0.502543568611145,
          0.5011579394340515,
          0.46206367015838623,
          0.3720588684082031,
          0.39203765988349915,
          0.39705440402030945,
          0.33575618267059326,
          0.37078529596328735,
          0.32003480195999146,
          0.4559105634689331,
          0.4242778718471527,
          0.3557223677635193,
          0.38654759526252747,
          0.3513909578323364,
          0.2693164050579071,
          0.32474422454833984,
          0.2618536949157715,
          0.3549186587333679,
          0.4380221366882324,
          0.439504474401474,
          0.426628440618515,
          0.4481593370437622,
          0.41729703545570374,
          0.37252122163772583,
          0.3341650068759918,
          0.30438756942749023,
          0.2861911654472351,
          0.2810863256454468,
          0.21730917692184448,
          0.3010581135749817,
          0.326383113861084,
          0.3602377772331238,
          0.39223772287368774,
          0.4168146848678589,
          0.4334026873111725,
          0.21656575798988342,
          0.42752134799957275,
          0.4519782066345215,
          0.455174058675766,
          0.4680700898170471,
          0.45568525791168213,
          0.43436622619628906,
          0.4726743996143341,
          0.4755287170410156,
          0.4333488941192627,
          0.4455273449420929,
          0.4517596662044525,
          0.31446897983551025,
          0.2948533892631531,
          0.5113846063613892,
          0.6692583560943604,
          0.5153188705444336,
          0.7585722208023071,
          0.6009157299995422,
          0.6261561512947083,
          0.6499510407447815,
          0.6795592308044434,
          0.5787772536277771,
          0.6338216066360474,
          0.6040339469909668,
          0.6613966822624207,
          0.6789551973342896,
          0.7017573118209839,
          0.5886188745498657,
          0.6772727966308594,
          0.7716721296310425,
          0.7291659712791443,
          0.6166025400161743,
          0.5235984325408936,
          0.5212329030036926,
          0.5501391291618347,
          0.5673788189888,
          0.541907548904419,
          0.5579407215118408,
          0.6044497489929199,
          0.5119080543518066,
          0.5146023035049438,
          0.7135089039802551,
          0.5653937458992004,
          0.5671853423118591,
          0.5687555074691772,
          0.691969633102417,
          0.5128671526908875,
          0.6529028415679932,
          0.6886561512947083,
          0.7350839376449585,
          0.5413616895675659,
          0.5792797803878784,
          0.6213713884353638,
          0.7369465827941895,
          0.5488976240158081,
          0.5303655862808228,
          0.5893418192863464,
          0.5835059881210327,
          0.7014053463935852,
          0.5681793689727783,
          0.6049939393997192,
          0.6079854965209961,
          0.6330482363700867,
          0.717953622341156,
          0.6179440021514893,
          0.7275491952896118,
          0.7439031600952148,
          0.5230356454849243,
          0.5461419224739075,
          0.5629786252975464,
          0.5434116125106812,
          0.5863242149353027,
          0.5771558880805969,
          0.5804648995399475,
          0.5381770133972168,
          0.553911030292511,
          0.538321852684021,
          0.5194568037986755,
          0.5314548015594482,
          0.5299434065818787,
          0.5275630354881287,
          0.5244241952896118,
          0.5207319855690002,
          0.5546252131462097,
          0.5604544878005981,
          0.5666434168815613,
          0.5717859268188477,
          0.5941420197486877,
          0.768427848815918,
          0.5659922361373901,
          0.5715972781181335,
          0.5234245657920837,
          0.5603026747703552,
          0.5266834497451782,
          0.5919584631919861,
          0.6340539455413818,
          0.5731905698776245,
          0.6956363320350647,
          0.6780374050140381,
          0.660557746887207,
          0.5858791470527649,
          0.5473333597183228,
          0.5558700561523438,
          0.5645381212234497,
          0.6692695617675781,
          0.729922890663147,
          0.5638517141342163,
          0.7034162878990173,
          0.5478672385215759,
          0.5532719492912292,
          0.7527430057525635,
          0.7137417793273926,
          0.6818563938140869,
          0.6332598924636841,
          0.597268283367157,
          0.5700887441635132,
          0.5139063596725464,
          0.7470803260803223,
          0.7229733467102051,
          0.5046382546424866,
          0.5621575713157654,
          0.7771488428115845,
          0.5494254231452942,
          0.5753239989280701,
          0.6888485550880432,
          0.5538672208786011,
          0.7562069892883301,
          0.5623676180839539,
          0.5341803431510925,
          0.6845075488090515,
          0.682099461555481,
          0.7666360139846802,
          0.7143467664718628,
          0.7587713003158569,
          0.5923391580581665,
          0.5022876262664795,
          0.585063636302948,
          0.7509679794311523,
          0.6469582319259644,
          0.6259897947311401,
          0.5822352170944214,
          0.7392998337745667,
          0.5513142347335815,
          0.617810070514679,
          0.6469876766204834,
          0.6045932769775391,
          0.5837259888648987,
          0.569604218006134,
          0.7400617003440857,
          0.5845588445663452,
          0.6064674854278564,
          0.6292054057121277,
          0.6510717868804932,
          0.6640770435333252,
          0.7712588310241699,
          0.6604256629943848,
          0.570616602897644,
          0.5488605499267578,
          0.5267180800437927,
          0.65313321352005,
          0.6234791278839111,
          0.552829384803772,
          0.7111763954162598,
          0.5691161751747131,
          0.5305165648460388,
          0.587061882019043,
          0.7551389336585999,
          0.5393826365470886,
          0.5450751781463623,
          0.5502557754516602,
          0.5543950200080872,
          0.5619938969612122,
          0.5711390376091003,
          0.5759971737861633,
          0.580166757106781,
          0.6119968891143799,
          0.7080483436584473,
          0.5304757356643677,
          0.5441484451293945,
          0.5592342019081116,
          0.5664718151092529,
          0.7066550254821777,
          0.5214241743087769,
          0.5767201781272888,
          0.5129154324531555,
          0.5473581552505493,
          0.5408095121383667,
          0.6273006796836853,
          0.596849799156189,
          0.604343593120575,
          0.6560471057891846,
          0.6207131147384644,
          0.6750174760818481,
          0.5496376752853394,
          0.5613095164299011,
          0.6472671031951904,
          0.6179192662239075,
          0.6459508538246155,
          0.7300324440002441,
          0.6757097244262695,
          0.7400550842285156,
          0.6389790773391724,
          0.545846164226532,
          0.5455834865570068,
          0.5594936013221741,
          0.53529953956604,
          0.5628097057342529,
          0.6039193272590637,
          0.6414788961410522,
          0.6723721027374268,
          0.6933648586273193,
          0.706061065196991,
          0.7732118368148804,
          0.6887562274932861,
          0.6637181043624878,
          0.6302443146705627,
          0.5982645153999329,
          0.573112964630127,
          0.5555393099784851,
          0.77484130859375,
          0.5589801073074341,
          0.5304555296897888,
          0.528988778591156,
          0.5170386433601379,
          0.5291695594787598,
          0.5527822375297546,
          0.5122953653335571,
          0.5097936391830444,
          0.5541749000549316,
          0.5415146350860596,
          0.5333904027938843,
          0.6713560223579407,
          0.689372181892395
         ],
         "y": [
          0.7072416543960571,
          0.6460850834846497,
          0.6627569794654846,
          0.573777973651886,
          0.6247979402542114,
          0.5954185128211975,
          0.5217866897583008,
          0.5098336935043335,
          0.466214656829834,
          0.43723973631858826,
          0.32641109824180603,
          0.7139753103256226,
          0.7207310199737549,
          0.7251602411270142,
          0.7365389466285706,
          0.7460125684738159,
          0.7573865652084351,
          0.7686770558357239,
          0.7819548845291138,
          0.6557273268699646,
          0.6541151404380798,
          0.42298007011413574,
          0.530131459236145,
          0.5314365029335022,
          0.5302810072898865,
          0.5179328918457031,
          0.5259895324707031,
          0.4702942669391632,
          0.4726243019104004,
          0.4743052124977112,
          0.48254066705703735,
          0.531814694404602,
          0.8057236671447754,
          0.5041651725769043,
          0.5154155492782593,
          0.5166890025138855,
          0.6204366683959961,
          0.7028836607933044,
          0.7197413444519043,
          0.7099080085754395,
          0.7166838645935059,
          0.720629096031189,
          0.7227005362510681,
          0.7457122802734375,
          0.6455910205841064,
          0.6250443458557129,
          0.46588441729545593,
          0.5670532584190369,
          0.6365891098976135,
          0.6244970560073853,
          0.6163146495819092,
          0.5976953506469727,
          0.4442141056060791,
          0.45128315687179565,
          0.3867453336715698,
          0.4633292257785797,
          0.48195797204971313,
          0.7265805006027222,
          0.7019145488739014,
          0.6484946012496948,
          0.6541392803192139,
          0.7270757555961609,
          0.7270805835723877,
          0.43741437792778015,
          0.6444723606109619,
          0.4463983178138733,
          0.4290858805179596,
          0.33821901679039,
          0.4110724925994873,
          0.3824891448020935,
          0.45578259229660034,
          0.43957221508026123,
          0.712321937084198,
          0.71577388048172,
          0.7198551297187805,
          0.6516448259353638,
          0.7271091341972351,
          0.7328224778175354,
          0.7270765900611877,
          0.6435937285423279,
          0.7245293855667114,
          0.7236031293869019,
          0.7239983081817627,
          0.781499445438385,
          0.7661575675010681,
          0.7549152970314026,
          0.7436319589614868,
          0.7348124980926514,
          0.7302677035331726,
          0.7341548800468445,
          0.7395235896110535,
          0.7456193566322327,
          0.6947634220123291,
          0.6012507677078247,
          0.6591187119483948,
          0.7287406325340271,
          0.7305572032928467,
          0.6616341471672058,
          0.6553215980529785,
          0.6579740047454834,
          0.57891845703125,
          0.5930393934249878,
          0.6327309608459473,
          0.3575937747955322,
          0.3908894658088684,
          0.42717742919921875,
          0.7594459056854248,
          0.43487316370010376,
          0.3810611367225647,
          0.3288363516330719,
          0.5258908271789551,
          0.5466628074645996,
          0.521515429019928,
          0.49147164821624756,
          0.553650438785553,
          0.630323588848114,
          0.5590887069702148,
          0.5625447630882263,
          0.5714487433433533,
          0.5685858726501465,
          0.5601898431777954,
          0.5507175922393799,
          0.5267586708068848,
          0.6036863327026367,
          0.4887550473213196,
          0.6551300287246704,
          0.589262068271637,
          0.5093675851821899,
          0.539879322052002,
          0.6326258778572083,
          0.5053274035453796,
          0.6155786514282227,
          0.6507209539413452,
          0.5139541625976562,
          0.6043893098831177,
          0.7557461857795715,
          0.7732400894165039,
          0.6031132340431213,
          0.727941632270813,
          0.4743727445602417,
          0.8210079073905945,
          0.6584517359733582,
          0.6040266156196594,
          0.5196656584739685,
          0.5171691179275513,
          0.5190562605857849,
          0.7356195449829102,
          0.6445587873458862,
          0.8437671661376953,
          0.8174795508384705,
          0.7995161414146423,
          0.3813890218734741,
          0.8469591736793518,
          0.5181819796562195,
          0.5160030126571655,
          0.5152139067649841,
          0.4837343096733093,
          0.4977102279663086,
          0.49102330207824707,
          0.4896017611026764,
          0.492565780878067,
          0.4973534047603607,
          0.4617542624473572,
          0.5136702060699463,
          0.6779712438583374,
          0.6843704581260681,
          0.6457979083061218,
          0.6791372299194336,
          0.4929436445236206,
          0.7817623019218445,
          0.8011985421180725,
          0.8355101943016052,
          0.7430778741836548,
          0.5074205994606018,
          0.5619217753410339,
          0.8380851745605469,
          0.8331574201583862,
          0.648027241230011,
          0.7323846817016602,
          0.7389938235282898,
          0.7475558519363403,
          0.7575476169586182,
          0.7723449468612671,
          0.7248965501785278,
          0.7236322164535522,
          0.7220664620399475,
          0.7093114256858826,
          0.6587300300598145,
          0.538690984249115,
          0.4975699186325073,
          0.4999473989009857,
          0.7258493304252625,
          0.7041558027267456,
          0.4974871575832367,
          0.7886819839477539,
          0.5706347823143005,
          0.5516244173049927,
          0.5472667217254639,
          0.5957819819450378,
          0.8225192427635193,
          0.8013522028923035,
          0.800241231918335,
          0.7519880533218384,
          0.6483196020126343,
          0.7727671265602112,
          0.6443977355957031,
          0.6684180498123169,
          0.6758060455322266,
          0.820655345916748,
          0.6067861318588257,
          0.7639759182929993,
          0.7854641675949097,
          0.7276691794395447,
          0.6781702637672424,
          0.7278240323066711,
          0.6893927454948425,
          0.6935939192771912,
          0.5752072930335999,
          0.6402290463447571,
          0.6439005732536316,
          0.6269920468330383,
          0.47753047943115234,
          0.46344488859176636,
          0.461337149143219,
          0.4660605490207672,
          0.47574448585510254,
          0.5108283162117004,
          0.5589885711669922,
          0.5412881970405579,
          0.5481168031692505,
          0.5484194159507751,
          0.5439355373382568,
          0.5376588702201843,
          0.5312855243682861,
          0.5547147989273071,
          0.6483978033065796,
          0.5827364325523376,
          0.6423653960227966,
          0.6513733267784119,
          0.64499831199646,
          0.6535892486572266,
          0.6536699533462524,
          0.6571325063705444,
          0.5150822997093201,
          0.5198805928230286,
          0.5236917734146118,
          0.5009875297546387,
          0.4921298325061798,
          0.5732186436653137,
          0.5087543725967407,
          0.6534130573272705,
          0.41716641187667847,
          0.5315910577774048,
          0.532161295413971,
          0.5299330949783325,
          0.5153281092643738,
          0.5277195572853088,
          0.4691157639026642,
          0.4727216958999634,
          0.47173911333084106,
          0.47912007570266724,
          0.527955949306488,
          0.8038139343261719,
          0.5016629695892334,
          0.510089099407196,
          0.511056125164032,
          0.6174407601356506,
          0.7024502158164978,
          0.719490647315979,
          0.709242582321167,
          0.7159332633018494,
          0.7202324271202087,
          0.7221921682357788,
          0.7425282597541809,
          0.6450619697570801,
          0.6244550347328186,
          0.46031349897384644,
          0.5652262568473816,
          0.6348761916160583,
          0.6226808428764343,
          0.6117343306541443,
          0.5970597863197327,
          0.44298213720321655,
          0.4475075602531433,
          0.38124120235443115,
          0.4651602506637573,
          0.48328620195388794,
          0.7230191230773926,
          0.6968748569488525,
          0.6471323370933533,
          0.6532384753227234,
          0.7266401052474976,
          0.7266740798950195,
          0.43315958976745605,
          0.6427670121192932,
          0.4471679925918579,
          0.4303862750530243,
          0.3349616825580597,
          0.4062337577342987,
          0.37964147329330444,
          0.44968682527542114,
          0.434606671333313,
          0.7119812965393066,
          0.7152804136276245,
          0.719174861907959,
          0.6504290699958801,
          0.7267090082168579,
          0.7325465679168701,
          0.7266407012939453,
          0.642397940158844,
          0.7240543365478516,
          0.7232223749160767,
          0.7238199710845947,
          0.780598521232605,
          0.7661514282226562,
          0.7547987699508667,
          0.7435031533241272,
          0.7347592115402222,
          0.7300153374671936,
          0.7339085340499878,
          0.7393285036087036,
          0.7454246878623962,
          0.6920605301856995,
          0.5955058932304382,
          0.7284332513809204,
          0.7302656173706055,
          0.660889208316803,
          0.6538339257240295,
          0.6571964025497437,
          0.5765395760536194,
          0.5897350907325745,
          0.63099205493927,
          0.3529607653617859,
          0.38687583804130554,
          0.4259824752807617,
          0.756879448890686,
          0.4377644658088684,
          0.37950965762138367,
          0.32698217034339905,
          0.5245451331138611,
          0.5417032837867737,
          0.5236830711364746,
          0.48677965998649597,
          0.5522035956382751,
          0.6288989782333374,
          0.5538903474807739,
          0.5581502318382263,
          0.5677081942558289,
          0.5659769177436829,
          0.5585509538650513,
          0.5501326322555542,
          0.5261933207511902,
          0.5984511375427246,
          0.48317015171051025,
          0.6547397375106812,
          0.5874314904212952,
          0.5032684206962585,
          0.5403414368629456,
          0.6307969093322754,
          0.5018025040626526,
          0.6140462160110474,
          0.6452333927154541,
          0.5164622068405151,
          0.6032636761665344,
          0.7521694898605347,
          0.7695496082305908,
          0.5976831912994385,
          0.7235743999481201,
          0.46912339329719543,
          0.8192583322525024,
          0.658148467540741,
          0.6017922759056091,
          0.513231098651886,
          0.51860111951828,
          0.5213939547538757,
          0.7352634072303772,
          0.6392158269882202,
          0.8426603078842163,
          0.8147923946380615,
          0.7965025305747986,
          0.520832896232605,
          0.518672525882721,
          0.5179644227027893,
          0.4770452678203583,
          0.4985086917877197,
          0.4907083511352539,
          0.4887608289718628,
          0.49100399017333984,
          0.4952637553215027,
          0.455682635307312,
          0.5138481855392456,
          0.6823143362998962,
          0.6443650126457214,
          0.678383469581604,
          0.77898770570755,
          0.7990343570709229,
          0.8345516920089722,
          0.7386535406112671,
          0.5094567537307739,
          0.5608450174331665,
          0.8310592770576477,
          0.6426840424537659,
          0.7321596741676331,
          0.7387758493423462,
          0.7474133372306824,
          0.757482647895813,
          0.7702677845954895,
          0.7242759466171265,
          0.7229677438735962,
          0.7213426828384399,
          0.7060311436653137,
          0.6537156105041504,
          0.5377366542816162,
          0.5000711679458618,
          0.5023276209831238,
          0.7253047227859497,
          0.6993791460990906,
          0.49993598461151123,
          0.7867466807365417,
          0.5509880185127258,
          0.594394862651825,
          0.799221396446228,
          0.7490280270576477,
          0.6458255052566528,
          0.7702485918998718,
          0.6403345465660095,
          0.6651747822761536,
          0.6713789701461792,
          0.8197015523910522,
          0.6050076484680176,
          0.7608996033668518,
          0.7830756902694702,
          0.7242212295532227,
          0.6729774475097656,
          0.7238636016845703,
          0.6843312382698059,
          0.6899467706680298,
          0.5738077163696289,
          0.6388920545578003,
          0.6423633098602295,
          0.6259204149246216,
          0.4795752763748169,
          0.4641629457473755,
          0.46012547612190247,
          0.46301254630088806,
          0.47145989537239075,
          0.5062594413757324,
          0.5535721182823181,
          0.538122296333313,
          0.5458669066429138,
          0.5472856163978577,
          0.5436850786209106,
          0.5381274819374084,
          0.532301664352417,
          0.5487415790557861,
          0.6468504071235657,
          0.5816603899002075,
          0.6414094567298889,
          0.6507245302200317,
          0.6441270709037781,
          0.6521784067153931,
          0.6530722379684448,
          0.6565709710121155,
          0.5174919366836548,
          0.5216847658157349,
          0.5253111124038696,
          0.4986133277416229,
          0.4883568286895752
         ],
         "z": [
          -0.06158304959535599,
          -0.13334520161151886,
          -0.06526663154363632,
          -0.10703064501285553,
          -0.14414632320404053,
          -0.13697201013565063,
          -0.0778789073228836,
          0.02434643544256687,
          -0.06723201274871826,
          -0.07663681358098984,
          -0.06287308782339096,
          -0.05731005594134331,
          -0.04790424555540085,
          -0.0339956171810627,
          -0.031608015298843384,
          -0.03264443576335907,
          -0.03592192754149437,
          -0.029682444408535957,
          -0.0010945539688691497,
          -0.1192522943019867,
          -0.08377210050821304,
          0.13459132611751556,
          -0.0018720428925007582,
          0.0005463289562612772,
          0.008063462562859058,
          0.029595836997032166,
          0.0001476058387197554,
          -0.015184024348855019,
          -0.016056738793849945,
          -0.005754296667873859,
          0.0055982633493840694,
          0.04398152604699135,
          0.03352154418826103,
          0.03247404471039772,
          0.15738078951835632,
          0.06841503083705902,
          -0.014365690760314465,
          -0.05789153277873993,
          -0.04384024441242218,
          -0.04196087643504143,
          -0.022758176550269127,
          -0.03372740373015404,
          -0.016216397285461426,
          0.022534165531396866,
          -0.13094542920589447,
          -0.14090514183044434,
          0.01175379753112793,
          -0.02548198774456978,
          -0.06796382367610931,
          -0.061491068452596664,
          0.018749916926026344,
          -0.12855856120586395,
          -0.03609205782413483,
          -0.014564970508217812,
          0.07910849899053574,
          -0.058718208223581314,
          -0.008332237601280212,
          0.025614557787775993,
          0.2519727051258087,
          -0.05717805400490761,
          -0.058775272220373154,
          0.02179371379315853,
          0.014202668331563473,
          -0.00391738535836339,
          -0.05281258746981621,
          -0.05157405883073807,
          -0.0591757632791996,
          -0.026552198454737663,
          0.03108374960720539,
          -0.04530452564358711,
          0.03264201432466507,
          0.07983767986297607,
          -0.05378953740000725,
          -0.03899037092924118,
          -0.02158600278198719,
          -0.05167105421423912,
          0.01773318089544773,
          0.003640941809862852,
          0.013460147194564342,
          -0.09371741116046906,
          -0.010793887078762054,
          -0.021893909201025963,
          -0.03079874813556671,
          0.000019802710085059516,
          -0.02816084213554859,
          -0.033360786736011505,
          -0.029600266367197037,
          -0.028397373855113983,
          -0.008679472841322422,
          -0.010892260819673538,
          -0.013404720462858677,
          -0.00805442314594984,
          -0.016284344717860222,
          0.27524295449256897,
          -0.08446124941110611,
          0.004324671812355518,
          0.00294039910659194,
          -0.05802476033568382,
          -0.03270762041211128,
          -0.05924185365438461,
          -0.014566951431334019,
          -0.004653805401176214,
          -0.045922353863716125,
          0.022271115332841873,
          -0.00952486414462328,
          -0.033979374915361404,
          0.012576245702803135,
          -0.07241512089967728,
          -0.06589895486831665,
          -0.05515115335583687,
          0.019458793103694916,
          0.06017496809363365,
          0.002872371580451727,
          0.028674859553575516,
          -0.036329273134469986,
          -0.09419584274291992,
          0.09104770421981812,
          0.038591187447309494,
          0.015241386368870735,
          0.002780395559966564,
          -0.004464591387659311,
          -0.013112547807395458,
          -0.0672207623720169,
          0.08924625813961029,
          0.04044168442487717,
          -0.11762931942939758,
          -0.03355688601732254,
          0.24230721592903137,
          -0.018737899139523506,
          -0.020349744707345963,
          0.03781890496611595,
          -0.0860995203256607,
          0.2704816460609436,
          0.008136062882840633,
          -0.11227623373270035,
          0.12178346514701843,
          0.17087876796722412,
          0.18259687721729279,
          0.15071448683738708,
          0.12534065544605255,
          0.05191909149289131,
          -0.0826430469751358,
          -0.021897004917263985,
          0.09462057054042816,
          0.00896456092596054,
          0.0023830898571759462,
          0.008386370725929737,
          0.10303998738527298,
          0.06218913570046425,
          0.10874956846237183,
          0.13560518622398376,
          -0.07265761494636536,
          0.054861001670360565,
          0.0008035702048800886,
          0.003674451494589448,
          0.008236740715801716,
          0.06600867956876755,
          -0.002422763966023922,
          -0.006780928000807762,
          -0.005197064485400915,
          0.00199956470169127,
          0.01112181507050991,
          0.1936357319355011,
          0.01728683151304722,
          -0.05765416473150253,
          -0.030877288430929184,
          -0.06774754822254181,
          -0.05467984825372696,
          -0.06292541325092316,
          0.10031548887491226,
          0.07787089049816132,
          0.02903328463435173,
          0.21426858007907867,
          0.0036250760313123465,
          -0.07087192684412003,
          0.022737888619303703,
          0.08058953285217285,
          0.18485964834690094,
          -0.019627107307314873,
          -0.021701475605368614,
          -0.024471651762723923,
          -0.01960596814751625,
          0.0029545247089117765,
          -0.00027994238189421594,
          -0.000495609943754971,
          -0.0008377257036045194,
          0.003318129340186715,
          0.05178902670741081,
          -0.050032008439302444,
          -0.012294269166886806,
          -0.0021522818133234978,
          0.002961520804092288,
          0.09716358780860901,
          -0.04490846395492554,
          0.020282968878746033,
          -0.11632983386516571,
          -0.09004847705364227,
          -0.09660594165325165,
          -0.06637412309646606,
          0.006146518513560295,
          0.003284630598500371,
          0.008271578699350357,
          0.039472855627536774,
          -0.011933634988963604,
          0.031190264970064163,
          -0.00041327174403704703,
          -0.004716003779321909,
          0.0240878164768219,
          0.012938858941197395,
          -0.046341244131326675,
          0.06695406138896942,
          0.0540691576898098,
          0.03855014592409134,
          0.11691883951425552,
          0.06505289673805237,
          0.17995017766952515,
          0.010678286664187908,
          -0.05090098828077316,
          -0.09919171780347824,
          -0.07021418958902359,
          -0.11855780333280563,
          -0.021817658096551895,
          -0.026451483368873596,
          -0.02350352331995964,
          -0.011652654968202114,
          0.005462433211505413,
          0.04884449020028114,
          0.17135916650295258,
          0.03158852830529213,
          0.016150377690792084,
          0.005109934601932764,
          -0.0007541743689216673,
          -0.003059374401345849,
          -0.005664443597197533,
          0.2672775089740753,
          -0.05702804774045944,
          -0.08801037818193436,
          -0.11894962191581726,
          -0.1075512170791626,
          -0.10626445710659027,
          -0.04762614145874977,
          -0.11410743743181229,
          -0.08314481377601624,
          0.004280721768736839,
          -0.010791109874844551,
          -0.027931882068514824,
          0.020549321547150612,
          0.02139873430132866,
          -0.10777274519205093,
          0.01898934133350849,
          -0.08428271859884262,
          0.1286134421825409,
          -0.005337561015039682,
          -0.0035881935618817806,
          0.003191670635715127,
          0.023799024522304535,
          -0.002660378348082304,
          -0.019747473299503326,
          -0.01974141038954258,
          -0.010937895625829697,
          -0.00008806008554529399,
          0.03796710819005966,
          0.03111836686730385,
          0.02688068151473999,
          0.14918693900108337,
          0.06171382963657379,
          -0.01766333170235157,
          -0.058896660804748535,
          -0.044729989022016525,
          -0.0440213568508625,
          -0.025449028238654137,
          -0.035536181181669235,
          -0.018489673733711243,
          0.019070852547883987,
          -0.13138148188591003,
          -0.14145545661449432,
          0.0052217342890799046,
          -0.027729805558919907,
          -0.07000020891427994,
          -0.06357787549495697,
          0.013162843883037567,
          -0.1292279064655304,
          -0.040448397397994995,
          -0.02021856978535652,
          0.07373297214508057,
          -0.06009542942047119,
          -0.011409941129386425,
          0.021545063704252243,
          0.24676696956157684,
          -0.05885300412774086,
          -0.05956922098994255,
          0.018205005675554276,
          0.011105821467936039,
          -0.009953184053301811,
          -0.054785147309303284,
          -0.05473525449633598,
          -0.062427815049886703,
          -0.02972705289721489,
          0.02454705908894539,
          -0.048947468400001526,
          0.02569408528506756,
          0.07235187292098999,
          -0.054815664887428284,
          -0.04096187651157379,
          -0.02408578060567379,
          -0.052859656512737274,
          0.014415060169994831,
          0.0008952102507464588,
          0.01051622349768877,
          -0.09505202621221542,
          -0.012862104922533035,
          -0.023474808782339096,
          -0.03164288029074669,
          -0.000752002582885325,
          -0.02885035239160061,
          -0.03414849564433098,
          -0.03035087138414383,
          -0.029109986498951912,
          -0.010662751272320747,
          -0.01277980301529169,
          -0.015240606851875782,
          -0.010095142759382725,
          -0.019517522305250168,
          0.2693921625614166,
          0.0017290045507252216,
          0.00032143242424353957,
          -0.05886826291680336,
          -0.034277938306331635,
          -0.06004652753472328,
          -0.01747194677591324,
          -0.008667660877108574,
          -0.04806624725461006,
          0.017893917858600616,
          -0.014866597019135952,
          -0.0388159453868866,
          0.009956630878150463,
          -0.07401791214942932,
          -0.06774227321147919,
          -0.05676762014627457,
          0.013918066397309303,
          0.05341771990060806,
          0.0003252162132412195,
          0.022413985803723335,
          -0.03815816342830658,
          -0.09574265033006668,
          0.08343397825956345,
          0.032277897000312805,
          0.009772107005119324,
          -0.0013484456576406956,
          -0.007591106928884983,
          -0.015481279231607914,
          -0.06798988580703735,
          0.08173859864473343,
          0.03356718644499779,
          -0.11794105917215347,
          -0.03559638187289238,
          0.23620007932186127,
          -0.020524725317955017,
          -0.02231103554368019,
          0.032023414969444275,
          -0.08763445168733597,
          0.26497241854667664,
          0.005554624367505312,
          -0.11343301087617874,
          0.11589038372039795,
          0.1667410433292389,
          0.17427577078342438,
          0.1438979059457779,
          0.11754275858402252,
          0.04921136051416397,
          -0.08285888284444809,
          -0.02435721829533577,
          0.08722339570522308,
          0.004294737242162228,
          -0.0018084668554365635,
          0.00543822580948472,
          0.09593483805656433,
          0.06119010969996452,
          0.10578978061676025,
          0.13203571736812592,
          -0.00280333636328578,
          0.0005496960948221385,
          0.005379756446927786,
          0.05878036469221115,
          -0.005668856669217348,
          -0.010571793653070927,
          -0.009611768648028374,
          -0.0030508998315781355,
          0.005881338845938444,
          0.1876804381608963,
          0.012201002798974514,
          -0.03321896865963936,
          -0.06912696361541748,
          -0.05570131540298462,
          0.09558079391717911,
          0.07410670816898346,
          0.027480531483888626,
          0.20937904715538025,
          0.0006866815965622663,
          -0.07212111353874207,
          0.07847626507282257,
          0.17711810767650604,
          -0.02092253975570202,
          -0.023048944771289825,
          -0.025898868218064308,
          -0.021037325263023376,
          0.001191035145893693,
          -0.003170653944835067,
          -0.003609201405197382,
          -0.004169152583926916,
          -0.0006099829915910959,
          0.04563894867897034,
          -0.05140581354498863,
          -0.014087491668760777,
          -0.004565661773085594,
          0.00041533668991178274,
          0.09096905589103699,
          -0.04576222226023674,
          0.01822148635983467,
          -0.09077351540327072,
          -0.06784336268901825,
          0.007229604292660952,
          0.035553544759750366,
          -0.014734935946762562,
          0.028181906789541245,
          -0.004811346065253019,
          -0.008328027091920376,
          0.01896490529179573,
          0.01152579765766859,
          -0.048161983489990234,
          0.06250660866498947,
          0.05073218420147896,
          0.03390393778681755,
          0.11020351201295853,
          0.05967755615711212,
          0.17251430451869965,
          0.006148179527372122,
          -0.0525335930287838,
          -0.10062813013792038,
          -0.07195904105901718,
          -0.11989784985780716,
          -0.024308590218424797,
          -0.029865549877285957,
          -0.02775566652417183,
          -0.016862619668245316,
          -0.00038927365676499903,
          0.042734548449516296,
          0.16281954944133759,
          0.025799211114645004,
          0.011104065924882889,
          0.0009759197128005326,
          -0.003995176870375872,
          -0.005491808522492647,
          -0.0076445951126515865,
          0.26102888584136963,
          -0.058734625577926636,
          -0.08923535794019699,
          -0.11984764784574509,
          -0.10799047350883484,
          -0.10715439170598984,
          -0.0490076020359993,
          -0.11450386792421341,
          -0.08350592851638794,
          0.002142965095117688,
          -0.012310677208006382,
          -0.029221683740615845,
          0.0150937894359231,
          0.01564355194568634
         ]
        }
       ],
       "layout": {
        "margin": {
         "b": 10,
         "l": 10,
         "r": 20,
         "t": 10
        },
        "scene": {
         "xaxis": {
          "title": {
           "text": "X-axis Title"
          }
         },
         "yaxis": {
          "title": {
           "text": "Y-axis Title"
          }
         },
         "zaxis": {
          "title": {
           "text": "Z-axis Title"
          }
         }
        },
        "template": {
         "data": {
          "bar": [
           {
            "error_x": {
             "color": "#2a3f5f"
            },
            "error_y": {
             "color": "#2a3f5f"
            },
            "marker": {
             "line": {
              "color": "#E5ECF6",
              "width": 0.5
             },
             "pattern": {
              "fillmode": "overlay",
              "size": 10,
              "solidity": 0.2
             }
            },
            "type": "bar"
           }
          ],
          "barpolar": [
           {
            "marker": {
             "line": {
              "color": "#E5ECF6",
              "width": 0.5
             },
             "pattern": {
              "fillmode": "overlay",
              "size": 10,
              "solidity": 0.2
             }
            },
            "type": "barpolar"
           }
          ],
          "carpet": [
           {
            "aaxis": {
             "endlinecolor": "#2a3f5f",
             "gridcolor": "white",
             "linecolor": "white",
             "minorgridcolor": "white",
             "startlinecolor": "#2a3f5f"
            },
            "baxis": {
             "endlinecolor": "#2a3f5f",
             "gridcolor": "white",
             "linecolor": "white",
             "minorgridcolor": "white",
             "startlinecolor": "#2a3f5f"
            },
            "type": "carpet"
           }
          ],
          "choropleth": [
           {
            "colorbar": {
             "outlinewidth": 0,
             "ticks": ""
            },
            "type": "choropleth"
           }
          ],
          "contour": [
           {
            "colorbar": {
             "outlinewidth": 0,
             "ticks": ""
            },
            "colorscale": [
             [
              0,
              "#0d0887"
             ],
             [
              0.1111111111111111,
              "#46039f"
             ],
             [
              0.2222222222222222,
              "#7201a8"
             ],
             [
              0.3333333333333333,
              "#9c179e"
             ],
             [
              0.4444444444444444,
              "#bd3786"
             ],
             [
              0.5555555555555556,
              "#d8576b"
             ],
             [
              0.6666666666666666,
              "#ed7953"
             ],
             [
              0.7777777777777778,
              "#fb9f3a"
             ],
             [
              0.8888888888888888,
              "#fdca26"
             ],
             [
              1,
              "#f0f921"
             ]
            ],
            "type": "contour"
           }
          ],
          "contourcarpet": [
           {
            "colorbar": {
             "outlinewidth": 0,
             "ticks": ""
            },
            "type": "contourcarpet"
           }
          ],
          "heatmap": [
           {
            "colorbar": {
             "outlinewidth": 0,
             "ticks": ""
            },
            "colorscale": [
             [
              0,
              "#0d0887"
             ],
             [
              0.1111111111111111,
              "#46039f"
             ],
             [
              0.2222222222222222,
              "#7201a8"
             ],
             [
              0.3333333333333333,
              "#9c179e"
             ],
             [
              0.4444444444444444,
              "#bd3786"
             ],
             [
              0.5555555555555556,
              "#d8576b"
             ],
             [
              0.6666666666666666,
              "#ed7953"
             ],
             [
              0.7777777777777778,
              "#fb9f3a"
             ],
             [
              0.8888888888888888,
              "#fdca26"
             ],
             [
              1,
              "#f0f921"
             ]
            ],
            "type": "heatmap"
           }
          ],
          "heatmapgl": [
           {
            "colorbar": {
             "outlinewidth": 0,
             "ticks": ""
            },
            "colorscale": [
             [
              0,
              "#0d0887"
             ],
             [
              0.1111111111111111,
              "#46039f"
             ],
             [
              0.2222222222222222,
              "#7201a8"
             ],
             [
              0.3333333333333333,
              "#9c179e"
             ],
             [
              0.4444444444444444,
              "#bd3786"
             ],
             [
              0.5555555555555556,
              "#d8576b"
             ],
             [
              0.6666666666666666,
              "#ed7953"
             ],
             [
              0.7777777777777778,
              "#fb9f3a"
             ],
             [
              0.8888888888888888,
              "#fdca26"
             ],
             [
              1,
              "#f0f921"
             ]
            ],
            "type": "heatmapgl"
           }
          ],
          "histogram": [
           {
            "marker": {
             "pattern": {
              "fillmode": "overlay",
              "size": 10,
              "solidity": 0.2
             }
            },
            "type": "histogram"
           }
          ],
          "histogram2d": [
           {
            "colorbar": {
             "outlinewidth": 0,
             "ticks": ""
            },
            "colorscale": [
             [
              0,
              "#0d0887"
             ],
             [
              0.1111111111111111,
              "#46039f"
             ],
             [
              0.2222222222222222,
              "#7201a8"
             ],
             [
              0.3333333333333333,
              "#9c179e"
             ],
             [
              0.4444444444444444,
              "#bd3786"
             ],
             [
              0.5555555555555556,
              "#d8576b"
             ],
             [
              0.6666666666666666,
              "#ed7953"
             ],
             [
              0.7777777777777778,
              "#fb9f3a"
             ],
             [
              0.8888888888888888,
              "#fdca26"
             ],
             [
              1,
              "#f0f921"
             ]
            ],
            "type": "histogram2d"
           }
          ],
          "histogram2dcontour": [
           {
            "colorbar": {
             "outlinewidth": 0,
             "ticks": ""
            },
            "colorscale": [
             [
              0,
              "#0d0887"
             ],
             [
              0.1111111111111111,
              "#46039f"
             ],
             [
              0.2222222222222222,
              "#7201a8"
             ],
             [
              0.3333333333333333,
              "#9c179e"
             ],
             [
              0.4444444444444444,
              "#bd3786"
             ],
             [
              0.5555555555555556,
              "#d8576b"
             ],
             [
              0.6666666666666666,
              "#ed7953"
             ],
             [
              0.7777777777777778,
              "#fb9f3a"
             ],
             [
              0.8888888888888888,
              "#fdca26"
             ],
             [
              1,
              "#f0f921"
             ]
            ],
            "type": "histogram2dcontour"
           }
          ],
          "mesh3d": [
           {
            "colorbar": {
             "outlinewidth": 0,
             "ticks": ""
            },
            "type": "mesh3d"
           }
          ],
          "parcoords": [
           {
            "line": {
             "colorbar": {
              "outlinewidth": 0,
              "ticks": ""
             }
            },
            "type": "parcoords"
           }
          ],
          "pie": [
           {
            "automargin": true,
            "type": "pie"
           }
          ],
          "scatter": [
           {
            "fillpattern": {
             "fillmode": "overlay",
             "size": 10,
             "solidity": 0.2
            },
            "type": "scatter"
           }
          ],
          "scatter3d": [
           {
            "line": {
             "colorbar": {
              "outlinewidth": 0,
              "ticks": ""
             }
            },
            "marker": {
             "colorbar": {
              "outlinewidth": 0,
              "ticks": ""
             }
            },
            "type": "scatter3d"
           }
          ],
          "scattercarpet": [
           {
            "marker": {
             "colorbar": {
              "outlinewidth": 0,
              "ticks": ""
             }
            },
            "type": "scattercarpet"
           }
          ],
          "scattergeo": [
           {
            "marker": {
             "colorbar": {
              "outlinewidth": 0,
              "ticks": ""
             }
            },
            "type": "scattergeo"
           }
          ],
          "scattergl": [
           {
            "marker": {
             "colorbar": {
              "outlinewidth": 0,
              "ticks": ""
             }
            },
            "type": "scattergl"
           }
          ],
          "scattermapbox": [
           {
            "marker": {
             "colorbar": {
              "outlinewidth": 0,
              "ticks": ""
             }
            },
            "type": "scattermapbox"
           }
          ],
          "scatterpolar": [
           {
            "marker": {
             "colorbar": {
              "outlinewidth": 0,
              "ticks": ""
             }
            },
            "type": "scatterpolar"
           }
          ],
          "scatterpolargl": [
           {
            "marker": {
             "colorbar": {
              "outlinewidth": 0,
              "ticks": ""
             }
            },
            "type": "scatterpolargl"
           }
          ],
          "scatterternary": [
           {
            "marker": {
             "colorbar": {
              "outlinewidth": 0,
              "ticks": ""
             }
            },
            "type": "scatterternary"
           }
          ],
          "surface": [
           {
            "colorbar": {
             "outlinewidth": 0,
             "ticks": ""
            },
            "colorscale": [
             [
              0,
              "#0d0887"
             ],
             [
              0.1111111111111111,
              "#46039f"
             ],
             [
              0.2222222222222222,
              "#7201a8"
             ],
             [
              0.3333333333333333,
              "#9c179e"
             ],
             [
              0.4444444444444444,
              "#bd3786"
             ],
             [
              0.5555555555555556,
              "#d8576b"
             ],
             [
              0.6666666666666666,
              "#ed7953"
             ],
             [
              0.7777777777777778,
              "#fb9f3a"
             ],
             [
              0.8888888888888888,
              "#fdca26"
             ],
             [
              1,
              "#f0f921"
             ]
            ],
            "type": "surface"
           }
          ],
          "table": [
           {
            "cells": {
             "fill": {
              "color": "#EBF0F8"
             },
             "line": {
              "color": "white"
             }
            },
            "header": {
             "fill": {
              "color": "#C8D4E3"
             },
             "line": {
              "color": "white"
             }
            },
            "type": "table"
           }
          ]
         },
         "layout": {
          "annotationdefaults": {
           "arrowcolor": "#2a3f5f",
           "arrowhead": 0,
           "arrowwidth": 1
          },
          "autotypenumbers": "strict",
          "coloraxis": {
           "colorbar": {
            "outlinewidth": 0,
            "ticks": ""
           }
          },
          "colorscale": {
           "diverging": [
            [
             0,
             "#8e0152"
            ],
            [
             0.1,
             "#c51b7d"
            ],
            [
             0.2,
             "#de77ae"
            ],
            [
             0.3,
             "#f1b6da"
            ],
            [
             0.4,
             "#fde0ef"
            ],
            [
             0.5,
             "#f7f7f7"
            ],
            [
             0.6,
             "#e6f5d0"
            ],
            [
             0.7,
             "#b8e186"
            ],
            [
             0.8,
             "#7fbc41"
            ],
            [
             0.9,
             "#4d9221"
            ],
            [
             1,
             "#276419"
            ]
           ],
           "sequential": [
            [
             0,
             "#0d0887"
            ],
            [
             0.1111111111111111,
             "#46039f"
            ],
            [
             0.2222222222222222,
             "#7201a8"
            ],
            [
             0.3333333333333333,
             "#9c179e"
            ],
            [
             0.4444444444444444,
             "#bd3786"
            ],
            [
             0.5555555555555556,
             "#d8576b"
            ],
            [
             0.6666666666666666,
             "#ed7953"
            ],
            [
             0.7777777777777778,
             "#fb9f3a"
            ],
            [
             0.8888888888888888,
             "#fdca26"
            ],
            [
             1,
             "#f0f921"
            ]
           ],
           "sequentialminus": [
            [
             0,
             "#0d0887"
            ],
            [
             0.1111111111111111,
             "#46039f"
            ],
            [
             0.2222222222222222,
             "#7201a8"
            ],
            [
             0.3333333333333333,
             "#9c179e"
            ],
            [
             0.4444444444444444,
             "#bd3786"
            ],
            [
             0.5555555555555556,
             "#d8576b"
            ],
            [
             0.6666666666666666,
             "#ed7953"
            ],
            [
             0.7777777777777778,
             "#fb9f3a"
            ],
            [
             0.8888888888888888,
             "#fdca26"
            ],
            [
             1,
             "#f0f921"
            ]
           ]
          },
          "colorway": [
           "#636efa",
           "#EF553B",
           "#00cc96",
           "#ab63fa",
           "#FFA15A",
           "#19d3f3",
           "#FF6692",
           "#B6E880",
           "#FF97FF",
           "#FECB52"
          ],
          "font": {
           "color": "#2a3f5f"
          },
          "geo": {
           "bgcolor": "white",
           "lakecolor": "white",
           "landcolor": "#E5ECF6",
           "showlakes": true,
           "showland": true,
           "subunitcolor": "white"
          },
          "hoverlabel": {
           "align": "left"
          },
          "hovermode": "closest",
          "mapbox": {
           "style": "light"
          },
          "paper_bgcolor": "white",
          "plot_bgcolor": "#E5ECF6",
          "polar": {
           "angularaxis": {
            "gridcolor": "white",
            "linecolor": "white",
            "ticks": ""
           },
           "bgcolor": "#E5ECF6",
           "radialaxis": {
            "gridcolor": "white",
            "linecolor": "white",
            "ticks": ""
           }
          },
          "scene": {
           "xaxis": {
            "backgroundcolor": "#E5ECF6",
            "gridcolor": "white",
            "gridwidth": 2,
            "linecolor": "white",
            "showbackground": true,
            "ticks": "",
            "zerolinecolor": "white"
           },
           "yaxis": {
            "backgroundcolor": "#E5ECF6",
            "gridcolor": "white",
            "gridwidth": 2,
            "linecolor": "white",
            "showbackground": true,
            "ticks": "",
            "zerolinecolor": "white"
           },
           "zaxis": {
            "backgroundcolor": "#E5ECF6",
            "gridcolor": "white",
            "gridwidth": 2,
            "linecolor": "white",
            "showbackground": true,
            "ticks": "",
            "zerolinecolor": "white"
           }
          },
          "shapedefaults": {
           "line": {
            "color": "#2a3f5f"
           }
          },
          "ternary": {
           "aaxis": {
            "gridcolor": "white",
            "linecolor": "white",
            "ticks": ""
           },
           "baxis": {
            "gridcolor": "white",
            "linecolor": "white",
            "ticks": ""
           },
           "bgcolor": "#E5ECF6",
           "caxis": {
            "gridcolor": "white",
            "linecolor": "white",
            "ticks": ""
           }
          },
          "title": {
           "x": 0.05
          },
          "xaxis": {
           "automargin": true,
           "gridcolor": "white",
           "linecolor": "white",
           "ticks": "",
           "title": {
            "standoff": 15
           },
           "zerolinecolor": "white",
           "zerolinewidth": 2
          },
          "yaxis": {
           "automargin": true,
           "gridcolor": "white",
           "linecolor": "white",
           "ticks": "",
           "title": {
            "standoff": 15
           },
           "zerolinecolor": "white",
           "zerolinewidth": 2
          }
         }
        },
        "width": 700
       }
      },
      "text/html": [
       "<div>                            <div id=\"b6030690-e404-435f-bdb7-6e9cc9e3445b\" class=\"plotly-graph-div\" style=\"height:525px; width:700px;\"></div>            <script type=\"text/javascript\">                require([\"plotly\"], function(Plotly) {                    window.PLOTLYENV=window.PLOTLYENV || {};                                    if (document.getElementById(\"b6030690-e404-435f-bdb7-6e9cc9e3445b\")) {                    Plotly.newPlot(                        \"b6030690-e404-435f-bdb7-6e9cc9e3445b\",                        [{\"marker\":{\"size\":1.5},\"mode\":\"markers\",\"x\":[0.496065616607666,0.49180376529693604,0.49291664361953735,0.4697776436805725,0.49097076058387756,0.4904230237007141,0.4896012842655182,0.3179904520511627,0.4878595173358917,0.4869283139705658,0.4834662079811096,0.4964708089828491,0.49680888652801514,0.49722373485565186,0.4983004331588745,0.49895966053009033,0.4995104968547821,0.5001537203788757,0.4996998608112335,0.49236637353897095,0.47017019987106323,0.21779558062553406,0.38901740312576294,0.3634485602378845,0.33905118703842163,0.3083457946777344,0.41069847345352173,0.3458947539329529,0.3763447403907776,0.3192434310913086,0.3035329580307007,0.28741365671157837,0.41663697361946106,0.30946141481399536,0.21498563885688782,0.25898948311805725,0.37223249673843384,0.4684605002403259,0.4725835919380188,0.4430833160877228,0.42662185430526733,0.45238038897514343,0.4368525743484497,0.392286092042923,0.4717969000339508,0.467806875705719,0.26347434520721436,0.41955363750457764,0.41889601945877075,0.41721001267433167,0.29876160621643066,0.46842291951179504,0.3178045153617859,0.284298837184906,0.2381504774093628,0.4326185882091522,0.4030568599700928,0.37377816438674927,0.2680668234825134,0.4374805986881256,0.4561067223548889,0.40686798095703125,0.41279032826423645,0.269838809967041,0.4186566472053528,0.3662872910499573,0.35972076654434204,0.33591970801353455,0.2567209303379059,0.35346412658691406,0.24933567643165588,0.2339252531528473,0.4699884057044983,0.4476322531700134,0.43146488070487976,0.4431259334087372,0.40992486476898193,0.41999995708465576,0.41579681634902954,0.4470999538898468,0.44115787744522095,0.45642417669296265,0.4752078652381897,0.46851131319999695,0.4702122211456299,0.47117364406585693,0.4731612801551819,0.47574853897094727,0.4415886402130127,0.4367021322250366,0.4312698543071747,0.42692774534225464,0.3975335955619812,0.22749996185302734,0.4926505386829376,0.4301443099975586,0.42512673139572144,0.46346336603164673,0.4275587499141693,0.45996177196502686,0.394004225730896,0.35373225808143616,0.41376155614852905,0.27551841735839844,0.29459086060523987,0.30756115913391113,0.412422776222229,0.4212048649787903,0.4149433970451355,0.4030134081840515,0.31933432817459106,0.26152846217155457,0.42472028732299805,0.2800249457359314,0.4359467327594757,0.4316619634628296,0.23633617162704468,0.277819961309433,0.309408962726593,0.3579179048538208,0.3936010003089905,0.4195728898048401,0.4664614498615265,0.24536150693893433,0.25990405678749084,0.48021799325942993,0.4232562482357025,0.20928707718849182,0.43841925263404846,0.41199612617492676,0.29808738827705383,0.43070951104164124,0.24459922313690186,0.4249793291091919,0.4486277997493744,0.32122644782066345,0.32732266187667847,0.2277931571006775,0.2900881767272949,0.22296270728111267,0.41537410020828247,0.48304516077041626,0.40165814757347107,0.2401844561100006,0.3409176468849182,0.3620743751525879,0.4153648614883423,0.2569604218006134,0.4581429660320282,0.3923209607601166,0.3632688522338867,0.4850793480873108,0.5046466588973999,0.38377851247787476,0.40446099638938904,0.41821080446243286,0.24376940727233887,0.40051454305648804,0.3775120973587036,0.3547932803630829,0.3334474563598633,0.3211483955383301,0.20928439497947693,0.3271702527999878,0.49368563294410706,0.41992801427841187,0.4371730089187622,0.46190565824508667,0.4888228476047516,0.35340946912765503,0.3838551342487335,0.45503348112106323,0.2967488765716553,0.41711726784706116,0.451993465423584,0.5037997364997864,0.4227693974971771,0.24323153495788574,0.4569568932056427,0.4522841274738312,0.4482244849205017,0.4454917311668396,0.4373472034931183,0.42460161447525024,0.41942068934440613,0.41508573293685913,0.3811302185058594,0.2874678373336792,0.4514664113521576,0.43996307253837585,0.4262993335723877,0.4293324947357178,0.29369479417800903,0.45883074402809143,0.4259171485900879,0.49021148681640625,0.46798020601272583,0.48998183012008667,0.4369335174560547,0.502543568611145,0.5011579394340515,0.46206367015838623,0.3720588684082031,0.39203765988349915,0.39705440402030945,0.33575618267059326,0.37078529596328735,0.32003480195999146,0.4559105634689331,0.4242778718471527,0.3557223677635193,0.38654759526252747,0.3513909578323364,0.2693164050579071,0.32474422454833984,0.2618536949157715,0.3549186587333679,0.4380221366882324,0.439504474401474,0.426628440618515,0.4481593370437622,0.41729703545570374,0.37252122163772583,0.3341650068759918,0.30438756942749023,0.2861911654472351,0.2810863256454468,0.21730917692184448,0.3010581135749817,0.326383113861084,0.3602377772331238,0.39223772287368774,0.4168146848678589,0.4334026873111725,0.21656575798988342,0.42752134799957275,0.4519782066345215,0.455174058675766,0.4680700898170471,0.45568525791168213,0.43436622619628906,0.4726743996143341,0.4755287170410156,0.4333488941192627,0.4455273449420929,0.4517596662044525,0.31446897983551025,0.2948533892631531,0.5113846063613892,0.6692583560943604,0.5153188705444336,0.7585722208023071,0.6009157299995422,0.6261561512947083,0.6499510407447815,0.6795592308044434,0.5787772536277771,0.6338216066360474,0.6040339469909668,0.6613966822624207,0.6789551973342896,0.7017573118209839,0.5886188745498657,0.6772727966308594,0.7716721296310425,0.7291659712791443,0.6166025400161743,0.5235984325408936,0.5212329030036926,0.5501391291618347,0.5673788189888,0.541907548904419,0.5579407215118408,0.6044497489929199,0.5119080543518066,0.5146023035049438,0.7135089039802551,0.5653937458992004,0.5671853423118591,0.5687555074691772,0.691969633102417,0.5128671526908875,0.6529028415679932,0.6886561512947083,0.7350839376449585,0.5413616895675659,0.5792797803878784,0.6213713884353638,0.7369465827941895,0.5488976240158081,0.5303655862808228,0.5893418192863464,0.5835059881210327,0.7014053463935852,0.5681793689727783,0.6049939393997192,0.6079854965209961,0.6330482363700867,0.717953622341156,0.6179440021514893,0.7275491952896118,0.7439031600952148,0.5230356454849243,0.5461419224739075,0.5629786252975464,0.5434116125106812,0.5863242149353027,0.5771558880805969,0.5804648995399475,0.5381770133972168,0.553911030292511,0.538321852684021,0.5194568037986755,0.5314548015594482,0.5299434065818787,0.5275630354881287,0.5244241952896118,0.5207319855690002,0.5546252131462097,0.5604544878005981,0.5666434168815613,0.5717859268188477,0.5941420197486877,0.768427848815918,0.5659922361373901,0.5715972781181335,0.5234245657920837,0.5603026747703552,0.5266834497451782,0.5919584631919861,0.6340539455413818,0.5731905698776245,0.6956363320350647,0.6780374050140381,0.660557746887207,0.5858791470527649,0.5473333597183228,0.5558700561523438,0.5645381212234497,0.6692695617675781,0.729922890663147,0.5638517141342163,0.7034162878990173,0.5478672385215759,0.5532719492912292,0.7527430057525635,0.7137417793273926,0.6818563938140869,0.6332598924636841,0.597268283367157,0.5700887441635132,0.5139063596725464,0.7470803260803223,0.7229733467102051,0.5046382546424866,0.5621575713157654,0.7771488428115845,0.5494254231452942,0.5753239989280701,0.6888485550880432,0.5538672208786011,0.7562069892883301,0.5623676180839539,0.5341803431510925,0.6845075488090515,0.682099461555481,0.7666360139846802,0.7143467664718628,0.7587713003158569,0.5923391580581665,0.5022876262664795,0.585063636302948,0.7509679794311523,0.6469582319259644,0.6259897947311401,0.5822352170944214,0.7392998337745667,0.5513142347335815,0.617810070514679,0.6469876766204834,0.6045932769775391,0.5837259888648987,0.569604218006134,0.7400617003440857,0.5845588445663452,0.6064674854278564,0.6292054057121277,0.6510717868804932,0.6640770435333252,0.7712588310241699,0.6604256629943848,0.570616602897644,0.5488605499267578,0.5267180800437927,0.65313321352005,0.6234791278839111,0.552829384803772,0.7111763954162598,0.5691161751747131,0.5305165648460388,0.587061882019043,0.7551389336585999,0.5393826365470886,0.5450751781463623,0.5502557754516602,0.5543950200080872,0.5619938969612122,0.5711390376091003,0.5759971737861633,0.580166757106781,0.6119968891143799,0.7080483436584473,0.5304757356643677,0.5441484451293945,0.5592342019081116,0.5664718151092529,0.7066550254821777,0.5214241743087769,0.5767201781272888,0.5129154324531555,0.5473581552505493,0.5408095121383667,0.6273006796836853,0.596849799156189,0.604343593120575,0.6560471057891846,0.6207131147384644,0.6750174760818481,0.5496376752853394,0.5613095164299011,0.6472671031951904,0.6179192662239075,0.6459508538246155,0.7300324440002441,0.6757097244262695,0.7400550842285156,0.6389790773391724,0.545846164226532,0.5455834865570068,0.5594936013221741,0.53529953956604,0.5628097057342529,0.6039193272590637,0.6414788961410522,0.6723721027374268,0.6933648586273193,0.706061065196991,0.7732118368148804,0.6887562274932861,0.6637181043624878,0.6302443146705627,0.5982645153999329,0.573112964630127,0.5555393099784851,0.77484130859375,0.5589801073074341,0.5304555296897888,0.528988778591156,0.5170386433601379,0.5291695594787598,0.5527822375297546,0.5122953653335571,0.5097936391830444,0.5541749000549316,0.5415146350860596,0.5333904027938843,0.6713560223579407,0.689372181892395],\"y\":[0.7072416543960571,0.6460850834846497,0.6627569794654846,0.573777973651886,0.6247979402542114,0.5954185128211975,0.5217866897583008,0.5098336935043335,0.466214656829834,0.43723973631858826,0.32641109824180603,0.7139753103256226,0.7207310199737549,0.7251602411270142,0.7365389466285706,0.7460125684738159,0.7573865652084351,0.7686770558357239,0.7819548845291138,0.6557273268699646,0.6541151404380798,0.42298007011413574,0.530131459236145,0.5314365029335022,0.5302810072898865,0.5179328918457031,0.5259895324707031,0.4702942669391632,0.4726243019104004,0.4743052124977112,0.48254066705703735,0.531814694404602,0.8057236671447754,0.5041651725769043,0.5154155492782593,0.5166890025138855,0.6204366683959961,0.7028836607933044,0.7197413444519043,0.7099080085754395,0.7166838645935059,0.720629096031189,0.7227005362510681,0.7457122802734375,0.6455910205841064,0.6250443458557129,0.46588441729545593,0.5670532584190369,0.6365891098976135,0.6244970560073853,0.6163146495819092,0.5976953506469727,0.4442141056060791,0.45128315687179565,0.3867453336715698,0.4633292257785797,0.48195797204971313,0.7265805006027222,0.7019145488739014,0.6484946012496948,0.6541392803192139,0.7270757555961609,0.7270805835723877,0.43741437792778015,0.6444723606109619,0.4463983178138733,0.4290858805179596,0.33821901679039,0.4110724925994873,0.3824891448020935,0.45578259229660034,0.43957221508026123,0.712321937084198,0.71577388048172,0.7198551297187805,0.6516448259353638,0.7271091341972351,0.7328224778175354,0.7270765900611877,0.6435937285423279,0.7245293855667114,0.7236031293869019,0.7239983081817627,0.781499445438385,0.7661575675010681,0.7549152970314026,0.7436319589614868,0.7348124980926514,0.7302677035331726,0.7341548800468445,0.7395235896110535,0.7456193566322327,0.6947634220123291,0.6012507677078247,0.6591187119483948,0.7287406325340271,0.7305572032928467,0.6616341471672058,0.6553215980529785,0.6579740047454834,0.57891845703125,0.5930393934249878,0.6327309608459473,0.3575937747955322,0.3908894658088684,0.42717742919921875,0.7594459056854248,0.43487316370010376,0.3810611367225647,0.3288363516330719,0.5258908271789551,0.5466628074645996,0.521515429019928,0.49147164821624756,0.553650438785553,0.630323588848114,0.5590887069702148,0.5625447630882263,0.5714487433433533,0.5685858726501465,0.5601898431777954,0.5507175922393799,0.5267586708068848,0.6036863327026367,0.4887550473213196,0.6551300287246704,0.589262068271637,0.5093675851821899,0.539879322052002,0.6326258778572083,0.5053274035453796,0.6155786514282227,0.6507209539413452,0.5139541625976562,0.6043893098831177,0.7557461857795715,0.7732400894165039,0.6031132340431213,0.727941632270813,0.4743727445602417,0.8210079073905945,0.6584517359733582,0.6040266156196594,0.5196656584739685,0.5171691179275513,0.5190562605857849,0.7356195449829102,0.6445587873458862,0.8437671661376953,0.8174795508384705,0.7995161414146423,0.3813890218734741,0.8469591736793518,0.5181819796562195,0.5160030126571655,0.5152139067649841,0.4837343096733093,0.4977102279663086,0.49102330207824707,0.4896017611026764,0.492565780878067,0.4973534047603607,0.4617542624473572,0.5136702060699463,0.6779712438583374,0.6843704581260681,0.6457979083061218,0.6791372299194336,0.4929436445236206,0.7817623019218445,0.8011985421180725,0.8355101943016052,0.7430778741836548,0.5074205994606018,0.5619217753410339,0.8380851745605469,0.8331574201583862,0.648027241230011,0.7323846817016602,0.7389938235282898,0.7475558519363403,0.7575476169586182,0.7723449468612671,0.7248965501785278,0.7236322164535522,0.7220664620399475,0.7093114256858826,0.6587300300598145,0.538690984249115,0.4975699186325073,0.4999473989009857,0.7258493304252625,0.7041558027267456,0.4974871575832367,0.7886819839477539,0.5706347823143005,0.5516244173049927,0.5472667217254639,0.5957819819450378,0.8225192427635193,0.8013522028923035,0.800241231918335,0.7519880533218384,0.6483196020126343,0.7727671265602112,0.6443977355957031,0.6684180498123169,0.6758060455322266,0.820655345916748,0.6067861318588257,0.7639759182929993,0.7854641675949097,0.7276691794395447,0.6781702637672424,0.7278240323066711,0.6893927454948425,0.6935939192771912,0.5752072930335999,0.6402290463447571,0.6439005732536316,0.6269920468330383,0.47753047943115234,0.46344488859176636,0.461337149143219,0.4660605490207672,0.47574448585510254,0.5108283162117004,0.5589885711669922,0.5412881970405579,0.5481168031692505,0.5484194159507751,0.5439355373382568,0.5376588702201843,0.5312855243682861,0.5547147989273071,0.6483978033065796,0.5827364325523376,0.6423653960227966,0.6513733267784119,0.64499831199646,0.6535892486572266,0.6536699533462524,0.6571325063705444,0.5150822997093201,0.5198805928230286,0.5236917734146118,0.5009875297546387,0.4921298325061798,0.5732186436653137,0.5087543725967407,0.6534130573272705,0.41716641187667847,0.5315910577774048,0.532161295413971,0.5299330949783325,0.5153281092643738,0.5277195572853088,0.4691157639026642,0.4727216958999634,0.47173911333084106,0.47912007570266724,0.527955949306488,0.8038139343261719,0.5016629695892334,0.510089099407196,0.511056125164032,0.6174407601356506,0.7024502158164978,0.719490647315979,0.709242582321167,0.7159332633018494,0.7202324271202087,0.7221921682357788,0.7425282597541809,0.6450619697570801,0.6244550347328186,0.46031349897384644,0.5652262568473816,0.6348761916160583,0.6226808428764343,0.6117343306541443,0.5970597863197327,0.44298213720321655,0.4475075602531433,0.38124120235443115,0.4651602506637573,0.48328620195388794,0.7230191230773926,0.6968748569488525,0.6471323370933533,0.6532384753227234,0.7266401052474976,0.7266740798950195,0.43315958976745605,0.6427670121192932,0.4471679925918579,0.4303862750530243,0.3349616825580597,0.4062337577342987,0.37964147329330444,0.44968682527542114,0.434606671333313,0.7119812965393066,0.7152804136276245,0.719174861907959,0.6504290699958801,0.7267090082168579,0.7325465679168701,0.7266407012939453,0.642397940158844,0.7240543365478516,0.7232223749160767,0.7238199710845947,0.780598521232605,0.7661514282226562,0.7547987699508667,0.7435031533241272,0.7347592115402222,0.7300153374671936,0.7339085340499878,0.7393285036087036,0.7454246878623962,0.6920605301856995,0.5955058932304382,0.7284332513809204,0.7302656173706055,0.660889208316803,0.6538339257240295,0.6571964025497437,0.5765395760536194,0.5897350907325745,0.63099205493927,0.3529607653617859,0.38687583804130554,0.4259824752807617,0.756879448890686,0.4377644658088684,0.37950965762138367,0.32698217034339905,0.5245451331138611,0.5417032837867737,0.5236830711364746,0.48677965998649597,0.5522035956382751,0.6288989782333374,0.5538903474807739,0.5581502318382263,0.5677081942558289,0.5659769177436829,0.5585509538650513,0.5501326322555542,0.5261933207511902,0.5984511375427246,0.48317015171051025,0.6547397375106812,0.5874314904212952,0.5032684206962585,0.5403414368629456,0.6307969093322754,0.5018025040626526,0.6140462160110474,0.6452333927154541,0.5164622068405151,0.6032636761665344,0.7521694898605347,0.7695496082305908,0.5976831912994385,0.7235743999481201,0.46912339329719543,0.8192583322525024,0.658148467540741,0.6017922759056091,0.513231098651886,0.51860111951828,0.5213939547538757,0.7352634072303772,0.6392158269882202,0.8426603078842163,0.8147923946380615,0.7965025305747986,0.520832896232605,0.518672525882721,0.5179644227027893,0.4770452678203583,0.4985086917877197,0.4907083511352539,0.4887608289718628,0.49100399017333984,0.4952637553215027,0.455682635307312,0.5138481855392456,0.6823143362998962,0.6443650126457214,0.678383469581604,0.77898770570755,0.7990343570709229,0.8345516920089722,0.7386535406112671,0.5094567537307739,0.5608450174331665,0.8310592770576477,0.6426840424537659,0.7321596741676331,0.7387758493423462,0.7474133372306824,0.757482647895813,0.7702677845954895,0.7242759466171265,0.7229677438735962,0.7213426828384399,0.7060311436653137,0.6537156105041504,0.5377366542816162,0.5000711679458618,0.5023276209831238,0.7253047227859497,0.6993791460990906,0.49993598461151123,0.7867466807365417,0.5509880185127258,0.594394862651825,0.799221396446228,0.7490280270576477,0.6458255052566528,0.7702485918998718,0.6403345465660095,0.6651747822761536,0.6713789701461792,0.8197015523910522,0.6050076484680176,0.7608996033668518,0.7830756902694702,0.7242212295532227,0.6729774475097656,0.7238636016845703,0.6843312382698059,0.6899467706680298,0.5738077163696289,0.6388920545578003,0.6423633098602295,0.6259204149246216,0.4795752763748169,0.4641629457473755,0.46012547612190247,0.46301254630088806,0.47145989537239075,0.5062594413757324,0.5535721182823181,0.538122296333313,0.5458669066429138,0.5472856163978577,0.5436850786209106,0.5381274819374084,0.532301664352417,0.5487415790557861,0.6468504071235657,0.5816603899002075,0.6414094567298889,0.6507245302200317,0.6441270709037781,0.6521784067153931,0.6530722379684448,0.6565709710121155,0.5174919366836548,0.5216847658157349,0.5253111124038696,0.4986133277416229,0.4883568286895752],\"z\":[-0.06158304959535599,-0.13334520161151886,-0.06526663154363632,-0.10703064501285553,-0.14414632320404053,-0.13697201013565063,-0.0778789073228836,0.02434643544256687,-0.06723201274871826,-0.07663681358098984,-0.06287308782339096,-0.05731005594134331,-0.04790424555540085,-0.0339956171810627,-0.031608015298843384,-0.03264443576335907,-0.03592192754149437,-0.029682444408535957,-0.0010945539688691497,-0.1192522943019867,-0.08377210050821304,0.13459132611751556,-0.0018720428925007582,0.0005463289562612772,0.008063462562859058,0.029595836997032166,0.0001476058387197554,-0.015184024348855019,-0.016056738793849945,-0.005754296667873859,0.0055982633493840694,0.04398152604699135,0.03352154418826103,0.03247404471039772,0.15738078951835632,0.06841503083705902,-0.014365690760314465,-0.05789153277873993,-0.04384024441242218,-0.04196087643504143,-0.022758176550269127,-0.03372740373015404,-0.016216397285461426,0.022534165531396866,-0.13094542920589447,-0.14090514183044434,0.01175379753112793,-0.02548198774456978,-0.06796382367610931,-0.061491068452596664,0.018749916926026344,-0.12855856120586395,-0.03609205782413483,-0.014564970508217812,0.07910849899053574,-0.058718208223581314,-0.008332237601280212,0.025614557787775993,0.2519727051258087,-0.05717805400490761,-0.058775272220373154,0.02179371379315853,0.014202668331563473,-0.00391738535836339,-0.05281258746981621,-0.05157405883073807,-0.0591757632791996,-0.026552198454737663,0.03108374960720539,-0.04530452564358711,0.03264201432466507,0.07983767986297607,-0.05378953740000725,-0.03899037092924118,-0.02158600278198719,-0.05167105421423912,0.01773318089544773,0.003640941809862852,0.013460147194564342,-0.09371741116046906,-0.010793887078762054,-0.021893909201025963,-0.03079874813556671,1.9802710085059516e-05,-0.02816084213554859,-0.033360786736011505,-0.029600266367197037,-0.028397373855113983,-0.008679472841322422,-0.010892260819673538,-0.013404720462858677,-0.00805442314594984,-0.016284344717860222,0.27524295449256897,-0.08446124941110611,0.004324671812355518,0.00294039910659194,-0.05802476033568382,-0.03270762041211128,-0.05924185365438461,-0.014566951431334019,-0.004653805401176214,-0.045922353863716125,0.022271115332841873,-0.00952486414462328,-0.033979374915361404,0.012576245702803135,-0.07241512089967728,-0.06589895486831665,-0.05515115335583687,0.019458793103694916,0.06017496809363365,0.002872371580451727,0.028674859553575516,-0.036329273134469986,-0.09419584274291992,0.09104770421981812,0.038591187447309494,0.015241386368870735,0.002780395559966564,-0.004464591387659311,-0.013112547807395458,-0.0672207623720169,0.08924625813961029,0.04044168442487717,-0.11762931942939758,-0.03355688601732254,0.24230721592903137,-0.018737899139523506,-0.020349744707345963,0.03781890496611595,-0.0860995203256607,0.2704816460609436,0.008136062882840633,-0.11227623373270035,0.12178346514701843,0.17087876796722412,0.18259687721729279,0.15071448683738708,0.12534065544605255,0.05191909149289131,-0.0826430469751358,-0.021897004917263985,0.09462057054042816,0.00896456092596054,0.0023830898571759462,0.008386370725929737,0.10303998738527298,0.06218913570046425,0.10874956846237183,0.13560518622398376,-0.07265761494636536,0.054861001670360565,0.0008035702048800886,0.003674451494589448,0.008236740715801716,0.06600867956876755,-0.002422763966023922,-0.006780928000807762,-0.005197064485400915,0.00199956470169127,0.01112181507050991,0.1936357319355011,0.01728683151304722,-0.05765416473150253,-0.030877288430929184,-0.06774754822254181,-0.05467984825372696,-0.06292541325092316,0.10031548887491226,0.07787089049816132,0.02903328463435173,0.21426858007907867,0.0036250760313123465,-0.07087192684412003,0.022737888619303703,0.08058953285217285,0.18485964834690094,-0.019627107307314873,-0.021701475605368614,-0.024471651762723923,-0.01960596814751625,0.0029545247089117765,-0.00027994238189421594,-0.000495609943754971,-0.0008377257036045194,0.003318129340186715,0.05178902670741081,-0.050032008439302444,-0.012294269166886806,-0.0021522818133234978,0.002961520804092288,0.09716358780860901,-0.04490846395492554,0.020282968878746033,-0.11632983386516571,-0.09004847705364227,-0.09660594165325165,-0.06637412309646606,0.006146518513560295,0.003284630598500371,0.008271578699350357,0.039472855627536774,-0.011933634988963604,0.031190264970064163,-0.00041327174403704703,-0.004716003779321909,0.0240878164768219,0.012938858941197395,-0.046341244131326675,0.06695406138896942,0.0540691576898098,0.03855014592409134,0.11691883951425552,0.06505289673805237,0.17995017766952515,0.010678286664187908,-0.05090098828077316,-0.09919171780347824,-0.07021418958902359,-0.11855780333280563,-0.021817658096551895,-0.026451483368873596,-0.02350352331995964,-0.011652654968202114,0.005462433211505413,0.04884449020028114,0.17135916650295258,0.03158852830529213,0.016150377690792084,0.005109934601932764,-0.0007541743689216673,-0.003059374401345849,-0.005664443597197533,0.2672775089740753,-0.05702804774045944,-0.08801037818193436,-0.11894962191581726,-0.1075512170791626,-0.10626445710659027,-0.04762614145874977,-0.11410743743181229,-0.08314481377601624,0.004280721768736839,-0.010791109874844551,-0.027931882068514824,0.020549321547150612,0.02139873430132866,-0.10777274519205093,0.01898934133350849,-0.08428271859884262,0.1286134421825409,-0.005337561015039682,-0.0035881935618817806,0.003191670635715127,0.023799024522304535,-0.002660378348082304,-0.019747473299503326,-0.01974141038954258,-0.010937895625829697,-8.806008554529399e-05,0.03796710819005966,0.03111836686730385,0.02688068151473999,0.14918693900108337,0.06171382963657379,-0.01766333170235157,-0.058896660804748535,-0.044729989022016525,-0.0440213568508625,-0.025449028238654137,-0.035536181181669235,-0.018489673733711243,0.019070852547883987,-0.13138148188591003,-0.14145545661449432,0.0052217342890799046,-0.027729805558919907,-0.07000020891427994,-0.06357787549495697,0.013162843883037567,-0.1292279064655304,-0.040448397397994995,-0.02021856978535652,0.07373297214508057,-0.06009542942047119,-0.011409941129386425,0.021545063704252243,0.24676696956157684,-0.05885300412774086,-0.05956922098994255,0.018205005675554276,0.011105821467936039,-0.009953184053301811,-0.054785147309303284,-0.05473525449633598,-0.062427815049886703,-0.02972705289721489,0.02454705908894539,-0.048947468400001526,0.02569408528506756,0.07235187292098999,-0.054815664887428284,-0.04096187651157379,-0.02408578060567379,-0.052859656512737274,0.014415060169994831,0.0008952102507464588,0.01051622349768877,-0.09505202621221542,-0.012862104922533035,-0.023474808782339096,-0.03164288029074669,-0.000752002582885325,-0.02885035239160061,-0.03414849564433098,-0.03035087138414383,-0.029109986498951912,-0.010662751272320747,-0.01277980301529169,-0.015240606851875782,-0.010095142759382725,-0.019517522305250168,0.2693921625614166,0.0017290045507252216,0.00032143242424353957,-0.05886826291680336,-0.034277938306331635,-0.06004652753472328,-0.01747194677591324,-0.008667660877108574,-0.04806624725461006,0.017893917858600616,-0.014866597019135952,-0.0388159453868866,0.009956630878150463,-0.07401791214942932,-0.06774227321147919,-0.05676762014627457,0.013918066397309303,0.05341771990060806,0.0003252162132412195,0.022413985803723335,-0.03815816342830658,-0.09574265033006668,0.08343397825956345,0.032277897000312805,0.009772107005119324,-0.0013484456576406956,-0.007591106928884983,-0.015481279231607914,-0.06798988580703735,0.08173859864473343,0.03356718644499779,-0.11794105917215347,-0.03559638187289238,0.23620007932186127,-0.020524725317955017,-0.02231103554368019,0.032023414969444275,-0.08763445168733597,0.26497241854667664,0.005554624367505312,-0.11343301087617874,0.11589038372039795,0.1667410433292389,0.17427577078342438,0.1438979059457779,0.11754275858402252,0.04921136051416397,-0.08285888284444809,-0.02435721829533577,0.08722339570522308,0.004294737242162228,-0.0018084668554365635,0.00543822580948472,0.09593483805656433,0.06119010969996452,0.10578978061676025,0.13203571736812592,-0.00280333636328578,0.0005496960948221385,0.005379756446927786,0.05878036469221115,-0.005668856669217348,-0.010571793653070927,-0.009611768648028374,-0.0030508998315781355,0.005881338845938444,0.1876804381608963,0.012201002798974514,-0.03321896865963936,-0.06912696361541748,-0.05570131540298462,0.09558079391717911,0.07410670816898346,0.027480531483888626,0.20937904715538025,0.0006866815965622663,-0.07212111353874207,0.07847626507282257,0.17711810767650604,-0.02092253975570202,-0.023048944771289825,-0.025898868218064308,-0.021037325263023376,0.001191035145893693,-0.003170653944835067,-0.003609201405197382,-0.004169152583926916,-0.0006099829915910959,0.04563894867897034,-0.05140581354498863,-0.014087491668760777,-0.004565661773085594,0.00041533668991178274,0.09096905589103699,-0.04576222226023674,0.01822148635983467,-0.09077351540327072,-0.06784336268901825,0.007229604292660952,0.035553544759750366,-0.014734935946762562,0.028181906789541245,-0.004811346065253019,-0.008328027091920376,0.01896490529179573,0.01152579765766859,-0.048161983489990234,0.06250660866498947,0.05073218420147896,0.03390393778681755,0.11020351201295853,0.05967755615711212,0.17251430451869965,0.006148179527372122,-0.0525335930287838,-0.10062813013792038,-0.07195904105901718,-0.11989784985780716,-0.024308590218424797,-0.029865549877285957,-0.02775566652417183,-0.016862619668245316,-0.00038927365676499903,0.042734548449516296,0.16281954944133759,0.025799211114645004,0.011104065924882889,0.0009759197128005326,-0.003995176870375872,-0.005491808522492647,-0.0076445951126515865,0.26102888584136963,-0.058734625577926636,-0.08923535794019699,-0.11984764784574509,-0.10799047350883484,-0.10715439170598984,-0.0490076020359993,-0.11450386792421341,-0.08350592851638794,0.002142965095117688,-0.012310677208006382,-0.029221683740615845,0.0150937894359231,0.01564355194568634],\"type\":\"scatter3d\"}],                        {\"template\":{\"data\":{\"histogram2dcontour\":[{\"type\":\"histogram2dcontour\",\"colorbar\":{\"outlinewidth\":0,\"ticks\":\"\"},\"colorscale\":[[0.0,\"#0d0887\"],[0.1111111111111111,\"#46039f\"],[0.2222222222222222,\"#7201a8\"],[0.3333333333333333,\"#9c179e\"],[0.4444444444444444,\"#bd3786\"],[0.5555555555555556,\"#d8576b\"],[0.6666666666666666,\"#ed7953\"],[0.7777777777777778,\"#fb9f3a\"],[0.8888888888888888,\"#fdca26\"],[1.0,\"#f0f921\"]]}],\"choropleth\":[{\"type\":\"choropleth\",\"colorbar\":{\"outlinewidth\":0,\"ticks\":\"\"}}],\"histogram2d\":[{\"type\":\"histogram2d\",\"colorbar\":{\"outlinewidth\":0,\"ticks\":\"\"},\"colorscale\":[[0.0,\"#0d0887\"],[0.1111111111111111,\"#46039f\"],[0.2222222222222222,\"#7201a8\"],[0.3333333333333333,\"#9c179e\"],[0.4444444444444444,\"#bd3786\"],[0.5555555555555556,\"#d8576b\"],[0.6666666666666666,\"#ed7953\"],[0.7777777777777778,\"#fb9f3a\"],[0.8888888888888888,\"#fdca26\"],[1.0,\"#f0f921\"]]}],\"heatmap\":[{\"type\":\"heatmap\",\"colorbar\":{\"outlinewidth\":0,\"ticks\":\"\"},\"colorscale\":[[0.0,\"#0d0887\"],[0.1111111111111111,\"#46039f\"],[0.2222222222222222,\"#7201a8\"],[0.3333333333333333,\"#9c179e\"],[0.4444444444444444,\"#bd3786\"],[0.5555555555555556,\"#d8576b\"],[0.6666666666666666,\"#ed7953\"],[0.7777777777777778,\"#fb9f3a\"],[0.8888888888888888,\"#fdca26\"],[1.0,\"#f0f921\"]]}],\"heatmapgl\":[{\"type\":\"heatmapgl\",\"colorbar\":{\"outlinewidth\":0,\"ticks\":\"\"},\"colorscale\":[[0.0,\"#0d0887\"],[0.1111111111111111,\"#46039f\"],[0.2222222222222222,\"#7201a8\"],[0.3333333333333333,\"#9c179e\"],[0.4444444444444444,\"#bd3786\"],[0.5555555555555556,\"#d8576b\"],[0.6666666666666666,\"#ed7953\"],[0.7777777777777778,\"#fb9f3a\"],[0.8888888888888888,\"#fdca26\"],[1.0,\"#f0f921\"]]}],\"contourcarpet\":[{\"type\":\"contourcarpet\",\"colorbar\":{\"outlinewidth\":0,\"ticks\":\"\"}}],\"contour\":[{\"type\":\"contour\",\"colorbar\":{\"outlinewidth\":0,\"ticks\":\"\"},\"colorscale\":[[0.0,\"#0d0887\"],[0.1111111111111111,\"#46039f\"],[0.2222222222222222,\"#7201a8\"],[0.3333333333333333,\"#9c179e\"],[0.4444444444444444,\"#bd3786\"],[0.5555555555555556,\"#d8576b\"],[0.6666666666666666,\"#ed7953\"],[0.7777777777777778,\"#fb9f3a\"],[0.8888888888888888,\"#fdca26\"],[1.0,\"#f0f921\"]]}],\"surface\":[{\"type\":\"surface\",\"colorbar\":{\"outlinewidth\":0,\"ticks\":\"\"},\"colorscale\":[[0.0,\"#0d0887\"],[0.1111111111111111,\"#46039f\"],[0.2222222222222222,\"#7201a8\"],[0.3333333333333333,\"#9c179e\"],[0.4444444444444444,\"#bd3786\"],[0.5555555555555556,\"#d8576b\"],[0.6666666666666666,\"#ed7953\"],[0.7777777777777778,\"#fb9f3a\"],[0.8888888888888888,\"#fdca26\"],[1.0,\"#f0f921\"]]}],\"mesh3d\":[{\"type\":\"mesh3d\",\"colorbar\":{\"outlinewidth\":0,\"ticks\":\"\"}}],\"scatter\":[{\"fillpattern\":{\"fillmode\":\"overlay\",\"size\":10,\"solidity\":0.2},\"type\":\"scatter\"}],\"parcoords\":[{\"type\":\"parcoords\",\"line\":{\"colorbar\":{\"outlinewidth\":0,\"ticks\":\"\"}}}],\"scatterpolargl\":[{\"type\":\"scatterpolargl\",\"marker\":{\"colorbar\":{\"outlinewidth\":0,\"ticks\":\"\"}}}],\"bar\":[{\"error_x\":{\"color\":\"#2a3f5f\"},\"error_y\":{\"color\":\"#2a3f5f\"},\"marker\":{\"line\":{\"color\":\"#E5ECF6\",\"width\":0.5},\"pattern\":{\"fillmode\":\"overlay\",\"size\":10,\"solidity\":0.2}},\"type\":\"bar\"}],\"scattergeo\":[{\"type\":\"scattergeo\",\"marker\":{\"colorbar\":{\"outlinewidth\":0,\"ticks\":\"\"}}}],\"scatterpolar\":[{\"type\":\"scatterpolar\",\"marker\":{\"colorbar\":{\"outlinewidth\":0,\"ticks\":\"\"}}}],\"histogram\":[{\"marker\":{\"pattern\":{\"fillmode\":\"overlay\",\"size\":10,\"solidity\":0.2}},\"type\":\"histogram\"}],\"scattergl\":[{\"type\":\"scattergl\",\"marker\":{\"colorbar\":{\"outlinewidth\":0,\"ticks\":\"\"}}}],\"scatter3d\":[{\"type\":\"scatter3d\",\"line\":{\"colorbar\":{\"outlinewidth\":0,\"ticks\":\"\"}},\"marker\":{\"colorbar\":{\"outlinewidth\":0,\"ticks\":\"\"}}}],\"scattermapbox\":[{\"type\":\"scattermapbox\",\"marker\":{\"colorbar\":{\"outlinewidth\":0,\"ticks\":\"\"}}}],\"scatterternary\":[{\"type\":\"scatterternary\",\"marker\":{\"colorbar\":{\"outlinewidth\":0,\"ticks\":\"\"}}}],\"scattercarpet\":[{\"type\":\"scattercarpet\",\"marker\":{\"colorbar\":{\"outlinewidth\":0,\"ticks\":\"\"}}}],\"carpet\":[{\"aaxis\":{\"endlinecolor\":\"#2a3f5f\",\"gridcolor\":\"white\",\"linecolor\":\"white\",\"minorgridcolor\":\"white\",\"startlinecolor\":\"#2a3f5f\"},\"baxis\":{\"endlinecolor\":\"#2a3f5f\",\"gridcolor\":\"white\",\"linecolor\":\"white\",\"minorgridcolor\":\"white\",\"startlinecolor\":\"#2a3f5f\"},\"type\":\"carpet\"}],\"table\":[{\"cells\":{\"fill\":{\"color\":\"#EBF0F8\"},\"line\":{\"color\":\"white\"}},\"header\":{\"fill\":{\"color\":\"#C8D4E3\"},\"line\":{\"color\":\"white\"}},\"type\":\"table\"}],\"barpolar\":[{\"marker\":{\"line\":{\"color\":\"#E5ECF6\",\"width\":0.5},\"pattern\":{\"fillmode\":\"overlay\",\"size\":10,\"solidity\":0.2}},\"type\":\"barpolar\"}],\"pie\":[{\"automargin\":true,\"type\":\"pie\"}]},\"layout\":{\"autotypenumbers\":\"strict\",\"colorway\":[\"#636efa\",\"#EF553B\",\"#00cc96\",\"#ab63fa\",\"#FFA15A\",\"#19d3f3\",\"#FF6692\",\"#B6E880\",\"#FF97FF\",\"#FECB52\"],\"font\":{\"color\":\"#2a3f5f\"},\"hovermode\":\"closest\",\"hoverlabel\":{\"align\":\"left\"},\"paper_bgcolor\":\"white\",\"plot_bgcolor\":\"#E5ECF6\",\"polar\":{\"bgcolor\":\"#E5ECF6\",\"angularaxis\":{\"gridcolor\":\"white\",\"linecolor\":\"white\",\"ticks\":\"\"},\"radialaxis\":{\"gridcolor\":\"white\",\"linecolor\":\"white\",\"ticks\":\"\"}},\"ternary\":{\"bgcolor\":\"#E5ECF6\",\"aaxis\":{\"gridcolor\":\"white\",\"linecolor\":\"white\",\"ticks\":\"\"},\"baxis\":{\"gridcolor\":\"white\",\"linecolor\":\"white\",\"ticks\":\"\"},\"caxis\":{\"gridcolor\":\"white\",\"linecolor\":\"white\",\"ticks\":\"\"}},\"coloraxis\":{\"colorbar\":{\"outlinewidth\":0,\"ticks\":\"\"}},\"colorscale\":{\"sequential\":[[0.0,\"#0d0887\"],[0.1111111111111111,\"#46039f\"],[0.2222222222222222,\"#7201a8\"],[0.3333333333333333,\"#9c179e\"],[0.4444444444444444,\"#bd3786\"],[0.5555555555555556,\"#d8576b\"],[0.6666666666666666,\"#ed7953\"],[0.7777777777777778,\"#fb9f3a\"],[0.8888888888888888,\"#fdca26\"],[1.0,\"#f0f921\"]],\"sequentialminus\":[[0.0,\"#0d0887\"],[0.1111111111111111,\"#46039f\"],[0.2222222222222222,\"#7201a8\"],[0.3333333333333333,\"#9c179e\"],[0.4444444444444444,\"#bd3786\"],[0.5555555555555556,\"#d8576b\"],[0.6666666666666666,\"#ed7953\"],[0.7777777777777778,\"#fb9f3a\"],[0.8888888888888888,\"#fdca26\"],[1.0,\"#f0f921\"]],\"diverging\":[[0,\"#8e0152\"],[0.1,\"#c51b7d\"],[0.2,\"#de77ae\"],[0.3,\"#f1b6da\"],[0.4,\"#fde0ef\"],[0.5,\"#f7f7f7\"],[0.6,\"#e6f5d0\"],[0.7,\"#b8e186\"],[0.8,\"#7fbc41\"],[0.9,\"#4d9221\"],[1,\"#276419\"]]},\"xaxis\":{\"gridcolor\":\"white\",\"linecolor\":\"white\",\"ticks\":\"\",\"title\":{\"standoff\":15},\"zerolinecolor\":\"white\",\"automargin\":true,\"zerolinewidth\":2},\"yaxis\":{\"gridcolor\":\"white\",\"linecolor\":\"white\",\"ticks\":\"\",\"title\":{\"standoff\":15},\"zerolinecolor\":\"white\",\"automargin\":true,\"zerolinewidth\":2},\"scene\":{\"xaxis\":{\"backgroundcolor\":\"#E5ECF6\",\"gridcolor\":\"white\",\"linecolor\":\"white\",\"showbackground\":true,\"ticks\":\"\",\"zerolinecolor\":\"white\",\"gridwidth\":2},\"yaxis\":{\"backgroundcolor\":\"#E5ECF6\",\"gridcolor\":\"white\",\"linecolor\":\"white\",\"showbackground\":true,\"ticks\":\"\",\"zerolinecolor\":\"white\",\"gridwidth\":2},\"zaxis\":{\"backgroundcolor\":\"#E5ECF6\",\"gridcolor\":\"white\",\"linecolor\":\"white\",\"showbackground\":true,\"ticks\":\"\",\"zerolinecolor\":\"white\",\"gridwidth\":2}},\"shapedefaults\":{\"line\":{\"color\":\"#2a3f5f\"}},\"annotationdefaults\":{\"arrowcolor\":\"#2a3f5f\",\"arrowhead\":0,\"arrowwidth\":1},\"geo\":{\"bgcolor\":\"white\",\"landcolor\":\"#E5ECF6\",\"subunitcolor\":\"white\",\"showland\":true,\"showlakes\":true,\"lakecolor\":\"white\"},\"title\":{\"x\":0.05},\"mapbox\":{\"style\":\"light\"}}},\"margin\":{\"r\":20,\"l\":10,\"b\":10,\"t\":10},\"scene\":{\"xaxis\":{\"title\":{\"text\":\"X-axis Title\"}},\"yaxis\":{\"title\":{\"text\":\"Y-axis Title\"}},\"zaxis\":{\"title\":{\"text\":\"Z-axis Title\"}}},\"width\":700},                        {\"responsive\": true}                    ).then(function(){\n",
       "                            \n",
       "var gd = document.getElementById('b6030690-e404-435f-bdb7-6e9cc9e3445b');\n",
       "var x = new MutationObserver(function (mutations, observer) {{\n",
       "        var display = window.getComputedStyle(gd).display;\n",
       "        if (!display || display === 'none') {{\n",
       "            console.log([gd, 'removed!']);\n",
       "            Plotly.purge(gd);\n",
       "            observer.disconnect();\n",
       "        }}\n",
       "}});\n",
       "\n",
       "// Listen for the removal of the full notebook cells\n",
       "var notebookContainer = gd.closest('#notebook-container');\n",
       "if (notebookContainer) {{\n",
       "    x.observe(notebookContainer, {childList: true});\n",
       "}}\n",
       "\n",
       "// Listen for the clearing of the current output cell\n",
       "var outputEl = gd.closest('.output');\n",
       "if (outputEl) {{\n",
       "    x.observe(outputEl, {childList: true});\n",
       "}}\n",
       "\n",
       "                        })                };                });            </script>        </div>"
      ]
     },
     "metadata": {},
     "output_type": "display_data"
    }
   ],
   "source": [
    "# Extract x, y, z coordinates from vertices\n",
    "x = [vertex[0] for vertex in vertex_positions]\n",
    "y = [vertex[1] for vertex in vertex_positions]\n",
    "z = [vertex[2] for vertex in vertex_positions]\n",
    "\n",
    "# Create a 3D scatter plot\n",
    "fig = go.Figure(data=[go.Scatter3d(x=x, y=y, z=z, mode='markers', marker=dict(size=1.5))])\n",
    "\n",
    "# Customize the layout\n",
    "fig.update_layout(scene=dict(\n",
    "                    xaxis_title='X-axis Title',\n",
    "                    yaxis_title='Y-axis Title',\n",
    "                    zaxis_title='Z-axis Title'),\n",
    "                  width=700,\n",
    "                  margin=dict(r=20, l=10, b=10, t=10))\n",
    "\n",
    "# Show the plot\n",
    "fig.show()"
   ]
  },
  {
   "cell_type": "code",
   "execution_count": 28,
   "id": "63a4418e",
   "metadata": {},
   "outputs": [
    {
     "data": {
      "application/vnd.plotly.v1+json": {
       "config": {
        "plotlyServerURL": "https://plot.ly"
       },
       "data": [
        {
         "marker": {
          "size": 2
         },
         "mode": "markers",
         "type": "scatter",
         "x": [
          0.496065616607666,
          0.49180376529693604,
          0.49291664361953735,
          0.4697776436805725,
          0.49097076058387756,
          0.4904230237007141,
          0.4896012842655182,
          0.3179904520511627,
          0.4878595173358917,
          0.4869283139705658,
          0.4834662079811096,
          0.4964708089828491,
          0.49680888652801514,
          0.49722373485565186,
          0.4983004331588745,
          0.49895966053009033,
          0.4995104968547821,
          0.5001537203788757,
          0.4996998608112335,
          0.49236637353897095,
          0.47017019987106323,
          0.21779558062553406,
          0.38901740312576294,
          0.3634485602378845,
          0.33905118703842163,
          0.3083457946777344,
          0.41069847345352173,
          0.3458947539329529,
          0.3763447403907776,
          0.3192434310913086,
          0.3035329580307007,
          0.28741365671157837,
          0.41663697361946106,
          0.30946141481399536,
          0.21498563885688782,
          0.25898948311805725,
          0.37223249673843384,
          0.4684605002403259,
          0.4725835919380188,
          0.4430833160877228,
          0.42662185430526733,
          0.45238038897514343,
          0.4368525743484497,
          0.392286092042923,
          0.4717969000339508,
          0.467806875705719,
          0.26347434520721436,
          0.41955363750457764,
          0.41889601945877075,
          0.41721001267433167,
          0.29876160621643066,
          0.46842291951179504,
          0.3178045153617859,
          0.284298837184906,
          0.2381504774093628,
          0.4326185882091522,
          0.4030568599700928,
          0.37377816438674927,
          0.2680668234825134,
          0.4374805986881256,
          0.4561067223548889,
          0.40686798095703125,
          0.41279032826423645,
          0.269838809967041,
          0.4186566472053528,
          0.3662872910499573,
          0.35972076654434204,
          0.33591970801353455,
          0.2567209303379059,
          0.35346412658691406,
          0.24933567643165588,
          0.2339252531528473,
          0.4699884057044983,
          0.4476322531700134,
          0.43146488070487976,
          0.4431259334087372,
          0.40992486476898193,
          0.41999995708465576,
          0.41579681634902954,
          0.4470999538898468,
          0.44115787744522095,
          0.45642417669296265,
          0.4752078652381897,
          0.46851131319999695,
          0.4702122211456299,
          0.47117364406585693,
          0.4731612801551819,
          0.47574853897094727,
          0.4415886402130127,
          0.4367021322250366,
          0.4312698543071747,
          0.42692774534225464,
          0.3975335955619812,
          0.22749996185302734,
          0.4926505386829376,
          0.4301443099975586,
          0.42512673139572144,
          0.46346336603164673,
          0.4275587499141693,
          0.45996177196502686,
          0.394004225730896,
          0.35373225808143616,
          0.41376155614852905,
          0.27551841735839844,
          0.29459086060523987,
          0.30756115913391113,
          0.412422776222229,
          0.4212048649787903,
          0.4149433970451355,
          0.4030134081840515,
          0.31933432817459106,
          0.26152846217155457,
          0.42472028732299805,
          0.2800249457359314,
          0.4359467327594757,
          0.4316619634628296,
          0.23633617162704468,
          0.277819961309433,
          0.309408962726593,
          0.3579179048538208,
          0.3936010003089905,
          0.4195728898048401,
          0.4664614498615265,
          0.24536150693893433,
          0.25990405678749084,
          0.48021799325942993,
          0.4232562482357025,
          0.20928707718849182,
          0.43841925263404846,
          0.41199612617492676,
          0.29808738827705383,
          0.43070951104164124,
          0.24459922313690186,
          0.4249793291091919,
          0.4486277997493744,
          0.32122644782066345,
          0.32732266187667847,
          0.2277931571006775,
          0.2900881767272949,
          0.22296270728111267,
          0.41537410020828247,
          0.48304516077041626,
          0.40165814757347107,
          0.2401844561100006,
          0.3409176468849182,
          0.3620743751525879,
          0.4153648614883423,
          0.2569604218006134,
          0.4581429660320282,
          0.3923209607601166,
          0.3632688522338867,
          0.4850793480873108,
          0.5046466588973999,
          0.38377851247787476,
          0.40446099638938904,
          0.41821080446243286,
          0.24376940727233887,
          0.40051454305648804,
          0.3775120973587036,
          0.3547932803630829,
          0.3334474563598633,
          0.3211483955383301,
          0.20928439497947693,
          0.3271702527999878,
          0.49368563294410706,
          0.41992801427841187,
          0.4371730089187622,
          0.46190565824508667,
          0.4888228476047516,
          0.35340946912765503,
          0.3838551342487335,
          0.45503348112106323,
          0.2967488765716553,
          0.41711726784706116,
          0.451993465423584,
          0.5037997364997864,
          0.4227693974971771,
          0.24323153495788574,
          0.4569568932056427,
          0.4522841274738312,
          0.4482244849205017,
          0.4454917311668396,
          0.4373472034931183,
          0.42460161447525024,
          0.41942068934440613,
          0.41508573293685913,
          0.3811302185058594,
          0.2874678373336792,
          0.4514664113521576,
          0.43996307253837585,
          0.4262993335723877,
          0.4293324947357178,
          0.29369479417800903,
          0.45883074402809143,
          0.4259171485900879,
          0.49021148681640625,
          0.46798020601272583,
          0.48998183012008667,
          0.4369335174560547,
          0.502543568611145,
          0.5011579394340515,
          0.46206367015838623,
          0.3720588684082031,
          0.39203765988349915,
          0.39705440402030945,
          0.33575618267059326,
          0.37078529596328735,
          0.32003480195999146,
          0.4559105634689331,
          0.4242778718471527,
          0.3557223677635193,
          0.38654759526252747,
          0.3513909578323364,
          0.2693164050579071,
          0.32474422454833984,
          0.2618536949157715,
          0.3549186587333679,
          0.4380221366882324,
          0.439504474401474,
          0.426628440618515,
          0.4481593370437622,
          0.41729703545570374,
          0.37252122163772583,
          0.3341650068759918,
          0.30438756942749023,
          0.2861911654472351,
          0.2810863256454468,
          0.21730917692184448,
          0.3010581135749817,
          0.326383113861084,
          0.3602377772331238,
          0.39223772287368774,
          0.4168146848678589,
          0.4334026873111725,
          0.21656575798988342,
          0.42752134799957275,
          0.4519782066345215,
          0.455174058675766,
          0.4680700898170471,
          0.45568525791168213,
          0.43436622619628906,
          0.4726743996143341,
          0.4755287170410156,
          0.4333488941192627,
          0.4455273449420929,
          0.4517596662044525,
          0.31446897983551025,
          0.2948533892631531,
          0.5113846063613892,
          0.6692583560943604,
          0.5153188705444336,
          0.7585722208023071,
          0.6009157299995422,
          0.6261561512947083,
          0.6499510407447815,
          0.6795592308044434,
          0.5787772536277771,
          0.6338216066360474,
          0.6040339469909668,
          0.6613966822624207,
          0.6789551973342896,
          0.7017573118209839,
          0.5886188745498657,
          0.6772727966308594,
          0.7716721296310425,
          0.7291659712791443,
          0.6166025400161743,
          0.5235984325408936,
          0.5212329030036926,
          0.5501391291618347,
          0.5673788189888,
          0.541907548904419,
          0.5579407215118408,
          0.6044497489929199,
          0.5119080543518066,
          0.5146023035049438,
          0.7135089039802551,
          0.5653937458992004,
          0.5671853423118591,
          0.5687555074691772,
          0.691969633102417,
          0.5128671526908875,
          0.6529028415679932,
          0.6886561512947083,
          0.7350839376449585,
          0.5413616895675659,
          0.5792797803878784,
          0.6213713884353638,
          0.7369465827941895,
          0.5488976240158081,
          0.5303655862808228,
          0.5893418192863464,
          0.5835059881210327,
          0.7014053463935852,
          0.5681793689727783,
          0.6049939393997192,
          0.6079854965209961,
          0.6330482363700867,
          0.717953622341156,
          0.6179440021514893,
          0.7275491952896118,
          0.7439031600952148,
          0.5230356454849243,
          0.5461419224739075,
          0.5629786252975464,
          0.5434116125106812,
          0.5863242149353027,
          0.5771558880805969,
          0.5804648995399475,
          0.5381770133972168,
          0.553911030292511,
          0.538321852684021,
          0.5194568037986755,
          0.5314548015594482,
          0.5299434065818787,
          0.5275630354881287,
          0.5244241952896118,
          0.5207319855690002,
          0.5546252131462097,
          0.5604544878005981,
          0.5666434168815613,
          0.5717859268188477,
          0.5941420197486877,
          0.768427848815918,
          0.5659922361373901,
          0.5715972781181335,
          0.5234245657920837,
          0.5603026747703552,
          0.5266834497451782,
          0.5919584631919861,
          0.6340539455413818,
          0.5731905698776245,
          0.6956363320350647,
          0.6780374050140381,
          0.660557746887207,
          0.5858791470527649,
          0.5473333597183228,
          0.5558700561523438,
          0.5645381212234497,
          0.6692695617675781,
          0.729922890663147,
          0.5638517141342163,
          0.7034162878990173,
          0.5478672385215759,
          0.5532719492912292,
          0.7527430057525635,
          0.7137417793273926,
          0.6818563938140869,
          0.6332598924636841,
          0.597268283367157,
          0.5700887441635132,
          0.5139063596725464,
          0.7470803260803223,
          0.7229733467102051,
          0.5046382546424866,
          0.5621575713157654,
          0.7771488428115845,
          0.5494254231452942,
          0.5753239989280701,
          0.6888485550880432,
          0.5538672208786011,
          0.7562069892883301,
          0.5623676180839539,
          0.5341803431510925,
          0.6845075488090515,
          0.682099461555481,
          0.7666360139846802,
          0.7143467664718628,
          0.7587713003158569,
          0.5923391580581665,
          0.5022876262664795,
          0.585063636302948,
          0.7509679794311523,
          0.6469582319259644,
          0.6259897947311401,
          0.5822352170944214,
          0.7392998337745667,
          0.5513142347335815,
          0.617810070514679,
          0.6469876766204834,
          0.6045932769775391,
          0.5837259888648987,
          0.569604218006134,
          0.7400617003440857,
          0.5845588445663452,
          0.6064674854278564,
          0.6292054057121277,
          0.6510717868804932,
          0.6640770435333252,
          0.7712588310241699,
          0.6604256629943848,
          0.570616602897644,
          0.5488605499267578,
          0.5267180800437927,
          0.65313321352005,
          0.6234791278839111,
          0.552829384803772,
          0.7111763954162598,
          0.5691161751747131,
          0.5305165648460388,
          0.587061882019043,
          0.7551389336585999,
          0.5393826365470886,
          0.5450751781463623,
          0.5502557754516602,
          0.5543950200080872,
          0.5619938969612122,
          0.5711390376091003,
          0.5759971737861633,
          0.580166757106781,
          0.6119968891143799,
          0.7080483436584473,
          0.5304757356643677,
          0.5441484451293945,
          0.5592342019081116,
          0.5664718151092529,
          0.7066550254821777,
          0.5214241743087769,
          0.5767201781272888,
          0.5129154324531555,
          0.5473581552505493,
          0.5408095121383667,
          0.6273006796836853,
          0.596849799156189,
          0.604343593120575,
          0.6560471057891846,
          0.6207131147384644,
          0.6750174760818481,
          0.5496376752853394,
          0.5613095164299011,
          0.6472671031951904,
          0.6179192662239075,
          0.6459508538246155,
          0.7300324440002441,
          0.6757097244262695,
          0.7400550842285156,
          0.6389790773391724,
          0.545846164226532,
          0.5455834865570068,
          0.5594936013221741,
          0.53529953956604,
          0.5628097057342529,
          0.6039193272590637,
          0.6414788961410522,
          0.6723721027374268,
          0.6933648586273193,
          0.706061065196991,
          0.7732118368148804,
          0.6887562274932861,
          0.6637181043624878,
          0.6302443146705627,
          0.5982645153999329,
          0.573112964630127,
          0.5555393099784851,
          0.77484130859375,
          0.5589801073074341,
          0.5304555296897888,
          0.528988778591156,
          0.5170386433601379,
          0.5291695594787598,
          0.5527822375297546,
          0.5122953653335571,
          0.5097936391830444,
          0.5541749000549316,
          0.5415146350860596,
          0.5333904027938843,
          0.6713560223579407,
          0.689372181892395
         ],
         "y": [
          0.7072416543960571,
          0.6460850834846497,
          0.6627569794654846,
          0.573777973651886,
          0.6247979402542114,
          0.5954185128211975,
          0.5217866897583008,
          0.5098336935043335,
          0.466214656829834,
          0.43723973631858826,
          0.32641109824180603,
          0.7139753103256226,
          0.7207310199737549,
          0.7251602411270142,
          0.7365389466285706,
          0.7460125684738159,
          0.7573865652084351,
          0.7686770558357239,
          0.7819548845291138,
          0.6557273268699646,
          0.6541151404380798,
          0.42298007011413574,
          0.530131459236145,
          0.5314365029335022,
          0.5302810072898865,
          0.5179328918457031,
          0.5259895324707031,
          0.4702942669391632,
          0.4726243019104004,
          0.4743052124977112,
          0.48254066705703735,
          0.531814694404602,
          0.8057236671447754,
          0.5041651725769043,
          0.5154155492782593,
          0.5166890025138855,
          0.6204366683959961,
          0.7028836607933044,
          0.7197413444519043,
          0.7099080085754395,
          0.7166838645935059,
          0.720629096031189,
          0.7227005362510681,
          0.7457122802734375,
          0.6455910205841064,
          0.6250443458557129,
          0.46588441729545593,
          0.5670532584190369,
          0.6365891098976135,
          0.6244970560073853,
          0.6163146495819092,
          0.5976953506469727,
          0.4442141056060791,
          0.45128315687179565,
          0.3867453336715698,
          0.4633292257785797,
          0.48195797204971313,
          0.7265805006027222,
          0.7019145488739014,
          0.6484946012496948,
          0.6541392803192139,
          0.7270757555961609,
          0.7270805835723877,
          0.43741437792778015,
          0.6444723606109619,
          0.4463983178138733,
          0.4290858805179596,
          0.33821901679039,
          0.4110724925994873,
          0.3824891448020935,
          0.45578259229660034,
          0.43957221508026123,
          0.712321937084198,
          0.71577388048172,
          0.7198551297187805,
          0.6516448259353638,
          0.7271091341972351,
          0.7328224778175354,
          0.7270765900611877,
          0.6435937285423279,
          0.7245293855667114,
          0.7236031293869019,
          0.7239983081817627,
          0.781499445438385,
          0.7661575675010681,
          0.7549152970314026,
          0.7436319589614868,
          0.7348124980926514,
          0.7302677035331726,
          0.7341548800468445,
          0.7395235896110535,
          0.7456193566322327,
          0.6947634220123291,
          0.6012507677078247,
          0.6591187119483948,
          0.7287406325340271,
          0.7305572032928467,
          0.6616341471672058,
          0.6553215980529785,
          0.6579740047454834,
          0.57891845703125,
          0.5930393934249878,
          0.6327309608459473,
          0.3575937747955322,
          0.3908894658088684,
          0.42717742919921875,
          0.7594459056854248,
          0.43487316370010376,
          0.3810611367225647,
          0.3288363516330719,
          0.5258908271789551,
          0.5466628074645996,
          0.521515429019928,
          0.49147164821624756,
          0.553650438785553,
          0.630323588848114,
          0.5590887069702148,
          0.5625447630882263,
          0.5714487433433533,
          0.5685858726501465,
          0.5601898431777954,
          0.5507175922393799,
          0.5267586708068848,
          0.6036863327026367,
          0.4887550473213196,
          0.6551300287246704,
          0.589262068271637,
          0.5093675851821899,
          0.539879322052002,
          0.6326258778572083,
          0.5053274035453796,
          0.6155786514282227,
          0.6507209539413452,
          0.5139541625976562,
          0.6043893098831177,
          0.7557461857795715,
          0.7732400894165039,
          0.6031132340431213,
          0.727941632270813,
          0.4743727445602417,
          0.8210079073905945,
          0.6584517359733582,
          0.6040266156196594,
          0.5196656584739685,
          0.5171691179275513,
          0.5190562605857849,
          0.7356195449829102,
          0.6445587873458862,
          0.8437671661376953,
          0.8174795508384705,
          0.7995161414146423,
          0.3813890218734741,
          0.8469591736793518,
          0.5181819796562195,
          0.5160030126571655,
          0.5152139067649841,
          0.4837343096733093,
          0.4977102279663086,
          0.49102330207824707,
          0.4896017611026764,
          0.492565780878067,
          0.4973534047603607,
          0.4617542624473572,
          0.5136702060699463,
          0.6779712438583374,
          0.6843704581260681,
          0.6457979083061218,
          0.6791372299194336,
          0.4929436445236206,
          0.7817623019218445,
          0.8011985421180725,
          0.8355101943016052,
          0.7430778741836548,
          0.5074205994606018,
          0.5619217753410339,
          0.8380851745605469,
          0.8331574201583862,
          0.648027241230011,
          0.7323846817016602,
          0.7389938235282898,
          0.7475558519363403,
          0.7575476169586182,
          0.7723449468612671,
          0.7248965501785278,
          0.7236322164535522,
          0.7220664620399475,
          0.7093114256858826,
          0.6587300300598145,
          0.538690984249115,
          0.4975699186325073,
          0.4999473989009857,
          0.7258493304252625,
          0.7041558027267456,
          0.4974871575832367,
          0.7886819839477539,
          0.5706347823143005,
          0.5516244173049927,
          0.5472667217254639,
          0.5957819819450378,
          0.8225192427635193,
          0.8013522028923035,
          0.800241231918335,
          0.7519880533218384,
          0.6483196020126343,
          0.7727671265602112,
          0.6443977355957031,
          0.6684180498123169,
          0.6758060455322266,
          0.820655345916748,
          0.6067861318588257,
          0.7639759182929993,
          0.7854641675949097,
          0.7276691794395447,
          0.6781702637672424,
          0.7278240323066711,
          0.6893927454948425,
          0.6935939192771912,
          0.5752072930335999,
          0.6402290463447571,
          0.6439005732536316,
          0.6269920468330383,
          0.47753047943115234,
          0.46344488859176636,
          0.461337149143219,
          0.4660605490207672,
          0.47574448585510254,
          0.5108283162117004,
          0.5589885711669922,
          0.5412881970405579,
          0.5481168031692505,
          0.5484194159507751,
          0.5439355373382568,
          0.5376588702201843,
          0.5312855243682861,
          0.5547147989273071,
          0.6483978033065796,
          0.5827364325523376,
          0.6423653960227966,
          0.6513733267784119,
          0.64499831199646,
          0.6535892486572266,
          0.6536699533462524,
          0.6571325063705444,
          0.5150822997093201,
          0.5198805928230286,
          0.5236917734146118,
          0.5009875297546387,
          0.4921298325061798,
          0.5732186436653137,
          0.5087543725967407,
          0.6534130573272705,
          0.41716641187667847,
          0.5315910577774048,
          0.532161295413971,
          0.5299330949783325,
          0.5153281092643738,
          0.5277195572853088,
          0.4691157639026642,
          0.4727216958999634,
          0.47173911333084106,
          0.47912007570266724,
          0.527955949306488,
          0.8038139343261719,
          0.5016629695892334,
          0.510089099407196,
          0.511056125164032,
          0.6174407601356506,
          0.7024502158164978,
          0.719490647315979,
          0.709242582321167,
          0.7159332633018494,
          0.7202324271202087,
          0.7221921682357788,
          0.7425282597541809,
          0.6450619697570801,
          0.6244550347328186,
          0.46031349897384644,
          0.5652262568473816,
          0.6348761916160583,
          0.6226808428764343,
          0.6117343306541443,
          0.5970597863197327,
          0.44298213720321655,
          0.4475075602531433,
          0.38124120235443115,
          0.4651602506637573,
          0.48328620195388794,
          0.7230191230773926,
          0.6968748569488525,
          0.6471323370933533,
          0.6532384753227234,
          0.7266401052474976,
          0.7266740798950195,
          0.43315958976745605,
          0.6427670121192932,
          0.4471679925918579,
          0.4303862750530243,
          0.3349616825580597,
          0.4062337577342987,
          0.37964147329330444,
          0.44968682527542114,
          0.434606671333313,
          0.7119812965393066,
          0.7152804136276245,
          0.719174861907959,
          0.6504290699958801,
          0.7267090082168579,
          0.7325465679168701,
          0.7266407012939453,
          0.642397940158844,
          0.7240543365478516,
          0.7232223749160767,
          0.7238199710845947,
          0.780598521232605,
          0.7661514282226562,
          0.7547987699508667,
          0.7435031533241272,
          0.7347592115402222,
          0.7300153374671936,
          0.7339085340499878,
          0.7393285036087036,
          0.7454246878623962,
          0.6920605301856995,
          0.5955058932304382,
          0.7284332513809204,
          0.7302656173706055,
          0.660889208316803,
          0.6538339257240295,
          0.6571964025497437,
          0.5765395760536194,
          0.5897350907325745,
          0.63099205493927,
          0.3529607653617859,
          0.38687583804130554,
          0.4259824752807617,
          0.756879448890686,
          0.4377644658088684,
          0.37950965762138367,
          0.32698217034339905,
          0.5245451331138611,
          0.5417032837867737,
          0.5236830711364746,
          0.48677965998649597,
          0.5522035956382751,
          0.6288989782333374,
          0.5538903474807739,
          0.5581502318382263,
          0.5677081942558289,
          0.5659769177436829,
          0.5585509538650513,
          0.5501326322555542,
          0.5261933207511902,
          0.5984511375427246,
          0.48317015171051025,
          0.6547397375106812,
          0.5874314904212952,
          0.5032684206962585,
          0.5403414368629456,
          0.6307969093322754,
          0.5018025040626526,
          0.6140462160110474,
          0.6452333927154541,
          0.5164622068405151,
          0.6032636761665344,
          0.7521694898605347,
          0.7695496082305908,
          0.5976831912994385,
          0.7235743999481201,
          0.46912339329719543,
          0.8192583322525024,
          0.658148467540741,
          0.6017922759056091,
          0.513231098651886,
          0.51860111951828,
          0.5213939547538757,
          0.7352634072303772,
          0.6392158269882202,
          0.8426603078842163,
          0.8147923946380615,
          0.7965025305747986,
          0.520832896232605,
          0.518672525882721,
          0.5179644227027893,
          0.4770452678203583,
          0.4985086917877197,
          0.4907083511352539,
          0.4887608289718628,
          0.49100399017333984,
          0.4952637553215027,
          0.455682635307312,
          0.5138481855392456,
          0.6823143362998962,
          0.6443650126457214,
          0.678383469581604,
          0.77898770570755,
          0.7990343570709229,
          0.8345516920089722,
          0.7386535406112671,
          0.5094567537307739,
          0.5608450174331665,
          0.8310592770576477,
          0.6426840424537659,
          0.7321596741676331,
          0.7387758493423462,
          0.7474133372306824,
          0.757482647895813,
          0.7702677845954895,
          0.7242759466171265,
          0.7229677438735962,
          0.7213426828384399,
          0.7060311436653137,
          0.6537156105041504,
          0.5377366542816162,
          0.5000711679458618,
          0.5023276209831238,
          0.7253047227859497,
          0.6993791460990906,
          0.49993598461151123,
          0.7867466807365417,
          0.5509880185127258,
          0.594394862651825,
          0.799221396446228,
          0.7490280270576477,
          0.6458255052566528,
          0.7702485918998718,
          0.6403345465660095,
          0.6651747822761536,
          0.6713789701461792,
          0.8197015523910522,
          0.6050076484680176,
          0.7608996033668518,
          0.7830756902694702,
          0.7242212295532227,
          0.6729774475097656,
          0.7238636016845703,
          0.6843312382698059,
          0.6899467706680298,
          0.5738077163696289,
          0.6388920545578003,
          0.6423633098602295,
          0.6259204149246216,
          0.4795752763748169,
          0.4641629457473755,
          0.46012547612190247,
          0.46301254630088806,
          0.47145989537239075,
          0.5062594413757324,
          0.5535721182823181,
          0.538122296333313,
          0.5458669066429138,
          0.5472856163978577,
          0.5436850786209106,
          0.5381274819374084,
          0.532301664352417,
          0.5487415790557861,
          0.6468504071235657,
          0.5816603899002075,
          0.6414094567298889,
          0.6507245302200317,
          0.6441270709037781,
          0.6521784067153931,
          0.6530722379684448,
          0.6565709710121155,
          0.5174919366836548,
          0.5216847658157349,
          0.5253111124038696,
          0.4986133277416229,
          0.4883568286895752
         ]
        }
       ],
       "layout": {
        "height": 579,
        "template": {
         "data": {
          "bar": [
           {
            "error_x": {
             "color": "#2a3f5f"
            },
            "error_y": {
             "color": "#2a3f5f"
            },
            "marker": {
             "line": {
              "color": "#E5ECF6",
              "width": 0.5
             },
             "pattern": {
              "fillmode": "overlay",
              "size": 10,
              "solidity": 0.2
             }
            },
            "type": "bar"
           }
          ],
          "barpolar": [
           {
            "marker": {
             "line": {
              "color": "#E5ECF6",
              "width": 0.5
             },
             "pattern": {
              "fillmode": "overlay",
              "size": 10,
              "solidity": 0.2
             }
            },
            "type": "barpolar"
           }
          ],
          "carpet": [
           {
            "aaxis": {
             "endlinecolor": "#2a3f5f",
             "gridcolor": "white",
             "linecolor": "white",
             "minorgridcolor": "white",
             "startlinecolor": "#2a3f5f"
            },
            "baxis": {
             "endlinecolor": "#2a3f5f",
             "gridcolor": "white",
             "linecolor": "white",
             "minorgridcolor": "white",
             "startlinecolor": "#2a3f5f"
            },
            "type": "carpet"
           }
          ],
          "choropleth": [
           {
            "colorbar": {
             "outlinewidth": 0,
             "ticks": ""
            },
            "type": "choropleth"
           }
          ],
          "contour": [
           {
            "colorbar": {
             "outlinewidth": 0,
             "ticks": ""
            },
            "colorscale": [
             [
              0,
              "#0d0887"
             ],
             [
              0.1111111111111111,
              "#46039f"
             ],
             [
              0.2222222222222222,
              "#7201a8"
             ],
             [
              0.3333333333333333,
              "#9c179e"
             ],
             [
              0.4444444444444444,
              "#bd3786"
             ],
             [
              0.5555555555555556,
              "#d8576b"
             ],
             [
              0.6666666666666666,
              "#ed7953"
             ],
             [
              0.7777777777777778,
              "#fb9f3a"
             ],
             [
              0.8888888888888888,
              "#fdca26"
             ],
             [
              1,
              "#f0f921"
             ]
            ],
            "type": "contour"
           }
          ],
          "contourcarpet": [
           {
            "colorbar": {
             "outlinewidth": 0,
             "ticks": ""
            },
            "type": "contourcarpet"
           }
          ],
          "heatmap": [
           {
            "colorbar": {
             "outlinewidth": 0,
             "ticks": ""
            },
            "colorscale": [
             [
              0,
              "#0d0887"
             ],
             [
              0.1111111111111111,
              "#46039f"
             ],
             [
              0.2222222222222222,
              "#7201a8"
             ],
             [
              0.3333333333333333,
              "#9c179e"
             ],
             [
              0.4444444444444444,
              "#bd3786"
             ],
             [
              0.5555555555555556,
              "#d8576b"
             ],
             [
              0.6666666666666666,
              "#ed7953"
             ],
             [
              0.7777777777777778,
              "#fb9f3a"
             ],
             [
              0.8888888888888888,
              "#fdca26"
             ],
             [
              1,
              "#f0f921"
             ]
            ],
            "type": "heatmap"
           }
          ],
          "heatmapgl": [
           {
            "colorbar": {
             "outlinewidth": 0,
             "ticks": ""
            },
            "colorscale": [
             [
              0,
              "#0d0887"
             ],
             [
              0.1111111111111111,
              "#46039f"
             ],
             [
              0.2222222222222222,
              "#7201a8"
             ],
             [
              0.3333333333333333,
              "#9c179e"
             ],
             [
              0.4444444444444444,
              "#bd3786"
             ],
             [
              0.5555555555555556,
              "#d8576b"
             ],
             [
              0.6666666666666666,
              "#ed7953"
             ],
             [
              0.7777777777777778,
              "#fb9f3a"
             ],
             [
              0.8888888888888888,
              "#fdca26"
             ],
             [
              1,
              "#f0f921"
             ]
            ],
            "type": "heatmapgl"
           }
          ],
          "histogram": [
           {
            "marker": {
             "pattern": {
              "fillmode": "overlay",
              "size": 10,
              "solidity": 0.2
             }
            },
            "type": "histogram"
           }
          ],
          "histogram2d": [
           {
            "colorbar": {
             "outlinewidth": 0,
             "ticks": ""
            },
            "colorscale": [
             [
              0,
              "#0d0887"
             ],
             [
              0.1111111111111111,
              "#46039f"
             ],
             [
              0.2222222222222222,
              "#7201a8"
             ],
             [
              0.3333333333333333,
              "#9c179e"
             ],
             [
              0.4444444444444444,
              "#bd3786"
             ],
             [
              0.5555555555555556,
              "#d8576b"
             ],
             [
              0.6666666666666666,
              "#ed7953"
             ],
             [
              0.7777777777777778,
              "#fb9f3a"
             ],
             [
              0.8888888888888888,
              "#fdca26"
             ],
             [
              1,
              "#f0f921"
             ]
            ],
            "type": "histogram2d"
           }
          ],
          "histogram2dcontour": [
           {
            "colorbar": {
             "outlinewidth": 0,
             "ticks": ""
            },
            "colorscale": [
             [
              0,
              "#0d0887"
             ],
             [
              0.1111111111111111,
              "#46039f"
             ],
             [
              0.2222222222222222,
              "#7201a8"
             ],
             [
              0.3333333333333333,
              "#9c179e"
             ],
             [
              0.4444444444444444,
              "#bd3786"
             ],
             [
              0.5555555555555556,
              "#d8576b"
             ],
             [
              0.6666666666666666,
              "#ed7953"
             ],
             [
              0.7777777777777778,
              "#fb9f3a"
             ],
             [
              0.8888888888888888,
              "#fdca26"
             ],
             [
              1,
              "#f0f921"
             ]
            ],
            "type": "histogram2dcontour"
           }
          ],
          "mesh3d": [
           {
            "colorbar": {
             "outlinewidth": 0,
             "ticks": ""
            },
            "type": "mesh3d"
           }
          ],
          "parcoords": [
           {
            "line": {
             "colorbar": {
              "outlinewidth": 0,
              "ticks": ""
             }
            },
            "type": "parcoords"
           }
          ],
          "pie": [
           {
            "automargin": true,
            "type": "pie"
           }
          ],
          "scatter": [
           {
            "fillpattern": {
             "fillmode": "overlay",
             "size": 10,
             "solidity": 0.2
            },
            "type": "scatter"
           }
          ],
          "scatter3d": [
           {
            "line": {
             "colorbar": {
              "outlinewidth": 0,
              "ticks": ""
             }
            },
            "marker": {
             "colorbar": {
              "outlinewidth": 0,
              "ticks": ""
             }
            },
            "type": "scatter3d"
           }
          ],
          "scattercarpet": [
           {
            "marker": {
             "colorbar": {
              "outlinewidth": 0,
              "ticks": ""
             }
            },
            "type": "scattercarpet"
           }
          ],
          "scattergeo": [
           {
            "marker": {
             "colorbar": {
              "outlinewidth": 0,
              "ticks": ""
             }
            },
            "type": "scattergeo"
           }
          ],
          "scattergl": [
           {
            "marker": {
             "colorbar": {
              "outlinewidth": 0,
              "ticks": ""
             }
            },
            "type": "scattergl"
           }
          ],
          "scattermapbox": [
           {
            "marker": {
             "colorbar": {
              "outlinewidth": 0,
              "ticks": ""
             }
            },
            "type": "scattermapbox"
           }
          ],
          "scatterpolar": [
           {
            "marker": {
             "colorbar": {
              "outlinewidth": 0,
              "ticks": ""
             }
            },
            "type": "scatterpolar"
           }
          ],
          "scatterpolargl": [
           {
            "marker": {
             "colorbar": {
              "outlinewidth": 0,
              "ticks": ""
             }
            },
            "type": "scatterpolargl"
           }
          ],
          "scatterternary": [
           {
            "marker": {
             "colorbar": {
              "outlinewidth": 0,
              "ticks": ""
             }
            },
            "type": "scatterternary"
           }
          ],
          "surface": [
           {
            "colorbar": {
             "outlinewidth": 0,
             "ticks": ""
            },
            "colorscale": [
             [
              0,
              "#0d0887"
             ],
             [
              0.1111111111111111,
              "#46039f"
             ],
             [
              0.2222222222222222,
              "#7201a8"
             ],
             [
              0.3333333333333333,
              "#9c179e"
             ],
             [
              0.4444444444444444,
              "#bd3786"
             ],
             [
              0.5555555555555556,
              "#d8576b"
             ],
             [
              0.6666666666666666,
              "#ed7953"
             ],
             [
              0.7777777777777778,
              "#fb9f3a"
             ],
             [
              0.8888888888888888,
              "#fdca26"
             ],
             [
              1,
              "#f0f921"
             ]
            ],
            "type": "surface"
           }
          ],
          "table": [
           {
            "cells": {
             "fill": {
              "color": "#EBF0F8"
             },
             "line": {
              "color": "white"
             }
            },
            "header": {
             "fill": {
              "color": "#C8D4E3"
             },
             "line": {
              "color": "white"
             }
            },
            "type": "table"
           }
          ]
         },
         "layout": {
          "annotationdefaults": {
           "arrowcolor": "#2a3f5f",
           "arrowhead": 0,
           "arrowwidth": 1
          },
          "autotypenumbers": "strict",
          "coloraxis": {
           "colorbar": {
            "outlinewidth": 0,
            "ticks": ""
           }
          },
          "colorscale": {
           "diverging": [
            [
             0,
             "#8e0152"
            ],
            [
             0.1,
             "#c51b7d"
            ],
            [
             0.2,
             "#de77ae"
            ],
            [
             0.3,
             "#f1b6da"
            ],
            [
             0.4,
             "#fde0ef"
            ],
            [
             0.5,
             "#f7f7f7"
            ],
            [
             0.6,
             "#e6f5d0"
            ],
            [
             0.7,
             "#b8e186"
            ],
            [
             0.8,
             "#7fbc41"
            ],
            [
             0.9,
             "#4d9221"
            ],
            [
             1,
             "#276419"
            ]
           ],
           "sequential": [
            [
             0,
             "#0d0887"
            ],
            [
             0.1111111111111111,
             "#46039f"
            ],
            [
             0.2222222222222222,
             "#7201a8"
            ],
            [
             0.3333333333333333,
             "#9c179e"
            ],
            [
             0.4444444444444444,
             "#bd3786"
            ],
            [
             0.5555555555555556,
             "#d8576b"
            ],
            [
             0.6666666666666666,
             "#ed7953"
            ],
            [
             0.7777777777777778,
             "#fb9f3a"
            ],
            [
             0.8888888888888888,
             "#fdca26"
            ],
            [
             1,
             "#f0f921"
            ]
           ],
           "sequentialminus": [
            [
             0,
             "#0d0887"
            ],
            [
             0.1111111111111111,
             "#46039f"
            ],
            [
             0.2222222222222222,
             "#7201a8"
            ],
            [
             0.3333333333333333,
             "#9c179e"
            ],
            [
             0.4444444444444444,
             "#bd3786"
            ],
            [
             0.5555555555555556,
             "#d8576b"
            ],
            [
             0.6666666666666666,
             "#ed7953"
            ],
            [
             0.7777777777777778,
             "#fb9f3a"
            ],
            [
             0.8888888888888888,
             "#fdca26"
            ],
            [
             1,
             "#f0f921"
            ]
           ]
          },
          "colorway": [
           "#636efa",
           "#EF553B",
           "#00cc96",
           "#ab63fa",
           "#FFA15A",
           "#19d3f3",
           "#FF6692",
           "#B6E880",
           "#FF97FF",
           "#FECB52"
          ],
          "font": {
           "color": "#2a3f5f"
          },
          "geo": {
           "bgcolor": "white",
           "lakecolor": "white",
           "landcolor": "#E5ECF6",
           "showlakes": true,
           "showland": true,
           "subunitcolor": "white"
          },
          "hoverlabel": {
           "align": "left"
          },
          "hovermode": "closest",
          "mapbox": {
           "style": "light"
          },
          "paper_bgcolor": "white",
          "plot_bgcolor": "#E5ECF6",
          "polar": {
           "angularaxis": {
            "gridcolor": "white",
            "linecolor": "white",
            "ticks": ""
           },
           "bgcolor": "#E5ECF6",
           "radialaxis": {
            "gridcolor": "white",
            "linecolor": "white",
            "ticks": ""
           }
          },
          "scene": {
           "xaxis": {
            "backgroundcolor": "#E5ECF6",
            "gridcolor": "white",
            "gridwidth": 2,
            "linecolor": "white",
            "showbackground": true,
            "ticks": "",
            "zerolinecolor": "white"
           },
           "yaxis": {
            "backgroundcolor": "#E5ECF6",
            "gridcolor": "white",
            "gridwidth": 2,
            "linecolor": "white",
            "showbackground": true,
            "ticks": "",
            "zerolinecolor": "white"
           },
           "zaxis": {
            "backgroundcolor": "#E5ECF6",
            "gridcolor": "white",
            "gridwidth": 2,
            "linecolor": "white",
            "showbackground": true,
            "ticks": "",
            "zerolinecolor": "white"
           }
          },
          "shapedefaults": {
           "line": {
            "color": "#2a3f5f"
           }
          },
          "ternary": {
           "aaxis": {
            "gridcolor": "white",
            "linecolor": "white",
            "ticks": ""
           },
           "baxis": {
            "gridcolor": "white",
            "linecolor": "white",
            "ticks": ""
           },
           "bgcolor": "#E5ECF6",
           "caxis": {
            "gridcolor": "white",
            "linecolor": "white",
            "ticks": ""
           }
          },
          "title": {
           "x": 0.05
          },
          "xaxis": {
           "automargin": true,
           "gridcolor": "white",
           "linecolor": "white",
           "ticks": "",
           "title": {
            "standoff": 15
           },
           "zerolinecolor": "white",
           "zerolinewidth": 2
          },
          "yaxis": {
           "automargin": true,
           "gridcolor": "white",
           "linecolor": "white",
           "ticks": "",
           "title": {
            "standoff": 15
           },
           "zerolinecolor": "white",
           "zerolinewidth": 2
          }
         }
        },
        "title": {
         "text": "2D Line Plot"
        },
        "width": 450,
        "xaxis": {
         "range": [
          0,
          1
         ],
         "title": {
          "text": "X-axis"
         }
        },
        "yaxis": {
         "range": [
          0,
          1
         ],
         "title": {
          "text": "Y-axis"
         }
        }
       }
      },
      "text/html": [
       "<div>                            <div id=\"04a6c8a1-9471-4d14-8e4c-224f61c094d6\" class=\"plotly-graph-div\" style=\"height:579.0px; width:450.0px;\"></div>            <script type=\"text/javascript\">                require([\"plotly\"], function(Plotly) {                    window.PLOTLYENV=window.PLOTLYENV || {};                                    if (document.getElementById(\"04a6c8a1-9471-4d14-8e4c-224f61c094d6\")) {                    Plotly.newPlot(                        \"04a6c8a1-9471-4d14-8e4c-224f61c094d6\",                        [{\"marker\":{\"size\":2},\"mode\":\"markers\",\"x\":[0.496065616607666,0.49180376529693604,0.49291664361953735,0.4697776436805725,0.49097076058387756,0.4904230237007141,0.4896012842655182,0.3179904520511627,0.4878595173358917,0.4869283139705658,0.4834662079811096,0.4964708089828491,0.49680888652801514,0.49722373485565186,0.4983004331588745,0.49895966053009033,0.4995104968547821,0.5001537203788757,0.4996998608112335,0.49236637353897095,0.47017019987106323,0.21779558062553406,0.38901740312576294,0.3634485602378845,0.33905118703842163,0.3083457946777344,0.41069847345352173,0.3458947539329529,0.3763447403907776,0.3192434310913086,0.3035329580307007,0.28741365671157837,0.41663697361946106,0.30946141481399536,0.21498563885688782,0.25898948311805725,0.37223249673843384,0.4684605002403259,0.4725835919380188,0.4430833160877228,0.42662185430526733,0.45238038897514343,0.4368525743484497,0.392286092042923,0.4717969000339508,0.467806875705719,0.26347434520721436,0.41955363750457764,0.41889601945877075,0.41721001267433167,0.29876160621643066,0.46842291951179504,0.3178045153617859,0.284298837184906,0.2381504774093628,0.4326185882091522,0.4030568599700928,0.37377816438674927,0.2680668234825134,0.4374805986881256,0.4561067223548889,0.40686798095703125,0.41279032826423645,0.269838809967041,0.4186566472053528,0.3662872910499573,0.35972076654434204,0.33591970801353455,0.2567209303379059,0.35346412658691406,0.24933567643165588,0.2339252531528473,0.4699884057044983,0.4476322531700134,0.43146488070487976,0.4431259334087372,0.40992486476898193,0.41999995708465576,0.41579681634902954,0.4470999538898468,0.44115787744522095,0.45642417669296265,0.4752078652381897,0.46851131319999695,0.4702122211456299,0.47117364406585693,0.4731612801551819,0.47574853897094727,0.4415886402130127,0.4367021322250366,0.4312698543071747,0.42692774534225464,0.3975335955619812,0.22749996185302734,0.4926505386829376,0.4301443099975586,0.42512673139572144,0.46346336603164673,0.4275587499141693,0.45996177196502686,0.394004225730896,0.35373225808143616,0.41376155614852905,0.27551841735839844,0.29459086060523987,0.30756115913391113,0.412422776222229,0.4212048649787903,0.4149433970451355,0.4030134081840515,0.31933432817459106,0.26152846217155457,0.42472028732299805,0.2800249457359314,0.4359467327594757,0.4316619634628296,0.23633617162704468,0.277819961309433,0.309408962726593,0.3579179048538208,0.3936010003089905,0.4195728898048401,0.4664614498615265,0.24536150693893433,0.25990405678749084,0.48021799325942993,0.4232562482357025,0.20928707718849182,0.43841925263404846,0.41199612617492676,0.29808738827705383,0.43070951104164124,0.24459922313690186,0.4249793291091919,0.4486277997493744,0.32122644782066345,0.32732266187667847,0.2277931571006775,0.2900881767272949,0.22296270728111267,0.41537410020828247,0.48304516077041626,0.40165814757347107,0.2401844561100006,0.3409176468849182,0.3620743751525879,0.4153648614883423,0.2569604218006134,0.4581429660320282,0.3923209607601166,0.3632688522338867,0.4850793480873108,0.5046466588973999,0.38377851247787476,0.40446099638938904,0.41821080446243286,0.24376940727233887,0.40051454305648804,0.3775120973587036,0.3547932803630829,0.3334474563598633,0.3211483955383301,0.20928439497947693,0.3271702527999878,0.49368563294410706,0.41992801427841187,0.4371730089187622,0.46190565824508667,0.4888228476047516,0.35340946912765503,0.3838551342487335,0.45503348112106323,0.2967488765716553,0.41711726784706116,0.451993465423584,0.5037997364997864,0.4227693974971771,0.24323153495788574,0.4569568932056427,0.4522841274738312,0.4482244849205017,0.4454917311668396,0.4373472034931183,0.42460161447525024,0.41942068934440613,0.41508573293685913,0.3811302185058594,0.2874678373336792,0.4514664113521576,0.43996307253837585,0.4262993335723877,0.4293324947357178,0.29369479417800903,0.45883074402809143,0.4259171485900879,0.49021148681640625,0.46798020601272583,0.48998183012008667,0.4369335174560547,0.502543568611145,0.5011579394340515,0.46206367015838623,0.3720588684082031,0.39203765988349915,0.39705440402030945,0.33575618267059326,0.37078529596328735,0.32003480195999146,0.4559105634689331,0.4242778718471527,0.3557223677635193,0.38654759526252747,0.3513909578323364,0.2693164050579071,0.32474422454833984,0.2618536949157715,0.3549186587333679,0.4380221366882324,0.439504474401474,0.426628440618515,0.4481593370437622,0.41729703545570374,0.37252122163772583,0.3341650068759918,0.30438756942749023,0.2861911654472351,0.2810863256454468,0.21730917692184448,0.3010581135749817,0.326383113861084,0.3602377772331238,0.39223772287368774,0.4168146848678589,0.4334026873111725,0.21656575798988342,0.42752134799957275,0.4519782066345215,0.455174058675766,0.4680700898170471,0.45568525791168213,0.43436622619628906,0.4726743996143341,0.4755287170410156,0.4333488941192627,0.4455273449420929,0.4517596662044525,0.31446897983551025,0.2948533892631531,0.5113846063613892,0.6692583560943604,0.5153188705444336,0.7585722208023071,0.6009157299995422,0.6261561512947083,0.6499510407447815,0.6795592308044434,0.5787772536277771,0.6338216066360474,0.6040339469909668,0.6613966822624207,0.6789551973342896,0.7017573118209839,0.5886188745498657,0.6772727966308594,0.7716721296310425,0.7291659712791443,0.6166025400161743,0.5235984325408936,0.5212329030036926,0.5501391291618347,0.5673788189888,0.541907548904419,0.5579407215118408,0.6044497489929199,0.5119080543518066,0.5146023035049438,0.7135089039802551,0.5653937458992004,0.5671853423118591,0.5687555074691772,0.691969633102417,0.5128671526908875,0.6529028415679932,0.6886561512947083,0.7350839376449585,0.5413616895675659,0.5792797803878784,0.6213713884353638,0.7369465827941895,0.5488976240158081,0.5303655862808228,0.5893418192863464,0.5835059881210327,0.7014053463935852,0.5681793689727783,0.6049939393997192,0.6079854965209961,0.6330482363700867,0.717953622341156,0.6179440021514893,0.7275491952896118,0.7439031600952148,0.5230356454849243,0.5461419224739075,0.5629786252975464,0.5434116125106812,0.5863242149353027,0.5771558880805969,0.5804648995399475,0.5381770133972168,0.553911030292511,0.538321852684021,0.5194568037986755,0.5314548015594482,0.5299434065818787,0.5275630354881287,0.5244241952896118,0.5207319855690002,0.5546252131462097,0.5604544878005981,0.5666434168815613,0.5717859268188477,0.5941420197486877,0.768427848815918,0.5659922361373901,0.5715972781181335,0.5234245657920837,0.5603026747703552,0.5266834497451782,0.5919584631919861,0.6340539455413818,0.5731905698776245,0.6956363320350647,0.6780374050140381,0.660557746887207,0.5858791470527649,0.5473333597183228,0.5558700561523438,0.5645381212234497,0.6692695617675781,0.729922890663147,0.5638517141342163,0.7034162878990173,0.5478672385215759,0.5532719492912292,0.7527430057525635,0.7137417793273926,0.6818563938140869,0.6332598924636841,0.597268283367157,0.5700887441635132,0.5139063596725464,0.7470803260803223,0.7229733467102051,0.5046382546424866,0.5621575713157654,0.7771488428115845,0.5494254231452942,0.5753239989280701,0.6888485550880432,0.5538672208786011,0.7562069892883301,0.5623676180839539,0.5341803431510925,0.6845075488090515,0.682099461555481,0.7666360139846802,0.7143467664718628,0.7587713003158569,0.5923391580581665,0.5022876262664795,0.585063636302948,0.7509679794311523,0.6469582319259644,0.6259897947311401,0.5822352170944214,0.7392998337745667,0.5513142347335815,0.617810070514679,0.6469876766204834,0.6045932769775391,0.5837259888648987,0.569604218006134,0.7400617003440857,0.5845588445663452,0.6064674854278564,0.6292054057121277,0.6510717868804932,0.6640770435333252,0.7712588310241699,0.6604256629943848,0.570616602897644,0.5488605499267578,0.5267180800437927,0.65313321352005,0.6234791278839111,0.552829384803772,0.7111763954162598,0.5691161751747131,0.5305165648460388,0.587061882019043,0.7551389336585999,0.5393826365470886,0.5450751781463623,0.5502557754516602,0.5543950200080872,0.5619938969612122,0.5711390376091003,0.5759971737861633,0.580166757106781,0.6119968891143799,0.7080483436584473,0.5304757356643677,0.5441484451293945,0.5592342019081116,0.5664718151092529,0.7066550254821777,0.5214241743087769,0.5767201781272888,0.5129154324531555,0.5473581552505493,0.5408095121383667,0.6273006796836853,0.596849799156189,0.604343593120575,0.6560471057891846,0.6207131147384644,0.6750174760818481,0.5496376752853394,0.5613095164299011,0.6472671031951904,0.6179192662239075,0.6459508538246155,0.7300324440002441,0.6757097244262695,0.7400550842285156,0.6389790773391724,0.545846164226532,0.5455834865570068,0.5594936013221741,0.53529953956604,0.5628097057342529,0.6039193272590637,0.6414788961410522,0.6723721027374268,0.6933648586273193,0.706061065196991,0.7732118368148804,0.6887562274932861,0.6637181043624878,0.6302443146705627,0.5982645153999329,0.573112964630127,0.5555393099784851,0.77484130859375,0.5589801073074341,0.5304555296897888,0.528988778591156,0.5170386433601379,0.5291695594787598,0.5527822375297546,0.5122953653335571,0.5097936391830444,0.5541749000549316,0.5415146350860596,0.5333904027938843,0.6713560223579407,0.689372181892395],\"y\":[0.7072416543960571,0.6460850834846497,0.6627569794654846,0.573777973651886,0.6247979402542114,0.5954185128211975,0.5217866897583008,0.5098336935043335,0.466214656829834,0.43723973631858826,0.32641109824180603,0.7139753103256226,0.7207310199737549,0.7251602411270142,0.7365389466285706,0.7460125684738159,0.7573865652084351,0.7686770558357239,0.7819548845291138,0.6557273268699646,0.6541151404380798,0.42298007011413574,0.530131459236145,0.5314365029335022,0.5302810072898865,0.5179328918457031,0.5259895324707031,0.4702942669391632,0.4726243019104004,0.4743052124977112,0.48254066705703735,0.531814694404602,0.8057236671447754,0.5041651725769043,0.5154155492782593,0.5166890025138855,0.6204366683959961,0.7028836607933044,0.7197413444519043,0.7099080085754395,0.7166838645935059,0.720629096031189,0.7227005362510681,0.7457122802734375,0.6455910205841064,0.6250443458557129,0.46588441729545593,0.5670532584190369,0.6365891098976135,0.6244970560073853,0.6163146495819092,0.5976953506469727,0.4442141056060791,0.45128315687179565,0.3867453336715698,0.4633292257785797,0.48195797204971313,0.7265805006027222,0.7019145488739014,0.6484946012496948,0.6541392803192139,0.7270757555961609,0.7270805835723877,0.43741437792778015,0.6444723606109619,0.4463983178138733,0.4290858805179596,0.33821901679039,0.4110724925994873,0.3824891448020935,0.45578259229660034,0.43957221508026123,0.712321937084198,0.71577388048172,0.7198551297187805,0.6516448259353638,0.7271091341972351,0.7328224778175354,0.7270765900611877,0.6435937285423279,0.7245293855667114,0.7236031293869019,0.7239983081817627,0.781499445438385,0.7661575675010681,0.7549152970314026,0.7436319589614868,0.7348124980926514,0.7302677035331726,0.7341548800468445,0.7395235896110535,0.7456193566322327,0.6947634220123291,0.6012507677078247,0.6591187119483948,0.7287406325340271,0.7305572032928467,0.6616341471672058,0.6553215980529785,0.6579740047454834,0.57891845703125,0.5930393934249878,0.6327309608459473,0.3575937747955322,0.3908894658088684,0.42717742919921875,0.7594459056854248,0.43487316370010376,0.3810611367225647,0.3288363516330719,0.5258908271789551,0.5466628074645996,0.521515429019928,0.49147164821624756,0.553650438785553,0.630323588848114,0.5590887069702148,0.5625447630882263,0.5714487433433533,0.5685858726501465,0.5601898431777954,0.5507175922393799,0.5267586708068848,0.6036863327026367,0.4887550473213196,0.6551300287246704,0.589262068271637,0.5093675851821899,0.539879322052002,0.6326258778572083,0.5053274035453796,0.6155786514282227,0.6507209539413452,0.5139541625976562,0.6043893098831177,0.7557461857795715,0.7732400894165039,0.6031132340431213,0.727941632270813,0.4743727445602417,0.8210079073905945,0.6584517359733582,0.6040266156196594,0.5196656584739685,0.5171691179275513,0.5190562605857849,0.7356195449829102,0.6445587873458862,0.8437671661376953,0.8174795508384705,0.7995161414146423,0.3813890218734741,0.8469591736793518,0.5181819796562195,0.5160030126571655,0.5152139067649841,0.4837343096733093,0.4977102279663086,0.49102330207824707,0.4896017611026764,0.492565780878067,0.4973534047603607,0.4617542624473572,0.5136702060699463,0.6779712438583374,0.6843704581260681,0.6457979083061218,0.6791372299194336,0.4929436445236206,0.7817623019218445,0.8011985421180725,0.8355101943016052,0.7430778741836548,0.5074205994606018,0.5619217753410339,0.8380851745605469,0.8331574201583862,0.648027241230011,0.7323846817016602,0.7389938235282898,0.7475558519363403,0.7575476169586182,0.7723449468612671,0.7248965501785278,0.7236322164535522,0.7220664620399475,0.7093114256858826,0.6587300300598145,0.538690984249115,0.4975699186325073,0.4999473989009857,0.7258493304252625,0.7041558027267456,0.4974871575832367,0.7886819839477539,0.5706347823143005,0.5516244173049927,0.5472667217254639,0.5957819819450378,0.8225192427635193,0.8013522028923035,0.800241231918335,0.7519880533218384,0.6483196020126343,0.7727671265602112,0.6443977355957031,0.6684180498123169,0.6758060455322266,0.820655345916748,0.6067861318588257,0.7639759182929993,0.7854641675949097,0.7276691794395447,0.6781702637672424,0.7278240323066711,0.6893927454948425,0.6935939192771912,0.5752072930335999,0.6402290463447571,0.6439005732536316,0.6269920468330383,0.47753047943115234,0.46344488859176636,0.461337149143219,0.4660605490207672,0.47574448585510254,0.5108283162117004,0.5589885711669922,0.5412881970405579,0.5481168031692505,0.5484194159507751,0.5439355373382568,0.5376588702201843,0.5312855243682861,0.5547147989273071,0.6483978033065796,0.5827364325523376,0.6423653960227966,0.6513733267784119,0.64499831199646,0.6535892486572266,0.6536699533462524,0.6571325063705444,0.5150822997093201,0.5198805928230286,0.5236917734146118,0.5009875297546387,0.4921298325061798,0.5732186436653137,0.5087543725967407,0.6534130573272705,0.41716641187667847,0.5315910577774048,0.532161295413971,0.5299330949783325,0.5153281092643738,0.5277195572853088,0.4691157639026642,0.4727216958999634,0.47173911333084106,0.47912007570266724,0.527955949306488,0.8038139343261719,0.5016629695892334,0.510089099407196,0.511056125164032,0.6174407601356506,0.7024502158164978,0.719490647315979,0.709242582321167,0.7159332633018494,0.7202324271202087,0.7221921682357788,0.7425282597541809,0.6450619697570801,0.6244550347328186,0.46031349897384644,0.5652262568473816,0.6348761916160583,0.6226808428764343,0.6117343306541443,0.5970597863197327,0.44298213720321655,0.4475075602531433,0.38124120235443115,0.4651602506637573,0.48328620195388794,0.7230191230773926,0.6968748569488525,0.6471323370933533,0.6532384753227234,0.7266401052474976,0.7266740798950195,0.43315958976745605,0.6427670121192932,0.4471679925918579,0.4303862750530243,0.3349616825580597,0.4062337577342987,0.37964147329330444,0.44968682527542114,0.434606671333313,0.7119812965393066,0.7152804136276245,0.719174861907959,0.6504290699958801,0.7267090082168579,0.7325465679168701,0.7266407012939453,0.642397940158844,0.7240543365478516,0.7232223749160767,0.7238199710845947,0.780598521232605,0.7661514282226562,0.7547987699508667,0.7435031533241272,0.7347592115402222,0.7300153374671936,0.7339085340499878,0.7393285036087036,0.7454246878623962,0.6920605301856995,0.5955058932304382,0.7284332513809204,0.7302656173706055,0.660889208316803,0.6538339257240295,0.6571964025497437,0.5765395760536194,0.5897350907325745,0.63099205493927,0.3529607653617859,0.38687583804130554,0.4259824752807617,0.756879448890686,0.4377644658088684,0.37950965762138367,0.32698217034339905,0.5245451331138611,0.5417032837867737,0.5236830711364746,0.48677965998649597,0.5522035956382751,0.6288989782333374,0.5538903474807739,0.5581502318382263,0.5677081942558289,0.5659769177436829,0.5585509538650513,0.5501326322555542,0.5261933207511902,0.5984511375427246,0.48317015171051025,0.6547397375106812,0.5874314904212952,0.5032684206962585,0.5403414368629456,0.6307969093322754,0.5018025040626526,0.6140462160110474,0.6452333927154541,0.5164622068405151,0.6032636761665344,0.7521694898605347,0.7695496082305908,0.5976831912994385,0.7235743999481201,0.46912339329719543,0.8192583322525024,0.658148467540741,0.6017922759056091,0.513231098651886,0.51860111951828,0.5213939547538757,0.7352634072303772,0.6392158269882202,0.8426603078842163,0.8147923946380615,0.7965025305747986,0.520832896232605,0.518672525882721,0.5179644227027893,0.4770452678203583,0.4985086917877197,0.4907083511352539,0.4887608289718628,0.49100399017333984,0.4952637553215027,0.455682635307312,0.5138481855392456,0.6823143362998962,0.6443650126457214,0.678383469581604,0.77898770570755,0.7990343570709229,0.8345516920089722,0.7386535406112671,0.5094567537307739,0.5608450174331665,0.8310592770576477,0.6426840424537659,0.7321596741676331,0.7387758493423462,0.7474133372306824,0.757482647895813,0.7702677845954895,0.7242759466171265,0.7229677438735962,0.7213426828384399,0.7060311436653137,0.6537156105041504,0.5377366542816162,0.5000711679458618,0.5023276209831238,0.7253047227859497,0.6993791460990906,0.49993598461151123,0.7867466807365417,0.5509880185127258,0.594394862651825,0.799221396446228,0.7490280270576477,0.6458255052566528,0.7702485918998718,0.6403345465660095,0.6651747822761536,0.6713789701461792,0.8197015523910522,0.6050076484680176,0.7608996033668518,0.7830756902694702,0.7242212295532227,0.6729774475097656,0.7238636016845703,0.6843312382698059,0.6899467706680298,0.5738077163696289,0.6388920545578003,0.6423633098602295,0.6259204149246216,0.4795752763748169,0.4641629457473755,0.46012547612190247,0.46301254630088806,0.47145989537239075,0.5062594413757324,0.5535721182823181,0.538122296333313,0.5458669066429138,0.5472856163978577,0.5436850786209106,0.5381274819374084,0.532301664352417,0.5487415790557861,0.6468504071235657,0.5816603899002075,0.6414094567298889,0.6507245302200317,0.6441270709037781,0.6521784067153931,0.6530722379684448,0.6565709710121155,0.5174919366836548,0.5216847658157349,0.5253111124038696,0.4986133277416229,0.4883568286895752],\"type\":\"scatter\"}],                        {\"template\":{\"data\":{\"histogram2dcontour\":[{\"type\":\"histogram2dcontour\",\"colorbar\":{\"outlinewidth\":0,\"ticks\":\"\"},\"colorscale\":[[0.0,\"#0d0887\"],[0.1111111111111111,\"#46039f\"],[0.2222222222222222,\"#7201a8\"],[0.3333333333333333,\"#9c179e\"],[0.4444444444444444,\"#bd3786\"],[0.5555555555555556,\"#d8576b\"],[0.6666666666666666,\"#ed7953\"],[0.7777777777777778,\"#fb9f3a\"],[0.8888888888888888,\"#fdca26\"],[1.0,\"#f0f921\"]]}],\"choropleth\":[{\"type\":\"choropleth\",\"colorbar\":{\"outlinewidth\":0,\"ticks\":\"\"}}],\"histogram2d\":[{\"type\":\"histogram2d\",\"colorbar\":{\"outlinewidth\":0,\"ticks\":\"\"},\"colorscale\":[[0.0,\"#0d0887\"],[0.1111111111111111,\"#46039f\"],[0.2222222222222222,\"#7201a8\"],[0.3333333333333333,\"#9c179e\"],[0.4444444444444444,\"#bd3786\"],[0.5555555555555556,\"#d8576b\"],[0.6666666666666666,\"#ed7953\"],[0.7777777777777778,\"#fb9f3a\"],[0.8888888888888888,\"#fdca26\"],[1.0,\"#f0f921\"]]}],\"heatmap\":[{\"type\":\"heatmap\",\"colorbar\":{\"outlinewidth\":0,\"ticks\":\"\"},\"colorscale\":[[0.0,\"#0d0887\"],[0.1111111111111111,\"#46039f\"],[0.2222222222222222,\"#7201a8\"],[0.3333333333333333,\"#9c179e\"],[0.4444444444444444,\"#bd3786\"],[0.5555555555555556,\"#d8576b\"],[0.6666666666666666,\"#ed7953\"],[0.7777777777777778,\"#fb9f3a\"],[0.8888888888888888,\"#fdca26\"],[1.0,\"#f0f921\"]]}],\"heatmapgl\":[{\"type\":\"heatmapgl\",\"colorbar\":{\"outlinewidth\":0,\"ticks\":\"\"},\"colorscale\":[[0.0,\"#0d0887\"],[0.1111111111111111,\"#46039f\"],[0.2222222222222222,\"#7201a8\"],[0.3333333333333333,\"#9c179e\"],[0.4444444444444444,\"#bd3786\"],[0.5555555555555556,\"#d8576b\"],[0.6666666666666666,\"#ed7953\"],[0.7777777777777778,\"#fb9f3a\"],[0.8888888888888888,\"#fdca26\"],[1.0,\"#f0f921\"]]}],\"contourcarpet\":[{\"type\":\"contourcarpet\",\"colorbar\":{\"outlinewidth\":0,\"ticks\":\"\"}}],\"contour\":[{\"type\":\"contour\",\"colorbar\":{\"outlinewidth\":0,\"ticks\":\"\"},\"colorscale\":[[0.0,\"#0d0887\"],[0.1111111111111111,\"#46039f\"],[0.2222222222222222,\"#7201a8\"],[0.3333333333333333,\"#9c179e\"],[0.4444444444444444,\"#bd3786\"],[0.5555555555555556,\"#d8576b\"],[0.6666666666666666,\"#ed7953\"],[0.7777777777777778,\"#fb9f3a\"],[0.8888888888888888,\"#fdca26\"],[1.0,\"#f0f921\"]]}],\"surface\":[{\"type\":\"surface\",\"colorbar\":{\"outlinewidth\":0,\"ticks\":\"\"},\"colorscale\":[[0.0,\"#0d0887\"],[0.1111111111111111,\"#46039f\"],[0.2222222222222222,\"#7201a8\"],[0.3333333333333333,\"#9c179e\"],[0.4444444444444444,\"#bd3786\"],[0.5555555555555556,\"#d8576b\"],[0.6666666666666666,\"#ed7953\"],[0.7777777777777778,\"#fb9f3a\"],[0.8888888888888888,\"#fdca26\"],[1.0,\"#f0f921\"]]}],\"mesh3d\":[{\"type\":\"mesh3d\",\"colorbar\":{\"outlinewidth\":0,\"ticks\":\"\"}}],\"scatter\":[{\"fillpattern\":{\"fillmode\":\"overlay\",\"size\":10,\"solidity\":0.2},\"type\":\"scatter\"}],\"parcoords\":[{\"type\":\"parcoords\",\"line\":{\"colorbar\":{\"outlinewidth\":0,\"ticks\":\"\"}}}],\"scatterpolargl\":[{\"type\":\"scatterpolargl\",\"marker\":{\"colorbar\":{\"outlinewidth\":0,\"ticks\":\"\"}}}],\"bar\":[{\"error_x\":{\"color\":\"#2a3f5f\"},\"error_y\":{\"color\":\"#2a3f5f\"},\"marker\":{\"line\":{\"color\":\"#E5ECF6\",\"width\":0.5},\"pattern\":{\"fillmode\":\"overlay\",\"size\":10,\"solidity\":0.2}},\"type\":\"bar\"}],\"scattergeo\":[{\"type\":\"scattergeo\",\"marker\":{\"colorbar\":{\"outlinewidth\":0,\"ticks\":\"\"}}}],\"scatterpolar\":[{\"type\":\"scatterpolar\",\"marker\":{\"colorbar\":{\"outlinewidth\":0,\"ticks\":\"\"}}}],\"histogram\":[{\"marker\":{\"pattern\":{\"fillmode\":\"overlay\",\"size\":10,\"solidity\":0.2}},\"type\":\"histogram\"}],\"scattergl\":[{\"type\":\"scattergl\",\"marker\":{\"colorbar\":{\"outlinewidth\":0,\"ticks\":\"\"}}}],\"scatter3d\":[{\"type\":\"scatter3d\",\"line\":{\"colorbar\":{\"outlinewidth\":0,\"ticks\":\"\"}},\"marker\":{\"colorbar\":{\"outlinewidth\":0,\"ticks\":\"\"}}}],\"scattermapbox\":[{\"type\":\"scattermapbox\",\"marker\":{\"colorbar\":{\"outlinewidth\":0,\"ticks\":\"\"}}}],\"scatterternary\":[{\"type\":\"scatterternary\",\"marker\":{\"colorbar\":{\"outlinewidth\":0,\"ticks\":\"\"}}}],\"scattercarpet\":[{\"type\":\"scattercarpet\",\"marker\":{\"colorbar\":{\"outlinewidth\":0,\"ticks\":\"\"}}}],\"carpet\":[{\"aaxis\":{\"endlinecolor\":\"#2a3f5f\",\"gridcolor\":\"white\",\"linecolor\":\"white\",\"minorgridcolor\":\"white\",\"startlinecolor\":\"#2a3f5f\"},\"baxis\":{\"endlinecolor\":\"#2a3f5f\",\"gridcolor\":\"white\",\"linecolor\":\"white\",\"minorgridcolor\":\"white\",\"startlinecolor\":\"#2a3f5f\"},\"type\":\"carpet\"}],\"table\":[{\"cells\":{\"fill\":{\"color\":\"#EBF0F8\"},\"line\":{\"color\":\"white\"}},\"header\":{\"fill\":{\"color\":\"#C8D4E3\"},\"line\":{\"color\":\"white\"}},\"type\":\"table\"}],\"barpolar\":[{\"marker\":{\"line\":{\"color\":\"#E5ECF6\",\"width\":0.5},\"pattern\":{\"fillmode\":\"overlay\",\"size\":10,\"solidity\":0.2}},\"type\":\"barpolar\"}],\"pie\":[{\"automargin\":true,\"type\":\"pie\"}]},\"layout\":{\"autotypenumbers\":\"strict\",\"colorway\":[\"#636efa\",\"#EF553B\",\"#00cc96\",\"#ab63fa\",\"#FFA15A\",\"#19d3f3\",\"#FF6692\",\"#B6E880\",\"#FF97FF\",\"#FECB52\"],\"font\":{\"color\":\"#2a3f5f\"},\"hovermode\":\"closest\",\"hoverlabel\":{\"align\":\"left\"},\"paper_bgcolor\":\"white\",\"plot_bgcolor\":\"#E5ECF6\",\"polar\":{\"bgcolor\":\"#E5ECF6\",\"angularaxis\":{\"gridcolor\":\"white\",\"linecolor\":\"white\",\"ticks\":\"\"},\"radialaxis\":{\"gridcolor\":\"white\",\"linecolor\":\"white\",\"ticks\":\"\"}},\"ternary\":{\"bgcolor\":\"#E5ECF6\",\"aaxis\":{\"gridcolor\":\"white\",\"linecolor\":\"white\",\"ticks\":\"\"},\"baxis\":{\"gridcolor\":\"white\",\"linecolor\":\"white\",\"ticks\":\"\"},\"caxis\":{\"gridcolor\":\"white\",\"linecolor\":\"white\",\"ticks\":\"\"}},\"coloraxis\":{\"colorbar\":{\"outlinewidth\":0,\"ticks\":\"\"}},\"colorscale\":{\"sequential\":[[0.0,\"#0d0887\"],[0.1111111111111111,\"#46039f\"],[0.2222222222222222,\"#7201a8\"],[0.3333333333333333,\"#9c179e\"],[0.4444444444444444,\"#bd3786\"],[0.5555555555555556,\"#d8576b\"],[0.6666666666666666,\"#ed7953\"],[0.7777777777777778,\"#fb9f3a\"],[0.8888888888888888,\"#fdca26\"],[1.0,\"#f0f921\"]],\"sequentialminus\":[[0.0,\"#0d0887\"],[0.1111111111111111,\"#46039f\"],[0.2222222222222222,\"#7201a8\"],[0.3333333333333333,\"#9c179e\"],[0.4444444444444444,\"#bd3786\"],[0.5555555555555556,\"#d8576b\"],[0.6666666666666666,\"#ed7953\"],[0.7777777777777778,\"#fb9f3a\"],[0.8888888888888888,\"#fdca26\"],[1.0,\"#f0f921\"]],\"diverging\":[[0,\"#8e0152\"],[0.1,\"#c51b7d\"],[0.2,\"#de77ae\"],[0.3,\"#f1b6da\"],[0.4,\"#fde0ef\"],[0.5,\"#f7f7f7\"],[0.6,\"#e6f5d0\"],[0.7,\"#b8e186\"],[0.8,\"#7fbc41\"],[0.9,\"#4d9221\"],[1,\"#276419\"]]},\"xaxis\":{\"gridcolor\":\"white\",\"linecolor\":\"white\",\"ticks\":\"\",\"title\":{\"standoff\":15},\"zerolinecolor\":\"white\",\"automargin\":true,\"zerolinewidth\":2},\"yaxis\":{\"gridcolor\":\"white\",\"linecolor\":\"white\",\"ticks\":\"\",\"title\":{\"standoff\":15},\"zerolinecolor\":\"white\",\"automargin\":true,\"zerolinewidth\":2},\"scene\":{\"xaxis\":{\"backgroundcolor\":\"#E5ECF6\",\"gridcolor\":\"white\",\"linecolor\":\"white\",\"showbackground\":true,\"ticks\":\"\",\"zerolinecolor\":\"white\",\"gridwidth\":2},\"yaxis\":{\"backgroundcolor\":\"#E5ECF6\",\"gridcolor\":\"white\",\"linecolor\":\"white\",\"showbackground\":true,\"ticks\":\"\",\"zerolinecolor\":\"white\",\"gridwidth\":2},\"zaxis\":{\"backgroundcolor\":\"#E5ECF6\",\"gridcolor\":\"white\",\"linecolor\":\"white\",\"showbackground\":true,\"ticks\":\"\",\"zerolinecolor\":\"white\",\"gridwidth\":2}},\"shapedefaults\":{\"line\":{\"color\":\"#2a3f5f\"}},\"annotationdefaults\":{\"arrowcolor\":\"#2a3f5f\",\"arrowhead\":0,\"arrowwidth\":1},\"geo\":{\"bgcolor\":\"white\",\"landcolor\":\"#E5ECF6\",\"subunitcolor\":\"white\",\"showland\":true,\"showlakes\":true,\"lakecolor\":\"white\"},\"title\":{\"x\":0.05},\"mapbox\":{\"style\":\"light\"}}},\"xaxis\":{\"title\":{\"text\":\"X-axis\"},\"range\":[0,1]},\"yaxis\":{\"title\":{\"text\":\"Y-axis\"},\"range\":[0,1]},\"title\":{\"text\":\"2D Line Plot\"},\"width\":450.0,\"height\":579.0},                        {\"responsive\": true}                    ).then(function(){\n",
       "                            \n",
       "var gd = document.getElementById('04a6c8a1-9471-4d14-8e4c-224f61c094d6');\n",
       "var x = new MutationObserver(function (mutations, observer) {{\n",
       "        var display = window.getComputedStyle(gd).display;\n",
       "        if (!display || display === 'none') {{\n",
       "            console.log([gd, 'removed!']);\n",
       "            Plotly.purge(gd);\n",
       "            observer.disconnect();\n",
       "        }}\n",
       "}});\n",
       "\n",
       "// Listen for the removal of the full notebook cells\n",
       "var notebookContainer = gd.closest('#notebook-container');\n",
       "if (notebookContainer) {{\n",
       "    x.observe(notebookContainer, {childList: true});\n",
       "}}\n",
       "\n",
       "// Listen for the clearing of the current output cell\n",
       "var outputEl = gd.closest('.output');\n",
       "if (outputEl) {{\n",
       "    x.observe(outputEl, {childList: true});\n",
       "}}\n",
       "\n",
       "                        })                };                });            </script>        </div>"
      ]
     },
     "metadata": {},
     "output_type": "display_data"
    }
   ],
   "source": [
    "import plotly.graph_objects as go\n",
    "\n",
    "# Sample data\n",
    "x = [vertex[0] for vertex in texture_coordinates]\n",
    "y = [vertex[1] for vertex in texture_coordinates]\n",
    "\n",
    "# Create a line plot\n",
    "fig = go.Figure(data=go.Scatter(x=x, y=y, mode='markers', marker=dict(size=2)))\n",
    "\n",
    "layout_scale = 1.5\n",
    "\n",
    "# Customize the layout\n",
    "fig.update_layout(title='2D Line Plot',\n",
    "                  xaxis_title='X-axis',\n",
    "                  yaxis_title='Y-axis',\n",
    "                  xaxis=dict(range=[0, 1]),\n",
    "                  yaxis=dict(range=[0, 1]),\n",
    "                  width=W * layout_scale,\n",
    "                  height=H * layout_scale)\n",
    "\n",
    "# Show the plot\n",
    "fig.show()"
   ]
  },
  {
   "cell_type": "code",
   "execution_count": 29,
   "id": "aa7a55a6",
   "metadata": {},
   "outputs": [
    {
     "data": {
      "application/vnd.plotly.v1+json": {
       "config": {
        "plotlyServerURL": "https://plot.ly"
       },
       "data": [
        {
         "marker": {
          "size": 2
         },
         "mode": "markers",
         "type": "scatter",
         "x": [
          148.8196849822998,
          147.5411295890808,
          147.8749930858612,
          140.93329310417175,
          147.29122817516327,
          147.12690711021423,
          146.88038527965546,
          95.39713561534882,
          146.35785520076752,
          146.07849419116974,
          145.03986239433289,
          148.94124269485474,
          149.04266595840454,
          149.16712045669556,
          149.49012994766235,
          149.6878981590271,
          149.85314905643463,
          150.04611611366272,
          149.90995824337006,
          147.70991206169128,
          141.05105996131897,
          65.33867418766022,
          116.70522093772888,
          109.03456807136536,
          101.71535611152649,
          92.50373840332031,
          123.20954203605652,
          103.76842617988586,
          112.90342211723328,
          95.77302932739258,
          91.0598874092102,
          86.22409701347351,
          124.99109208583832,
          92.83842444419861,
          64.49569165706635,
          77.69684493541718,
          111.66974902153015,
          140.53815007209778,
          141.77507758140564,
          132.92499482631683,
          127.9865562915802,
          135.71411669254303,
          131.0557723045349,
          117.68582761287689,
          141.53907001018524,
          140.3420627117157,
          79.0423035621643,
          125.86609125137329,
          125.66880583763123,
          125.1630038022995,
          89.6284818649292,
          140.5268758535385,
          95.34135460853577,
          85.2896511554718,
          71.44514322280884,
          129.78557646274567,
          120.91705799102783,
          112.13344931602478,
          80.42004704475403,
          131.24417960643768,
          136.83201670646667,
          122.06039428710938,
          123.83709847927094,
          80.9516429901123,
          125.59699416160583,
          109.88618731498718,
          107.91622996330261,
          100.77591240406036,
          77.01627910137177,
          106.03923797607422,
          74.80070292949677,
          70.17757594585419,
          140.9965217113495,
          134.28967595100403,
          129.43946421146393,
          132.93778002262115,
          122.97745943069458,
          125.99998712539673,
          124.73904490470886,
          134.12998616695404,
          132.34736323356628,
          136.9272530078888,
          142.5623595714569,
          140.55339395999908,
          141.06366634368896,
          141.35209321975708,
          141.94838404655457,
          142.72456169128418,
          132.4765920639038,
          131.010639667511,
          129.3809562921524,
          128.0783236026764,
          119.26007866859436,
          68.2499885559082,
          147.7951616048813,
          129.04329299926758,
          127.53801941871643,
          139.03900980949402,
          128.2676249742508,
          137.98853158950806,
          118.2012677192688,
          106.11967742443085,
          124.12846684455872,
          82.65552520751953,
          88.37725818157196,
          92.26834774017334,
          123.7268328666687,
          126.36145949363708,
          124.48301911354065,
          120.90402245521545,
          95.80029845237732,
          78.45853865146637,
          127.41608619689941,
          84.00748372077942,
          130.7840198278427,
          129.49858903884888,
          70.9008514881134,
          83.3459883928299,
          92.8226888179779,
          107.37537145614624,
          118.08030009269714,
          125.87186694145203,
          139.93843495845795,
          73.6084520816803,
          77.97121703624725,
          144.06539797782898,
          126.97687447071075,
          62.786123156547546,
          131.52577579021454,
          123.59883785247803,
          89.42621648311615,
          129.21285331249237,
          73.37976694107056,
          127.49379873275757,
          134.58833992481232,
          96.36793434619904,
          98.19679856300354,
          68.33794713020325,
          87.02645301818848,
          66.8888121843338,
          124.61223006248474,
          144.91354823112488,
          120.49744427204132,
          72.05533683300018,
          102.27529406547546,
          108.62231254577637,
          124.60945844650269,
          77.08812654018402,
          137.44288980960846,
          117.69628822803497,
          108.98065567016602,
          145.52380442619324,
          151.39399766921997,
          115.13355374336243,
          121.33829891681671,
          125.46324133872986,
          73.13082218170166,
          120.15436291694641,
          113.25362920761108,
          106.43798410892487,
          100.03423690795898,
          96.34451866149902,
          62.78531849384308,
          98.15107583999634,
          148.10568988323212,
          125.97840428352356,
          131.15190267562866,
          138.571697473526,
          146.64685428142548,
          106.02284073829651,
          115.15654027462006,
          136.51004433631897,
          89.02466297149658,
          125.13518035411835,
          135.5980396270752,
          151.1399209499359,
          126.83081924915314,
          72.96946048736572,
          137.0870679616928,
          135.68523824214935,
          134.4673454761505,
          133.64751935005188,
          131.2041610479355,
          127.38048434257507,
          125.82620680332184,
          124.52571988105774,
          114.33906555175781,
          86.24035120010376,
          135.43992340564728,
          131.98892176151276,
          127.88980007171631,
          128.79974842071533,
          88.10843825340271,
          137.64922320842743,
          127.77514457702637,
          147.06344604492188,
          140.39406180381775,
          146.994549036026,
          131.0800552368164,
          150.7630705833435,
          150.34738183021545,
          138.61910104751587,
          111.61766052246094,
          117.61129796504974,
          119.11632120609283,
          100.72685480117798,
          111.2355887889862,
          96.01044058799744,
          136.77316904067993,
          127.28336155414581,
          106.71671032905579,
          115.96427857875824,
          105.41728734970093,
          80.79492151737213,
          97.42326736450195,
          78.55610847473145,
          106.47559762001038,
          131.40664100646973,
          131.8513423204422,
          127.9885321855545,
          134.44780111312866,
          125.18911063671112,
          111.75636649131775,
          100.24950206279755,
          91.31627082824707,
          85.85734963417053,
          84.32589769363403,
          65.19275307655334,
          90.3174340724945,
          97.9149341583252,
          108.07133316993713,
          117.67131686210632,
          125.04440546035767,
          130.02080619335175,
          64.96972739696503,
          128.25640439987183,
          135.59346199035645,
          136.5522176027298,
          140.42102694511414,
          136.70557737350464,
          130.30986785888672,
          141.80231988430023,
          142.6586151123047,
          130.0046682357788,
          133.65820348262787,
          135.52789986133575,
          94.34069395065308,
          88.45601677894592,
          153.41538190841675,
          200.7775068283081,
          154.59566116333008,
          227.57166624069214,
          180.27471899986267,
          187.84684538841248,
          194.98531222343445,
          203.867769241333,
          173.63317608833313,
          190.1464819908142,
          181.21018409729004,
          198.4190046787262,
          203.68655920028687,
          210.52719354629517,
          176.58566236495972,
          203.1818389892578,
          231.50163888931274,
          218.7497913837433,
          184.9807620048523,
          157.07952976226807,
          156.3698709011078,
          165.04173874855042,
          170.21364569664001,
          162.57226467132568,
          167.38221645355225,
          181.33492469787598,
          153.572416305542,
          154.38069105148315,
          214.05267119407654,
          169.61812376976013,
          170.15560269355774,
          170.62665224075317,
          207.5908899307251,
          153.86014580726624,
          195.87085247039795,
          206.59684538841248,
          220.52518129348755,
          162.40850687026978,
          173.78393411636353,
          186.41141653060913,
          221.08397483825684,
          164.66928720474243,
          159.10967588424683,
          176.80254578590393,
          175.05179643630981,
          210.42160391807556,
          170.4538106918335,
          181.49818181991577,
          182.39564895629883,
          189.914470911026,
          215.3860867023468,
          185.38320064544678,
          218.26475858688354,
          223.17094802856445,
          156.9106936454773,
          163.84257674217224,
          168.89358758926392,
          163.02348375320435,
          175.89726448059082,
          173.14676642417908,
          174.13946986198425,
          161.45310401916504,
          166.1733090877533,
          161.4965558052063,
          155.83704113960266,
          159.43644046783447,
          158.9830219745636,
          158.2689106464386,
          157.32725858688354,
          156.21959567070007,
          166.38756394386292,
          168.13634634017944,
          169.99302506446838,
          171.5357780456543,
          178.24260592460632,
          230.5283546447754,
          169.79767084121704,
          171.47918343544006,
          157.02736973762512,
          168.09080243110657,
          158.00503492355347,
          177.58753895759583,
          190.21618366241455,
          171.95717096328735,
          208.6908996105194,
          203.41122150421143,
          198.1673240661621,
          175.76374411582947,
          164.20000791549683,
          166.76101684570312,
          169.3614363670349,
          200.78086853027344,
          218.9768671989441,
          169.1555142402649,
          211.0248863697052,
          164.36017155647278,
          165.98158478736877,
          225.82290172576904,
          214.12253379821777,
          204.55691814422607,
          189.97796773910522,
          179.1804850101471,
          171.02662324905396,
          154.17190790176392,
          224.12409782409668,
          216.89200401306152,
          151.39147639274597,
          168.64727139472961,
          233.14465284347534,
          164.82762694358826,
          172.59719967842102,
          206.65456652641296,
          166.16016626358032,
          226.86209678649902,
          168.71028542518616,
          160.25410294532776,
          205.35226464271545,
          204.6298384666443,
          229.99080419540405,
          214.30402994155884,
          227.63139009475708,
          177.70174741744995,
          150.68628787994385,
          175.5190908908844,
          225.2903938293457,
          194.0874695777893,
          187.79693841934204,
          174.67056512832642,
          221.78995013237,
          165.39427042007446,
          185.3430211544037,
          194.09630298614502,
          181.37798309326172,
          175.1177966594696,
          170.8812654018402,
          222.0185101032257,
          175.36765336990356,
          181.94024562835693,
          188.7616217136383,
          195.32153606414795,
          199.22311305999756,
          231.37764930725098,
          198.12769889831543,
          171.1849808692932,
          164.65816497802734,
          158.01542401313782,
          195.93996405601501,
          187.04373836517334,
          165.8488154411316,
          213.35291862487793,
          170.73485255241394,
          159.15496945381165,
          176.1185646057129,
          226.54168009757996,
          161.8147909641266,
          163.5225534439087,
          165.07673263549805,
          166.31850600242615,
          168.59816908836365,
          171.3417112827301,
          172.799152135849,
          174.0500271320343,
          183.59906673431396,
          212.41450309753418,
          159.1427206993103,
          163.24453353881836,
          167.77026057243347,
          169.94154453277588,
          211.99650764465332,
          156.42725229263306,
          173.01605343818665,
          153.87462973594666,
          164.2074465751648,
          162.24285364151,
          188.1902039051056,
          179.0549397468567,
          181.30307793617249,
          196.81413173675537,
          186.2139344215393,
          202.50524282455444,
          164.8913025856018,
          168.39285492897034,
          194.18013095855713,
          185.37577986717224,
          193.78525614738464,
          219.00973320007324,
          202.71291732788086,
          222.0165252685547,
          191.6937232017517,
          163.7538492679596,
          163.67504596710205,
          167.84808039665222,
          160.589861869812,
          168.84291172027588,
          181.17579817771912,
          192.44366884231567,
          201.71163082122803,
          208.0094575881958,
          211.8183195590973,
          231.9635510444641,
          206.62686824798584,
          199.11543130874634,
          189.07329440116882,
          179.47935461997986,
          171.9338893890381,
          166.66179299354553,
          232.452392578125,
          167.69403219223022,
          159.13665890693665,
          158.6966335773468,
          155.11159300804138,
          158.75086784362793,
          165.8346712589264,
          153.68860960006714,
          152.93809175491333,
          166.2524700164795,
          162.45439052581787,
          160.01712083816528,
          201.4068067073822,
          206.8116545677185
         ],
         "y": [
          272.99527859687805,
          249.38884222507477,
          255.82419407367706,
          221.478297829628,
          241.1720049381256,
          229.83154594898224,
          201.4096622467041,
          196.79580569267273,
          179.95885753631592,
          168.77453821897507,
          125.99468392133713,
          275.5944697856903,
          278.2021737098694,
          279.91185307502747,
          284.30403339862823,
          287.96085143089294,
          292.35121417045593,
          296.7093435525894,
          301.8345854282379,
          253.11074817180634,
          252.48844420909882,
          163.2703070640564,
          204.63074326515198,
          205.13449013233185,
          204.68846881389618,
          199.9220962524414,
          203.0319595336914,
          181.533587038517,
          182.43298053741455,
          183.08181202411652,
          186.26069748401642,
          205.2804720401764,
          311.0093355178833,
          194.60775661468506,
          198.95040202140808,
          199.4419549703598,
          239.4885540008545,
          271.3130930662155,
          277.82015895843506,
          274.02449131011963,
          276.63997173309326,
          278.16283106803894,
          278.9624069929123,
          287.8449401855469,
          249.1981339454651,
          241.26711750030518,
          179.831385076046,
          218.88255774974823,
          245.72339642047882,
          241.0558636188507,
          237.89745473861694,
          230.71040534973145,
          171.46664476394653,
          174.19529855251312,
          149.28369879722595,
          178.84508115053177,
          186.03577721118927,
          280.46007323265076,
          270.9390158653259,
          250.3189160823822,
          252.49776220321655,
          280.6512416601181,
          280.65310525894165,
          168.84194988012314,
          248.7663311958313,
          172.3097506761551,
          165.6271498799324,
          130.55254048109055,
          158.6739821434021,
          147.6408098936081,
          175.93208062648773,
          169.67487502098083,
          274.9562677145004,
          276.2887178659439,
          277.8640800714493,
          251.53490281105042,
          280.66412580013275,
          282.86947643756866,
          280.65156376361847,
          248.42717921733856,
          279.6683428287506,
          279.3108079433441,
          279.4633469581604,
          301.6587859392166,
          295.7368210554123,
          291.3973046541214,
          287.0419361591339,
          283.6376242637634,
          281.8833335638046,
          283.38378369808197,
          285.45610558986664,
          287.8090716600418,
          268.17868089675903,
          232.08279633522034,
          254.41982281208038,
          281.29388415813446,
          281.9950804710388,
          255.39078080654144,
          252.9541368484497,
          253.9779658317566,
          223.4625244140625,
          228.9132058620453,
          244.23415088653564,
          138.03119707107544,
          150.8833338022232,
          164.89048767089844,
          293.146119594574,
          167.86104118824005,
          147.08959877490997,
          126.93083173036575,
          202.99385929107666,
          211.01184368133545,
          201.3049556016922,
          189.70805621147156,
          213.70906937122345,
          243.304905295372,
          215.80824089050293,
          217.14227855205536,
          220.57921493053436,
          219.47414684295654,
          216.23327946662903,
          212.57699060440063,
          203.32884693145752,
          233.02292442321777,
          188.65944826602936,
          252.88019108772278,
          227.45515835285187,
          196.61588788032532,
          208.39341831207275,
          244.19358885288239,
          195.05637776851654,
          237.61335945129395,
          251.17828822135925,
          198.3863067626953,
          233.29427361488342,
          291.7180277109146,
          298.4706745147705,
          232.80170834064484,
          280.9854700565338,
          183.1078794002533,
          316.90905225276947,
          254.16237008571625,
          233.15427362918854,
          200.59094417095184,
          199.6272795200348,
          200.35571658611298,
          283.9491443634033,
          248.79969191551208,
          325.6941261291504,
          315.5471066236496,
          308.61323058605194,
          147.216162443161,
          326.9262410402298,
          200.01824414730072,
          199.1771628856659,
          198.87256801128387,
          186.7214435338974,
          192.11614799499512,
          189.53499460220337,
          188.9862797856331,
          190.13039141893387,
          191.97841423749924,
          178.23714530467987,
          198.27669954299927,
          261.69690012931824,
          264.1669968366623,
          249.27799260616302,
          262.14697074890137,
          190.27624678611755,
          301.76024854183197,
          309.262637257576,
          322.5069350004196,
          286.82805943489075,
          195.8643513917923,
          216.9018052816391,
          323.5008773803711,
          321.5987641811371,
          250.13851511478424,
          282.7004871368408,
          285.25161588191986,
          288.55655884742737,
          292.4133801460266,
          298.1251494884491,
          279.81006836891174,
          279.32203555107117,
          278.71765434741974,
          273.79421031475067,
          254.26979160308838,
          207.9347199201584,
          192.06198859214783,
          192.9796959757805,
          280.1778415441513,
          271.8041398525238,
          192.03004282712936,
          304.431245803833,
          220.26502597332,
          212.92702507972717,
          211.24495458602905,
          229.9718450307846,
          317.49242770671844,
          309.32195031642914,
          308.8931155204773,
          290.2673885822296,
          250.25136637687683,
          298.2881108522415,
          248.7375259399414,
          258.0093672275543,
          260.86113357543945,
          316.77296352386475,
          234.2194468975067,
          294.8947044610977,
          303.18916869163513,
          280.88030326366425,
          261.7737218141556,
          280.94007647037506,
          266.1055997610092,
          267.7272528409958,
          222.03001511096954,
          247.12841188907623,
          248.5456212759018,
          242.0189300775528,
          184.3267650604248,
          178.8897269964218,
          178.07613956928253,
          179.89937192201614,
          183.63737154006958,
          197.17973005771637,
          215.76958847045898,
          208.93724405765533,
          211.5730860233307,
          211.6898945569992,
          209.95911741256714,
          207.53632390499115,
          205.07621240615845,
          214.11991238594055,
          250.28155207633972,
          224.93626296520233,
          247.9530428647995,
          251.43010413646698,
          248.96934843063354,
          252.28544998168945,
          252.31660199165344,
          253.65314745903015,
          198.82176768779755,
          200.67390882968903,
          202.14502453804016,
          193.38118648529053,
          189.9621153473854,
          221.2623964548111,
          196.37918782234192,
          252.21744012832642,
          161.0262349843979,
          205.19414830207825,
          205.41426002979279,
          204.55417466163635,
          198.91665017604828,
          203.6997491121292,
          181.07868486642838,
          182.47057461738586,
          182.09129774570465,
          184.94034922122955,
          203.79099643230438,
          310.27217864990234,
          193.6419062614441,
          196.89439237117767,
          197.26766431331635,
          238.33213341236115,
          271.14578330516815,
          277.7233898639679,
          273.76763677597046,
          276.35023963451385,
          278.0097168684006,
          278.7661769390106,
          286.61590826511383,
          248.9939203262329,
          241.03964340686798,
          177.68101060390472,
          218.1773351430893,
          245.06220996379852,
          240.35480535030365,
          236.1294516324997,
          230.4650775194168,
          170.9911049604416,
          172.73791825771332,
          147.15910410881042,
          179.55185675621033,
          186.54847395420074,
          279.08538150787354,
          268.9936947822571,
          249.79308211803436,
          252.15005147457123,
          280.48308062553406,
          280.49619483947754,
          167.19960165023804,
          248.10806667804718,
          172.60684514045715,
          166.12910217046738,
          129.29520946741104,
          156.8062304854393,
          146.54160869121552,
          173.57911455631256,
          167.7581751346588,
          274.82478046417236,
          276.09823966026306,
          277.60149669647217,
          251.06562101840973,
          280.50967717170715,
          282.76297521591187,
          280.4833106994629,
          247.96560490131378,
          279.4849739074707,
          279.1638367176056,
          279.39450883865356,
          301.3110291957855,
          295.7344512939453,
          291.35232520103455,
          286.9922171831131,
          283.61705565452576,
          281.78592026233673,
          283.2886941432953,
          285.3808023929596,
          287.73392951488495,
          267.13536465168,
          229.86527478694916,
          281.1752350330353,
          281.8825283050537,
          255.10323441028595,
          252.3798953294754,
          253.67781138420105,
          222.54427635669708,
          227.63774502277374,
          243.56293320655823,
          136.24285542964935,
          149.33407348394394,
          164.42923545837402,
          292.1554672718048,
          168.9770838022232,
          146.4907278418541,
          126.21511775255203,
          202.47442138195038,
          209.09746754169464,
          202.1416654586792,
          187.89694875478745,
          213.1505879163742,
          242.75500559806824,
          213.80167412757874,
          215.44598948955536,
          219.13536298274994,
          218.46709024906158,
          215.6006681919098,
          212.35119605064392,
          203.1106218099594,
          231.0021390914917,
          186.50367856025696,
          252.72953867912292,
          226.74855530261993,
          194.2616103887558,
          208.57179462909698,
          243.4876070022583,
          193.6957665681839,
          237.02183938026428,
          249.06008958816528,
          199.35441184043884,
          232.8597790002823,
          290.3374230861664,
          297.04614877700806,
          230.70571184158325,
          279.29971837997437,
          181.08162981271744,
          316.23371624946594,
          254.045308470726,
          232.29181849956512,
          198.107204079628,
          200.1800321340561,
          201.25806653499603,
          283.8116751909256,
          246.737309217453,
          325.2668788433075,
          314.50986433029175,
          307.44997680187225,
          201.04149794578552,
          200.20759499073029,
          199.93426716327667,
          184.1394733786583,
          192.42435503005981,
          189.413423538208,
          188.66167998313904,
          189.52754020690918,
          191.17180955410004,
          175.89349722862244,
          198.3453996181488,
          263.37333381175995,
          248.72489488124847,
          261.85601925849915,
          300.6892544031143,
          308.4272618293762,
          322.13695311546326,
          285.1202666759491,
          196.65030694007874,
          216.48617672920227,
          320.788880944252,
          248.07604038715363,
          282.61363422870636,
          285.16747784614563,
          288.5015481710434,
          292.3883020877838,
          297.32336485385895,
          279.5705153942108,
          279.06554913520813,
          278.4382755756378,
          272.5280214548111,
          252.33422565460205,
          207.56634855270386,
          193.02747082710266,
          193.89846169948578,
          279.9676229953766,
          269.96035039424896,
          192.97529006004333,
          303.6842187643051,
          212.68137514591217,
          229.43641698360443,
          308.499459028244,
          289.124818444252,
          249.288645029068,
          297.3159564733505,
          247.16913497447968,
          256.7574659585953,
          259.15228247642517,
          316.40479922294617,
          233.53295230865479,
          293.7072468996048,
          302.2672164440155,
          279.54939460754395,
          259.76929473876953,
          279.41135025024414,
          264.1518579721451,
          266.3194534778595,
          221.48977851867676,
          246.6123330593109,
          247.95223760604858,
          241.60528016090393,
          185.11605668067932,
          179.16689705848694,
          177.60843378305435,
          178.7228428721428,
          181.98351961374283,
          195.41614437103271,
          213.6788376569748,
          207.7152063846588,
          210.70462596416473,
          211.25224792957306,
          209.8624403476715,
          207.71720802783966,
          205.46844244003296,
          211.81424951553345,
          249.68425714969635,
          224.5209105014801,
          247.58405029773712,
          251.17966866493225,
          248.63304936885834,
          251.74086499214172,
          252.0858838558197,
          253.43639481067657,
          199.75188755989075,
          201.37031960487366,
          202.77008938789368,
          192.46474450826645,
          188.50573587417603
         ]
        }
       ],
       "layout": {
        "height": 579,
        "template": {
         "data": {
          "bar": [
           {
            "error_x": {
             "color": "#2a3f5f"
            },
            "error_y": {
             "color": "#2a3f5f"
            },
            "marker": {
             "line": {
              "color": "#E5ECF6",
              "width": 0.5
             },
             "pattern": {
              "fillmode": "overlay",
              "size": 10,
              "solidity": 0.2
             }
            },
            "type": "bar"
           }
          ],
          "barpolar": [
           {
            "marker": {
             "line": {
              "color": "#E5ECF6",
              "width": 0.5
             },
             "pattern": {
              "fillmode": "overlay",
              "size": 10,
              "solidity": 0.2
             }
            },
            "type": "barpolar"
           }
          ],
          "carpet": [
           {
            "aaxis": {
             "endlinecolor": "#2a3f5f",
             "gridcolor": "white",
             "linecolor": "white",
             "minorgridcolor": "white",
             "startlinecolor": "#2a3f5f"
            },
            "baxis": {
             "endlinecolor": "#2a3f5f",
             "gridcolor": "white",
             "linecolor": "white",
             "minorgridcolor": "white",
             "startlinecolor": "#2a3f5f"
            },
            "type": "carpet"
           }
          ],
          "choropleth": [
           {
            "colorbar": {
             "outlinewidth": 0,
             "ticks": ""
            },
            "type": "choropleth"
           }
          ],
          "contour": [
           {
            "colorbar": {
             "outlinewidth": 0,
             "ticks": ""
            },
            "colorscale": [
             [
              0,
              "#0d0887"
             ],
             [
              0.1111111111111111,
              "#46039f"
             ],
             [
              0.2222222222222222,
              "#7201a8"
             ],
             [
              0.3333333333333333,
              "#9c179e"
             ],
             [
              0.4444444444444444,
              "#bd3786"
             ],
             [
              0.5555555555555556,
              "#d8576b"
             ],
             [
              0.6666666666666666,
              "#ed7953"
             ],
             [
              0.7777777777777778,
              "#fb9f3a"
             ],
             [
              0.8888888888888888,
              "#fdca26"
             ],
             [
              1,
              "#f0f921"
             ]
            ],
            "type": "contour"
           }
          ],
          "contourcarpet": [
           {
            "colorbar": {
             "outlinewidth": 0,
             "ticks": ""
            },
            "type": "contourcarpet"
           }
          ],
          "heatmap": [
           {
            "colorbar": {
             "outlinewidth": 0,
             "ticks": ""
            },
            "colorscale": [
             [
              0,
              "#0d0887"
             ],
             [
              0.1111111111111111,
              "#46039f"
             ],
             [
              0.2222222222222222,
              "#7201a8"
             ],
             [
              0.3333333333333333,
              "#9c179e"
             ],
             [
              0.4444444444444444,
              "#bd3786"
             ],
             [
              0.5555555555555556,
              "#d8576b"
             ],
             [
              0.6666666666666666,
              "#ed7953"
             ],
             [
              0.7777777777777778,
              "#fb9f3a"
             ],
             [
              0.8888888888888888,
              "#fdca26"
             ],
             [
              1,
              "#f0f921"
             ]
            ],
            "type": "heatmap"
           }
          ],
          "heatmapgl": [
           {
            "colorbar": {
             "outlinewidth": 0,
             "ticks": ""
            },
            "colorscale": [
             [
              0,
              "#0d0887"
             ],
             [
              0.1111111111111111,
              "#46039f"
             ],
             [
              0.2222222222222222,
              "#7201a8"
             ],
             [
              0.3333333333333333,
              "#9c179e"
             ],
             [
              0.4444444444444444,
              "#bd3786"
             ],
             [
              0.5555555555555556,
              "#d8576b"
             ],
             [
              0.6666666666666666,
              "#ed7953"
             ],
             [
              0.7777777777777778,
              "#fb9f3a"
             ],
             [
              0.8888888888888888,
              "#fdca26"
             ],
             [
              1,
              "#f0f921"
             ]
            ],
            "type": "heatmapgl"
           }
          ],
          "histogram": [
           {
            "marker": {
             "pattern": {
              "fillmode": "overlay",
              "size": 10,
              "solidity": 0.2
             }
            },
            "type": "histogram"
           }
          ],
          "histogram2d": [
           {
            "colorbar": {
             "outlinewidth": 0,
             "ticks": ""
            },
            "colorscale": [
             [
              0,
              "#0d0887"
             ],
             [
              0.1111111111111111,
              "#46039f"
             ],
             [
              0.2222222222222222,
              "#7201a8"
             ],
             [
              0.3333333333333333,
              "#9c179e"
             ],
             [
              0.4444444444444444,
              "#bd3786"
             ],
             [
              0.5555555555555556,
              "#d8576b"
             ],
             [
              0.6666666666666666,
              "#ed7953"
             ],
             [
              0.7777777777777778,
              "#fb9f3a"
             ],
             [
              0.8888888888888888,
              "#fdca26"
             ],
             [
              1,
              "#f0f921"
             ]
            ],
            "type": "histogram2d"
           }
          ],
          "histogram2dcontour": [
           {
            "colorbar": {
             "outlinewidth": 0,
             "ticks": ""
            },
            "colorscale": [
             [
              0,
              "#0d0887"
             ],
             [
              0.1111111111111111,
              "#46039f"
             ],
             [
              0.2222222222222222,
              "#7201a8"
             ],
             [
              0.3333333333333333,
              "#9c179e"
             ],
             [
              0.4444444444444444,
              "#bd3786"
             ],
             [
              0.5555555555555556,
              "#d8576b"
             ],
             [
              0.6666666666666666,
              "#ed7953"
             ],
             [
              0.7777777777777778,
              "#fb9f3a"
             ],
             [
              0.8888888888888888,
              "#fdca26"
             ],
             [
              1,
              "#f0f921"
             ]
            ],
            "type": "histogram2dcontour"
           }
          ],
          "mesh3d": [
           {
            "colorbar": {
             "outlinewidth": 0,
             "ticks": ""
            },
            "type": "mesh3d"
           }
          ],
          "parcoords": [
           {
            "line": {
             "colorbar": {
              "outlinewidth": 0,
              "ticks": ""
             }
            },
            "type": "parcoords"
           }
          ],
          "pie": [
           {
            "automargin": true,
            "type": "pie"
           }
          ],
          "scatter": [
           {
            "fillpattern": {
             "fillmode": "overlay",
             "size": 10,
             "solidity": 0.2
            },
            "type": "scatter"
           }
          ],
          "scatter3d": [
           {
            "line": {
             "colorbar": {
              "outlinewidth": 0,
              "ticks": ""
             }
            },
            "marker": {
             "colorbar": {
              "outlinewidth": 0,
              "ticks": ""
             }
            },
            "type": "scatter3d"
           }
          ],
          "scattercarpet": [
           {
            "marker": {
             "colorbar": {
              "outlinewidth": 0,
              "ticks": ""
             }
            },
            "type": "scattercarpet"
           }
          ],
          "scattergeo": [
           {
            "marker": {
             "colorbar": {
              "outlinewidth": 0,
              "ticks": ""
             }
            },
            "type": "scattergeo"
           }
          ],
          "scattergl": [
           {
            "marker": {
             "colorbar": {
              "outlinewidth": 0,
              "ticks": ""
             }
            },
            "type": "scattergl"
           }
          ],
          "scattermapbox": [
           {
            "marker": {
             "colorbar": {
              "outlinewidth": 0,
              "ticks": ""
             }
            },
            "type": "scattermapbox"
           }
          ],
          "scatterpolar": [
           {
            "marker": {
             "colorbar": {
              "outlinewidth": 0,
              "ticks": ""
             }
            },
            "type": "scatterpolar"
           }
          ],
          "scatterpolargl": [
           {
            "marker": {
             "colorbar": {
              "outlinewidth": 0,
              "ticks": ""
             }
            },
            "type": "scatterpolargl"
           }
          ],
          "scatterternary": [
           {
            "marker": {
             "colorbar": {
              "outlinewidth": 0,
              "ticks": ""
             }
            },
            "type": "scatterternary"
           }
          ],
          "surface": [
           {
            "colorbar": {
             "outlinewidth": 0,
             "ticks": ""
            },
            "colorscale": [
             [
              0,
              "#0d0887"
             ],
             [
              0.1111111111111111,
              "#46039f"
             ],
             [
              0.2222222222222222,
              "#7201a8"
             ],
             [
              0.3333333333333333,
              "#9c179e"
             ],
             [
              0.4444444444444444,
              "#bd3786"
             ],
             [
              0.5555555555555556,
              "#d8576b"
             ],
             [
              0.6666666666666666,
              "#ed7953"
             ],
             [
              0.7777777777777778,
              "#fb9f3a"
             ],
             [
              0.8888888888888888,
              "#fdca26"
             ],
             [
              1,
              "#f0f921"
             ]
            ],
            "type": "surface"
           }
          ],
          "table": [
           {
            "cells": {
             "fill": {
              "color": "#EBF0F8"
             },
             "line": {
              "color": "white"
             }
            },
            "header": {
             "fill": {
              "color": "#C8D4E3"
             },
             "line": {
              "color": "white"
             }
            },
            "type": "table"
           }
          ]
         },
         "layout": {
          "annotationdefaults": {
           "arrowcolor": "#2a3f5f",
           "arrowhead": 0,
           "arrowwidth": 1
          },
          "autotypenumbers": "strict",
          "coloraxis": {
           "colorbar": {
            "outlinewidth": 0,
            "ticks": ""
           }
          },
          "colorscale": {
           "diverging": [
            [
             0,
             "#8e0152"
            ],
            [
             0.1,
             "#c51b7d"
            ],
            [
             0.2,
             "#de77ae"
            ],
            [
             0.3,
             "#f1b6da"
            ],
            [
             0.4,
             "#fde0ef"
            ],
            [
             0.5,
             "#f7f7f7"
            ],
            [
             0.6,
             "#e6f5d0"
            ],
            [
             0.7,
             "#b8e186"
            ],
            [
             0.8,
             "#7fbc41"
            ],
            [
             0.9,
             "#4d9221"
            ],
            [
             1,
             "#276419"
            ]
           ],
           "sequential": [
            [
             0,
             "#0d0887"
            ],
            [
             0.1111111111111111,
             "#46039f"
            ],
            [
             0.2222222222222222,
             "#7201a8"
            ],
            [
             0.3333333333333333,
             "#9c179e"
            ],
            [
             0.4444444444444444,
             "#bd3786"
            ],
            [
             0.5555555555555556,
             "#d8576b"
            ],
            [
             0.6666666666666666,
             "#ed7953"
            ],
            [
             0.7777777777777778,
             "#fb9f3a"
            ],
            [
             0.8888888888888888,
             "#fdca26"
            ],
            [
             1,
             "#f0f921"
            ]
           ],
           "sequentialminus": [
            [
             0,
             "#0d0887"
            ],
            [
             0.1111111111111111,
             "#46039f"
            ],
            [
             0.2222222222222222,
             "#7201a8"
            ],
            [
             0.3333333333333333,
             "#9c179e"
            ],
            [
             0.4444444444444444,
             "#bd3786"
            ],
            [
             0.5555555555555556,
             "#d8576b"
            ],
            [
             0.6666666666666666,
             "#ed7953"
            ],
            [
             0.7777777777777778,
             "#fb9f3a"
            ],
            [
             0.8888888888888888,
             "#fdca26"
            ],
            [
             1,
             "#f0f921"
            ]
           ]
          },
          "colorway": [
           "#636efa",
           "#EF553B",
           "#00cc96",
           "#ab63fa",
           "#FFA15A",
           "#19d3f3",
           "#FF6692",
           "#B6E880",
           "#FF97FF",
           "#FECB52"
          ],
          "font": {
           "color": "#2a3f5f"
          },
          "geo": {
           "bgcolor": "white",
           "lakecolor": "white",
           "landcolor": "#E5ECF6",
           "showlakes": true,
           "showland": true,
           "subunitcolor": "white"
          },
          "hoverlabel": {
           "align": "left"
          },
          "hovermode": "closest",
          "mapbox": {
           "style": "light"
          },
          "paper_bgcolor": "white",
          "plot_bgcolor": "#E5ECF6",
          "polar": {
           "angularaxis": {
            "gridcolor": "white",
            "linecolor": "white",
            "ticks": ""
           },
           "bgcolor": "#E5ECF6",
           "radialaxis": {
            "gridcolor": "white",
            "linecolor": "white",
            "ticks": ""
           }
          },
          "scene": {
           "xaxis": {
            "backgroundcolor": "#E5ECF6",
            "gridcolor": "white",
            "gridwidth": 2,
            "linecolor": "white",
            "showbackground": true,
            "ticks": "",
            "zerolinecolor": "white"
           },
           "yaxis": {
            "backgroundcolor": "#E5ECF6",
            "gridcolor": "white",
            "gridwidth": 2,
            "linecolor": "white",
            "showbackground": true,
            "ticks": "",
            "zerolinecolor": "white"
           },
           "zaxis": {
            "backgroundcolor": "#E5ECF6",
            "gridcolor": "white",
            "gridwidth": 2,
            "linecolor": "white",
            "showbackground": true,
            "ticks": "",
            "zerolinecolor": "white"
           }
          },
          "shapedefaults": {
           "line": {
            "color": "#2a3f5f"
           }
          },
          "ternary": {
           "aaxis": {
            "gridcolor": "white",
            "linecolor": "white",
            "ticks": ""
           },
           "baxis": {
            "gridcolor": "white",
            "linecolor": "white",
            "ticks": ""
           },
           "bgcolor": "#E5ECF6",
           "caxis": {
            "gridcolor": "white",
            "linecolor": "white",
            "ticks": ""
           }
          },
          "title": {
           "x": 0.05
          },
          "xaxis": {
           "automargin": true,
           "gridcolor": "white",
           "linecolor": "white",
           "ticks": "",
           "title": {
            "standoff": 15
           },
           "zerolinecolor": "white",
           "zerolinewidth": 2
          },
          "yaxis": {
           "automargin": true,
           "gridcolor": "white",
           "linecolor": "white",
           "ticks": "",
           "title": {
            "standoff": 15
           },
           "zerolinecolor": "white",
           "zerolinewidth": 2
          }
         }
        },
        "title": {
         "text": "2D Line Plot"
        },
        "width": 450,
        "xaxis": {
         "range": [
          0,
          300
         ],
         "title": {
          "text": "X-axis"
         }
        },
        "yaxis": {
         "range": [
          0,
          386
         ],
         "title": {
          "text": "Y-axis"
         }
        }
       }
      },
      "text/html": [
       "<div>                            <div id=\"6070a64c-317d-4dc6-940f-9342d28c4d4a\" class=\"plotly-graph-div\" style=\"height:579.0px; width:450.0px;\"></div>            <script type=\"text/javascript\">                require([\"plotly\"], function(Plotly) {                    window.PLOTLYENV=window.PLOTLYENV || {};                                    if (document.getElementById(\"6070a64c-317d-4dc6-940f-9342d28c4d4a\")) {                    Plotly.newPlot(                        \"6070a64c-317d-4dc6-940f-9342d28c4d4a\",                        [{\"marker\":{\"size\":2},\"mode\":\"markers\",\"x\":[148.8196849822998,147.5411295890808,147.8749930858612,140.93329310417175,147.29122817516327,147.12690711021423,146.88038527965546,95.39713561534882,146.35785520076752,146.07849419116974,145.03986239433289,148.94124269485474,149.04266595840454,149.16712045669556,149.49012994766235,149.6878981590271,149.85314905643463,150.04611611366272,149.90995824337006,147.70991206169128,141.05105996131897,65.33867418766022,116.70522093772888,109.03456807136536,101.71535611152649,92.50373840332031,123.20954203605652,103.76842617988586,112.90342211723328,95.77302932739258,91.0598874092102,86.22409701347351,124.99109208583832,92.83842444419861,64.49569165706635,77.69684493541718,111.66974902153015,140.53815007209778,141.77507758140564,132.92499482631683,127.9865562915802,135.71411669254303,131.0557723045349,117.68582761287689,141.53907001018524,140.3420627117157,79.0423035621643,125.86609125137329,125.66880583763123,125.1630038022995,89.6284818649292,140.5268758535385,95.34135460853577,85.2896511554718,71.44514322280884,129.78557646274567,120.91705799102783,112.13344931602478,80.42004704475403,131.24417960643768,136.83201670646667,122.06039428710938,123.83709847927094,80.9516429901123,125.59699416160583,109.88618731498718,107.91622996330261,100.77591240406036,77.01627910137177,106.03923797607422,74.80070292949677,70.17757594585419,140.9965217113495,134.28967595100403,129.43946421146393,132.93778002262115,122.97745943069458,125.99998712539673,124.73904490470886,134.12998616695404,132.34736323356628,136.9272530078888,142.5623595714569,140.55339395999908,141.06366634368896,141.35209321975708,141.94838404655457,142.72456169128418,132.4765920639038,131.010639667511,129.3809562921524,128.0783236026764,119.26007866859436,68.2499885559082,147.7951616048813,129.04329299926758,127.53801941871643,139.03900980949402,128.2676249742508,137.98853158950806,118.2012677192688,106.11967742443085,124.12846684455872,82.65552520751953,88.37725818157196,92.26834774017334,123.7268328666687,126.36145949363708,124.48301911354065,120.90402245521545,95.80029845237732,78.45853865146637,127.41608619689941,84.00748372077942,130.7840198278427,129.49858903884888,70.9008514881134,83.3459883928299,92.8226888179779,107.37537145614624,118.08030009269714,125.87186694145203,139.93843495845795,73.6084520816803,77.97121703624725,144.06539797782898,126.97687447071075,62.786123156547546,131.52577579021454,123.59883785247803,89.42621648311615,129.21285331249237,73.37976694107056,127.49379873275757,134.58833992481232,96.36793434619904,98.19679856300354,68.33794713020325,87.02645301818848,66.8888121843338,124.61223006248474,144.91354823112488,120.49744427204132,72.05533683300018,102.27529406547546,108.62231254577637,124.60945844650269,77.08812654018402,137.44288980960846,117.69628822803497,108.98065567016602,145.52380442619324,151.39399766921997,115.13355374336243,121.33829891681671,125.46324133872986,73.13082218170166,120.15436291694641,113.25362920761108,106.43798410892487,100.03423690795898,96.34451866149902,62.78531849384308,98.15107583999634,148.10568988323212,125.97840428352356,131.15190267562866,138.571697473526,146.64685428142548,106.02284073829651,115.15654027462006,136.51004433631897,89.02466297149658,125.13518035411835,135.5980396270752,151.1399209499359,126.83081924915314,72.96946048736572,137.0870679616928,135.68523824214935,134.4673454761505,133.64751935005188,131.2041610479355,127.38048434257507,125.82620680332184,124.52571988105774,114.33906555175781,86.24035120010376,135.43992340564728,131.98892176151276,127.88980007171631,128.79974842071533,88.10843825340271,137.64922320842743,127.77514457702637,147.06344604492188,140.39406180381775,146.994549036026,131.0800552368164,150.7630705833435,150.34738183021545,138.61910104751587,111.61766052246094,117.61129796504974,119.11632120609283,100.72685480117798,111.2355887889862,96.01044058799744,136.77316904067993,127.28336155414581,106.71671032905579,115.96427857875824,105.41728734970093,80.79492151737213,97.42326736450195,78.55610847473145,106.47559762001038,131.40664100646973,131.8513423204422,127.9885321855545,134.44780111312866,125.18911063671112,111.75636649131775,100.24950206279755,91.31627082824707,85.85734963417053,84.32589769363403,65.19275307655334,90.3174340724945,97.9149341583252,108.07133316993713,117.67131686210632,125.04440546035767,130.02080619335175,64.96972739696503,128.25640439987183,135.59346199035645,136.5522176027298,140.42102694511414,136.70557737350464,130.30986785888672,141.80231988430023,142.6586151123047,130.0046682357788,133.65820348262787,135.52789986133575,94.34069395065308,88.45601677894592,153.41538190841675,200.7775068283081,154.59566116333008,227.57166624069214,180.27471899986267,187.84684538841248,194.98531222343445,203.867769241333,173.63317608833313,190.1464819908142,181.21018409729004,198.4190046787262,203.68655920028687,210.52719354629517,176.58566236495972,203.1818389892578,231.50163888931274,218.7497913837433,184.9807620048523,157.07952976226807,156.3698709011078,165.04173874855042,170.21364569664001,162.57226467132568,167.38221645355225,181.33492469787598,153.572416305542,154.38069105148315,214.05267119407654,169.61812376976013,170.15560269355774,170.62665224075317,207.5908899307251,153.86014580726624,195.87085247039795,206.59684538841248,220.52518129348755,162.40850687026978,173.78393411636353,186.41141653060913,221.08397483825684,164.66928720474243,159.10967588424683,176.80254578590393,175.05179643630981,210.42160391807556,170.4538106918335,181.49818181991577,182.39564895629883,189.914470911026,215.3860867023468,185.38320064544678,218.26475858688354,223.17094802856445,156.9106936454773,163.84257674217224,168.89358758926392,163.02348375320435,175.89726448059082,173.14676642417908,174.13946986198425,161.45310401916504,166.1733090877533,161.4965558052063,155.83704113960266,159.43644046783447,158.9830219745636,158.2689106464386,157.32725858688354,156.21959567070007,166.38756394386292,168.13634634017944,169.99302506446838,171.5357780456543,178.24260592460632,230.5283546447754,169.79767084121704,171.47918343544006,157.02736973762512,168.09080243110657,158.00503492355347,177.58753895759583,190.21618366241455,171.95717096328735,208.6908996105194,203.41122150421143,198.1673240661621,175.76374411582947,164.20000791549683,166.76101684570312,169.3614363670349,200.78086853027344,218.9768671989441,169.1555142402649,211.0248863697052,164.36017155647278,165.98158478736877,225.82290172576904,214.12253379821777,204.55691814422607,189.97796773910522,179.1804850101471,171.02662324905396,154.17190790176392,224.12409782409668,216.89200401306152,151.39147639274597,168.64727139472961,233.14465284347534,164.82762694358826,172.59719967842102,206.65456652641296,166.16016626358032,226.86209678649902,168.71028542518616,160.25410294532776,205.35226464271545,204.6298384666443,229.99080419540405,214.30402994155884,227.63139009475708,177.70174741744995,150.68628787994385,175.5190908908844,225.2903938293457,194.0874695777893,187.79693841934204,174.67056512832642,221.78995013237,165.39427042007446,185.3430211544037,194.09630298614502,181.37798309326172,175.1177966594696,170.8812654018402,222.0185101032257,175.36765336990356,181.94024562835693,188.7616217136383,195.32153606414795,199.22311305999756,231.37764930725098,198.12769889831543,171.1849808692932,164.65816497802734,158.01542401313782,195.93996405601501,187.04373836517334,165.8488154411316,213.35291862487793,170.73485255241394,159.15496945381165,176.1185646057129,226.54168009757996,161.8147909641266,163.5225534439087,165.07673263549805,166.31850600242615,168.59816908836365,171.3417112827301,172.799152135849,174.0500271320343,183.59906673431396,212.41450309753418,159.1427206993103,163.24453353881836,167.77026057243347,169.94154453277588,211.99650764465332,156.42725229263306,173.01605343818665,153.87462973594666,164.2074465751648,162.24285364151,188.1902039051056,179.0549397468567,181.30307793617249,196.81413173675537,186.2139344215393,202.50524282455444,164.8913025856018,168.39285492897034,194.18013095855713,185.37577986717224,193.78525614738464,219.00973320007324,202.71291732788086,222.0165252685547,191.6937232017517,163.7538492679596,163.67504596710205,167.84808039665222,160.589861869812,168.84291172027588,181.17579817771912,192.44366884231567,201.71163082122803,208.0094575881958,211.8183195590973,231.9635510444641,206.62686824798584,199.11543130874634,189.07329440116882,179.47935461997986,171.9338893890381,166.66179299354553,232.452392578125,167.69403219223022,159.13665890693665,158.6966335773468,155.11159300804138,158.75086784362793,165.8346712589264,153.68860960006714,152.93809175491333,166.2524700164795,162.45439052581787,160.01712083816528,201.4068067073822,206.8116545677185],\"y\":[272.99527859687805,249.38884222507477,255.82419407367706,221.478297829628,241.1720049381256,229.83154594898224,201.4096622467041,196.79580569267273,179.95885753631592,168.77453821897507,125.99468392133713,275.5944697856903,278.2021737098694,279.91185307502747,284.30403339862823,287.96085143089294,292.35121417045593,296.7093435525894,301.8345854282379,253.11074817180634,252.48844420909882,163.2703070640564,204.63074326515198,205.13449013233185,204.68846881389618,199.9220962524414,203.0319595336914,181.533587038517,182.43298053741455,183.08181202411652,186.26069748401642,205.2804720401764,311.0093355178833,194.60775661468506,198.95040202140808,199.4419549703598,239.4885540008545,271.3130930662155,277.82015895843506,274.02449131011963,276.63997173309326,278.16283106803894,278.9624069929123,287.8449401855469,249.1981339454651,241.26711750030518,179.831385076046,218.88255774974823,245.72339642047882,241.0558636188507,237.89745473861694,230.71040534973145,171.46664476394653,174.19529855251312,149.28369879722595,178.84508115053177,186.03577721118927,280.46007323265076,270.9390158653259,250.3189160823822,252.49776220321655,280.6512416601181,280.65310525894165,168.84194988012314,248.7663311958313,172.3097506761551,165.6271498799324,130.55254048109055,158.6739821434021,147.6408098936081,175.93208062648773,169.67487502098083,274.9562677145004,276.2887178659439,277.8640800714493,251.53490281105042,280.66412580013275,282.86947643756866,280.65156376361847,248.42717921733856,279.6683428287506,279.3108079433441,279.4633469581604,301.6587859392166,295.7368210554123,291.3973046541214,287.0419361591339,283.6376242637634,281.8833335638046,283.38378369808197,285.45610558986664,287.8090716600418,268.17868089675903,232.08279633522034,254.41982281208038,281.29388415813446,281.9950804710388,255.39078080654144,252.9541368484497,253.9779658317566,223.4625244140625,228.9132058620453,244.23415088653564,138.03119707107544,150.8833338022232,164.89048767089844,293.146119594574,167.86104118824005,147.08959877490997,126.93083173036575,202.99385929107666,211.01184368133545,201.3049556016922,189.70805621147156,213.70906937122345,243.304905295372,215.80824089050293,217.14227855205536,220.57921493053436,219.47414684295654,216.23327946662903,212.57699060440063,203.32884693145752,233.02292442321777,188.65944826602936,252.88019108772278,227.45515835285187,196.61588788032532,208.39341831207275,244.19358885288239,195.05637776851654,237.61335945129395,251.17828822135925,198.3863067626953,233.29427361488342,291.7180277109146,298.4706745147705,232.80170834064484,280.9854700565338,183.1078794002533,316.90905225276947,254.16237008571625,233.15427362918854,200.59094417095184,199.6272795200348,200.35571658611298,283.9491443634033,248.79969191551208,325.6941261291504,315.5471066236496,308.61323058605194,147.216162443161,326.9262410402298,200.01824414730072,199.1771628856659,198.87256801128387,186.7214435338974,192.11614799499512,189.53499460220337,188.9862797856331,190.13039141893387,191.97841423749924,178.23714530467987,198.27669954299927,261.69690012931824,264.1669968366623,249.27799260616302,262.14697074890137,190.27624678611755,301.76024854183197,309.262637257576,322.5069350004196,286.82805943489075,195.8643513917923,216.9018052816391,323.5008773803711,321.5987641811371,250.13851511478424,282.7004871368408,285.25161588191986,288.55655884742737,292.4133801460266,298.1251494884491,279.81006836891174,279.32203555107117,278.71765434741974,273.79421031475067,254.26979160308838,207.9347199201584,192.06198859214783,192.9796959757805,280.1778415441513,271.8041398525238,192.03004282712936,304.431245803833,220.26502597332,212.92702507972717,211.24495458602905,229.9718450307846,317.49242770671844,309.32195031642914,308.8931155204773,290.2673885822296,250.25136637687683,298.2881108522415,248.7375259399414,258.0093672275543,260.86113357543945,316.77296352386475,234.2194468975067,294.8947044610977,303.18916869163513,280.88030326366425,261.7737218141556,280.94007647037506,266.1055997610092,267.7272528409958,222.03001511096954,247.12841188907623,248.5456212759018,242.0189300775528,184.3267650604248,178.8897269964218,178.07613956928253,179.89937192201614,183.63737154006958,197.17973005771637,215.76958847045898,208.93724405765533,211.5730860233307,211.6898945569992,209.95911741256714,207.53632390499115,205.07621240615845,214.11991238594055,250.28155207633972,224.93626296520233,247.9530428647995,251.43010413646698,248.96934843063354,252.28544998168945,252.31660199165344,253.65314745903015,198.82176768779755,200.67390882968903,202.14502453804016,193.38118648529053,189.9621153473854,221.2623964548111,196.37918782234192,252.21744012832642,161.0262349843979,205.19414830207825,205.41426002979279,204.55417466163635,198.91665017604828,203.6997491121292,181.07868486642838,182.47057461738586,182.09129774570465,184.94034922122955,203.79099643230438,310.27217864990234,193.6419062614441,196.89439237117767,197.26766431331635,238.33213341236115,271.14578330516815,277.7233898639679,273.76763677597046,276.35023963451385,278.0097168684006,278.7661769390106,286.61590826511383,248.9939203262329,241.03964340686798,177.68101060390472,218.1773351430893,245.06220996379852,240.35480535030365,236.1294516324997,230.4650775194168,170.9911049604416,172.73791825771332,147.15910410881042,179.55185675621033,186.54847395420074,279.08538150787354,268.9936947822571,249.79308211803436,252.15005147457123,280.48308062553406,280.49619483947754,167.19960165023804,248.10806667804718,172.60684514045715,166.12910217046738,129.29520946741104,156.8062304854393,146.54160869121552,173.57911455631256,167.7581751346588,274.82478046417236,276.09823966026306,277.60149669647217,251.06562101840973,280.50967717170715,282.76297521591187,280.4833106994629,247.96560490131378,279.4849739074707,279.1638367176056,279.39450883865356,301.3110291957855,295.7344512939453,291.35232520103455,286.9922171831131,283.61705565452576,281.78592026233673,283.2886941432953,285.3808023929596,287.73392951488495,267.13536465168,229.86527478694916,281.1752350330353,281.8825283050537,255.10323441028595,252.3798953294754,253.67781138420105,222.54427635669708,227.63774502277374,243.56293320655823,136.24285542964935,149.33407348394394,164.42923545837402,292.1554672718048,168.9770838022232,146.4907278418541,126.21511775255203,202.47442138195038,209.09746754169464,202.1416654586792,187.89694875478745,213.1505879163742,242.75500559806824,213.80167412757874,215.44598948955536,219.13536298274994,218.46709024906158,215.6006681919098,212.35119605064392,203.1106218099594,231.0021390914917,186.50367856025696,252.72953867912292,226.74855530261993,194.2616103887558,208.57179462909698,243.4876070022583,193.6957665681839,237.02183938026428,249.06008958816528,199.35441184043884,232.8597790002823,290.3374230861664,297.04614877700806,230.70571184158325,279.29971837997437,181.08162981271744,316.23371624946594,254.045308470726,232.29181849956512,198.107204079628,200.1800321340561,201.25806653499603,283.8116751909256,246.737309217453,325.2668788433075,314.50986433029175,307.44997680187225,201.04149794578552,200.20759499073029,199.93426716327667,184.1394733786583,192.42435503005981,189.413423538208,188.66167998313904,189.52754020690918,191.17180955410004,175.89349722862244,198.3453996181488,263.37333381175995,248.72489488124847,261.85601925849915,300.6892544031143,308.4272618293762,322.13695311546326,285.1202666759491,196.65030694007874,216.48617672920227,320.788880944252,248.07604038715363,282.61363422870636,285.16747784614563,288.5015481710434,292.3883020877838,297.32336485385895,279.5705153942108,279.06554913520813,278.4382755756378,272.5280214548111,252.33422565460205,207.56634855270386,193.02747082710266,193.89846169948578,279.9676229953766,269.96035039424896,192.97529006004333,303.6842187643051,212.68137514591217,229.43641698360443,308.499459028244,289.124818444252,249.288645029068,297.3159564733505,247.16913497447968,256.7574659585953,259.15228247642517,316.40479922294617,233.53295230865479,293.7072468996048,302.2672164440155,279.54939460754395,259.76929473876953,279.41135025024414,264.1518579721451,266.3194534778595,221.48977851867676,246.6123330593109,247.95223760604858,241.60528016090393,185.11605668067932,179.16689705848694,177.60843378305435,178.7228428721428,181.98351961374283,195.41614437103271,213.6788376569748,207.7152063846588,210.70462596416473,211.25224792957306,209.8624403476715,207.71720802783966,205.46844244003296,211.81424951553345,249.68425714969635,224.5209105014801,247.58405029773712,251.17966866493225,248.63304936885834,251.74086499214172,252.0858838558197,253.43639481067657,199.75188755989075,201.37031960487366,202.77008938789368,192.46474450826645,188.50573587417603],\"type\":\"scatter\"}],                        {\"template\":{\"data\":{\"histogram2dcontour\":[{\"type\":\"histogram2dcontour\",\"colorbar\":{\"outlinewidth\":0,\"ticks\":\"\"},\"colorscale\":[[0.0,\"#0d0887\"],[0.1111111111111111,\"#46039f\"],[0.2222222222222222,\"#7201a8\"],[0.3333333333333333,\"#9c179e\"],[0.4444444444444444,\"#bd3786\"],[0.5555555555555556,\"#d8576b\"],[0.6666666666666666,\"#ed7953\"],[0.7777777777777778,\"#fb9f3a\"],[0.8888888888888888,\"#fdca26\"],[1.0,\"#f0f921\"]]}],\"choropleth\":[{\"type\":\"choropleth\",\"colorbar\":{\"outlinewidth\":0,\"ticks\":\"\"}}],\"histogram2d\":[{\"type\":\"histogram2d\",\"colorbar\":{\"outlinewidth\":0,\"ticks\":\"\"},\"colorscale\":[[0.0,\"#0d0887\"],[0.1111111111111111,\"#46039f\"],[0.2222222222222222,\"#7201a8\"],[0.3333333333333333,\"#9c179e\"],[0.4444444444444444,\"#bd3786\"],[0.5555555555555556,\"#d8576b\"],[0.6666666666666666,\"#ed7953\"],[0.7777777777777778,\"#fb9f3a\"],[0.8888888888888888,\"#fdca26\"],[1.0,\"#f0f921\"]]}],\"heatmap\":[{\"type\":\"heatmap\",\"colorbar\":{\"outlinewidth\":0,\"ticks\":\"\"},\"colorscale\":[[0.0,\"#0d0887\"],[0.1111111111111111,\"#46039f\"],[0.2222222222222222,\"#7201a8\"],[0.3333333333333333,\"#9c179e\"],[0.4444444444444444,\"#bd3786\"],[0.5555555555555556,\"#d8576b\"],[0.6666666666666666,\"#ed7953\"],[0.7777777777777778,\"#fb9f3a\"],[0.8888888888888888,\"#fdca26\"],[1.0,\"#f0f921\"]]}],\"heatmapgl\":[{\"type\":\"heatmapgl\",\"colorbar\":{\"outlinewidth\":0,\"ticks\":\"\"},\"colorscale\":[[0.0,\"#0d0887\"],[0.1111111111111111,\"#46039f\"],[0.2222222222222222,\"#7201a8\"],[0.3333333333333333,\"#9c179e\"],[0.4444444444444444,\"#bd3786\"],[0.5555555555555556,\"#d8576b\"],[0.6666666666666666,\"#ed7953\"],[0.7777777777777778,\"#fb9f3a\"],[0.8888888888888888,\"#fdca26\"],[1.0,\"#f0f921\"]]}],\"contourcarpet\":[{\"type\":\"contourcarpet\",\"colorbar\":{\"outlinewidth\":0,\"ticks\":\"\"}}],\"contour\":[{\"type\":\"contour\",\"colorbar\":{\"outlinewidth\":0,\"ticks\":\"\"},\"colorscale\":[[0.0,\"#0d0887\"],[0.1111111111111111,\"#46039f\"],[0.2222222222222222,\"#7201a8\"],[0.3333333333333333,\"#9c179e\"],[0.4444444444444444,\"#bd3786\"],[0.5555555555555556,\"#d8576b\"],[0.6666666666666666,\"#ed7953\"],[0.7777777777777778,\"#fb9f3a\"],[0.8888888888888888,\"#fdca26\"],[1.0,\"#f0f921\"]]}],\"surface\":[{\"type\":\"surface\",\"colorbar\":{\"outlinewidth\":0,\"ticks\":\"\"},\"colorscale\":[[0.0,\"#0d0887\"],[0.1111111111111111,\"#46039f\"],[0.2222222222222222,\"#7201a8\"],[0.3333333333333333,\"#9c179e\"],[0.4444444444444444,\"#bd3786\"],[0.5555555555555556,\"#d8576b\"],[0.6666666666666666,\"#ed7953\"],[0.7777777777777778,\"#fb9f3a\"],[0.8888888888888888,\"#fdca26\"],[1.0,\"#f0f921\"]]}],\"mesh3d\":[{\"type\":\"mesh3d\",\"colorbar\":{\"outlinewidth\":0,\"ticks\":\"\"}}],\"scatter\":[{\"fillpattern\":{\"fillmode\":\"overlay\",\"size\":10,\"solidity\":0.2},\"type\":\"scatter\"}],\"parcoords\":[{\"type\":\"parcoords\",\"line\":{\"colorbar\":{\"outlinewidth\":0,\"ticks\":\"\"}}}],\"scatterpolargl\":[{\"type\":\"scatterpolargl\",\"marker\":{\"colorbar\":{\"outlinewidth\":0,\"ticks\":\"\"}}}],\"bar\":[{\"error_x\":{\"color\":\"#2a3f5f\"},\"error_y\":{\"color\":\"#2a3f5f\"},\"marker\":{\"line\":{\"color\":\"#E5ECF6\",\"width\":0.5},\"pattern\":{\"fillmode\":\"overlay\",\"size\":10,\"solidity\":0.2}},\"type\":\"bar\"}],\"scattergeo\":[{\"type\":\"scattergeo\",\"marker\":{\"colorbar\":{\"outlinewidth\":0,\"ticks\":\"\"}}}],\"scatterpolar\":[{\"type\":\"scatterpolar\",\"marker\":{\"colorbar\":{\"outlinewidth\":0,\"ticks\":\"\"}}}],\"histogram\":[{\"marker\":{\"pattern\":{\"fillmode\":\"overlay\",\"size\":10,\"solidity\":0.2}},\"type\":\"histogram\"}],\"scattergl\":[{\"type\":\"scattergl\",\"marker\":{\"colorbar\":{\"outlinewidth\":0,\"ticks\":\"\"}}}],\"scatter3d\":[{\"type\":\"scatter3d\",\"line\":{\"colorbar\":{\"outlinewidth\":0,\"ticks\":\"\"}},\"marker\":{\"colorbar\":{\"outlinewidth\":0,\"ticks\":\"\"}}}],\"scattermapbox\":[{\"type\":\"scattermapbox\",\"marker\":{\"colorbar\":{\"outlinewidth\":0,\"ticks\":\"\"}}}],\"scatterternary\":[{\"type\":\"scatterternary\",\"marker\":{\"colorbar\":{\"outlinewidth\":0,\"ticks\":\"\"}}}],\"scattercarpet\":[{\"type\":\"scattercarpet\",\"marker\":{\"colorbar\":{\"outlinewidth\":0,\"ticks\":\"\"}}}],\"carpet\":[{\"aaxis\":{\"endlinecolor\":\"#2a3f5f\",\"gridcolor\":\"white\",\"linecolor\":\"white\",\"minorgridcolor\":\"white\",\"startlinecolor\":\"#2a3f5f\"},\"baxis\":{\"endlinecolor\":\"#2a3f5f\",\"gridcolor\":\"white\",\"linecolor\":\"white\",\"minorgridcolor\":\"white\",\"startlinecolor\":\"#2a3f5f\"},\"type\":\"carpet\"}],\"table\":[{\"cells\":{\"fill\":{\"color\":\"#EBF0F8\"},\"line\":{\"color\":\"white\"}},\"header\":{\"fill\":{\"color\":\"#C8D4E3\"},\"line\":{\"color\":\"white\"}},\"type\":\"table\"}],\"barpolar\":[{\"marker\":{\"line\":{\"color\":\"#E5ECF6\",\"width\":0.5},\"pattern\":{\"fillmode\":\"overlay\",\"size\":10,\"solidity\":0.2}},\"type\":\"barpolar\"}],\"pie\":[{\"automargin\":true,\"type\":\"pie\"}]},\"layout\":{\"autotypenumbers\":\"strict\",\"colorway\":[\"#636efa\",\"#EF553B\",\"#00cc96\",\"#ab63fa\",\"#FFA15A\",\"#19d3f3\",\"#FF6692\",\"#B6E880\",\"#FF97FF\",\"#FECB52\"],\"font\":{\"color\":\"#2a3f5f\"},\"hovermode\":\"closest\",\"hoverlabel\":{\"align\":\"left\"},\"paper_bgcolor\":\"white\",\"plot_bgcolor\":\"#E5ECF6\",\"polar\":{\"bgcolor\":\"#E5ECF6\",\"angularaxis\":{\"gridcolor\":\"white\",\"linecolor\":\"white\",\"ticks\":\"\"},\"radialaxis\":{\"gridcolor\":\"white\",\"linecolor\":\"white\",\"ticks\":\"\"}},\"ternary\":{\"bgcolor\":\"#E5ECF6\",\"aaxis\":{\"gridcolor\":\"white\",\"linecolor\":\"white\",\"ticks\":\"\"},\"baxis\":{\"gridcolor\":\"white\",\"linecolor\":\"white\",\"ticks\":\"\"},\"caxis\":{\"gridcolor\":\"white\",\"linecolor\":\"white\",\"ticks\":\"\"}},\"coloraxis\":{\"colorbar\":{\"outlinewidth\":0,\"ticks\":\"\"}},\"colorscale\":{\"sequential\":[[0.0,\"#0d0887\"],[0.1111111111111111,\"#46039f\"],[0.2222222222222222,\"#7201a8\"],[0.3333333333333333,\"#9c179e\"],[0.4444444444444444,\"#bd3786\"],[0.5555555555555556,\"#d8576b\"],[0.6666666666666666,\"#ed7953\"],[0.7777777777777778,\"#fb9f3a\"],[0.8888888888888888,\"#fdca26\"],[1.0,\"#f0f921\"]],\"sequentialminus\":[[0.0,\"#0d0887\"],[0.1111111111111111,\"#46039f\"],[0.2222222222222222,\"#7201a8\"],[0.3333333333333333,\"#9c179e\"],[0.4444444444444444,\"#bd3786\"],[0.5555555555555556,\"#d8576b\"],[0.6666666666666666,\"#ed7953\"],[0.7777777777777778,\"#fb9f3a\"],[0.8888888888888888,\"#fdca26\"],[1.0,\"#f0f921\"]],\"diverging\":[[0,\"#8e0152\"],[0.1,\"#c51b7d\"],[0.2,\"#de77ae\"],[0.3,\"#f1b6da\"],[0.4,\"#fde0ef\"],[0.5,\"#f7f7f7\"],[0.6,\"#e6f5d0\"],[0.7,\"#b8e186\"],[0.8,\"#7fbc41\"],[0.9,\"#4d9221\"],[1,\"#276419\"]]},\"xaxis\":{\"gridcolor\":\"white\",\"linecolor\":\"white\",\"ticks\":\"\",\"title\":{\"standoff\":15},\"zerolinecolor\":\"white\",\"automargin\":true,\"zerolinewidth\":2},\"yaxis\":{\"gridcolor\":\"white\",\"linecolor\":\"white\",\"ticks\":\"\",\"title\":{\"standoff\":15},\"zerolinecolor\":\"white\",\"automargin\":true,\"zerolinewidth\":2},\"scene\":{\"xaxis\":{\"backgroundcolor\":\"#E5ECF6\",\"gridcolor\":\"white\",\"linecolor\":\"white\",\"showbackground\":true,\"ticks\":\"\",\"zerolinecolor\":\"white\",\"gridwidth\":2},\"yaxis\":{\"backgroundcolor\":\"#E5ECF6\",\"gridcolor\":\"white\",\"linecolor\":\"white\",\"showbackground\":true,\"ticks\":\"\",\"zerolinecolor\":\"white\",\"gridwidth\":2},\"zaxis\":{\"backgroundcolor\":\"#E5ECF6\",\"gridcolor\":\"white\",\"linecolor\":\"white\",\"showbackground\":true,\"ticks\":\"\",\"zerolinecolor\":\"white\",\"gridwidth\":2}},\"shapedefaults\":{\"line\":{\"color\":\"#2a3f5f\"}},\"annotationdefaults\":{\"arrowcolor\":\"#2a3f5f\",\"arrowhead\":0,\"arrowwidth\":1},\"geo\":{\"bgcolor\":\"white\",\"landcolor\":\"#E5ECF6\",\"subunitcolor\":\"white\",\"showland\":true,\"showlakes\":true,\"lakecolor\":\"white\"},\"title\":{\"x\":0.05},\"mapbox\":{\"style\":\"light\"}}},\"xaxis\":{\"title\":{\"text\":\"X-axis\"},\"range\":[0,300]},\"yaxis\":{\"title\":{\"text\":\"Y-axis\"},\"range\":[0,386]},\"title\":{\"text\":\"2D Line Plot\"},\"width\":450.0,\"height\":579.0},                        {\"responsive\": true}                    ).then(function(){\n",
       "                            \n",
       "var gd = document.getElementById('6070a64c-317d-4dc6-940f-9342d28c4d4a');\n",
       "var x = new MutationObserver(function (mutations, observer) {{\n",
       "        var display = window.getComputedStyle(gd).display;\n",
       "        if (!display || display === 'none') {{\n",
       "            console.log([gd, 'removed!']);\n",
       "            Plotly.purge(gd);\n",
       "            observer.disconnect();\n",
       "        }}\n",
       "}});\n",
       "\n",
       "// Listen for the removal of the full notebook cells\n",
       "var notebookContainer = gd.closest('#notebook-container');\n",
       "if (notebookContainer) {{\n",
       "    x.observe(notebookContainer, {childList: true});\n",
       "}}\n",
       "\n",
       "// Listen for the clearing of the current output cell\n",
       "var outputEl = gd.closest('.output');\n",
       "if (outputEl) {{\n",
       "    x.observe(outputEl, {childList: true});\n",
       "}}\n",
       "\n",
       "                        })                };                });            </script>        </div>"
      ]
     },
     "metadata": {},
     "output_type": "display_data"
    }
   ],
   "source": [
    "import plotly.graph_objects as go\n",
    "\n",
    "# Sample data\n",
    "x = [vertex[0] * W for vertex in texture_coordinates]\n",
    "y = [vertex[1] * H for vertex in texture_coordinates]\n",
    "\n",
    "# Create a line plot\n",
    "fig = go.Figure(data=go.Scatter(x=x, y=y, mode='markers', marker=dict(size=2)))\n",
    "\n",
    "layout_scale = 1.5\n",
    "\n",
    "# Customize the layout\n",
    "fig.update_layout(title='2D Line Plot',\n",
    "                  xaxis_title='X-axis',\n",
    "                  yaxis_title='Y-axis',\n",
    "                  xaxis=dict(range=[0, W]),\n",
    "                  yaxis=dict(range=[0, H]),\n",
    "                  width=W * layout_scale,\n",
    "                  height=H * layout_scale,\n",
    "                )\n",
    "\n",
    "# Show the plot\n",
    "fig.show()"
   ]
  },
  {
   "cell_type": "code",
   "execution_count": 30,
   "id": "53445a9d",
   "metadata": {},
   "outputs": [],
   "source": [
    "import math\n",
    "\n",
    "\n",
    "def rotate_array(array, center, angle_degrees):\n",
    "    # Convert angle from degrees to radians\n",
    "    angle_rad = math.radians(angle_degrees)\n",
    "    \n",
    "    # Define rotation matrix\n",
    "    rotation_matrix = np.array([[math.cos(angle_rad), -math.sin(angle_rad)],\n",
    "                                [math.sin(angle_rad), math.cos(angle_rad)]])\n",
    "    \n",
    "    # Translate the center to the origin\n",
    "    translated_array = array - center\n",
    "    \n",
    "    # Apply rotation\n",
    "    rotated_array = np.dot(translated_array, rotation_matrix.T) + center\n",
    "    \n",
    "    return rotated_array"
   ]
  },
  {
   "cell_type": "code",
   "execution_count": 31,
   "id": "d0358b39",
   "metadata": {},
   "outputs": [
    {
     "data": {
      "text/plain": [
       "array([[0.50393438, 0.29275835],\n",
       "       [0.50819623, 0.35391492],\n",
       "       [0.50708336, 0.33724302],\n",
       "       [0.53022236, 0.42622203],\n",
       "       [0.50902924, 0.37520206],\n",
       "       [0.50957698, 0.40458149],\n",
       "       [0.51039872, 0.47821331],\n",
       "       [0.68200955, 0.49016631],\n",
       "       [0.51214048, 0.53378534],\n",
       "       [0.51307169, 0.56276026],\n",
       "       [0.51653379, 0.6735889 ],\n",
       "       [0.50352919, 0.28602469],\n",
       "       [0.50319111, 0.27926898],\n",
       "       [0.50277627, 0.27483976],\n",
       "       [0.50169957, 0.26346105],\n",
       "       [0.50104034, 0.25398743],\n",
       "       [0.5004895 , 0.24261343],\n",
       "       [0.49984628, 0.23132294],\n",
       "       [0.50030014, 0.21804512],\n",
       "       [0.50763363, 0.34427267],\n",
       "       [0.5298298 , 0.34588486],\n",
       "       [0.78220442, 0.57701993],\n",
       "       [0.6109826 , 0.46986854],\n",
       "       [0.63655144, 0.4685635 ],\n",
       "       [0.66094881, 0.46971899],\n",
       "       [0.69165421, 0.48206711],\n",
       "       [0.58930153, 0.47401047],\n",
       "       [0.65410525, 0.52970573],\n",
       "       [0.62365526, 0.5273757 ],\n",
       "       [0.68075657, 0.52569479],\n",
       "       [0.69646704, 0.51745933],\n",
       "       [0.71258634, 0.46818531],\n",
       "       [0.58336303, 0.19427633],\n",
       "       [0.69053859, 0.49583483],\n",
       "       [0.78501436, 0.48458445],\n",
       "       [0.74101052, 0.483311  ],\n",
       "       [0.6277675 , 0.37956333],\n",
       "       [0.5315395 , 0.29711634],\n",
       "       [0.52741641, 0.28025866],\n",
       "       [0.55691668, 0.29009199],\n",
       "       [0.57337815, 0.28331614],\n",
       "       [0.54761961, 0.2793709 ],\n",
       "       [0.56314743, 0.27729946],\n",
       "       [0.60771391, 0.25428772],\n",
       "       [0.5282031 , 0.35440898],\n",
       "       [0.53219312, 0.37495565],\n",
       "       [0.73652565, 0.53411558],\n",
       "       [0.58044636, 0.43294674],\n",
       "       [0.58110398, 0.36341089],\n",
       "       [0.58278999, 0.37550294],\n",
       "       [0.70123839, 0.38368535],\n",
       "       [0.53157708, 0.40230465],\n",
       "       [0.68219548, 0.55578589],\n",
       "       [0.71570116, 0.54871684],\n",
       "       [0.76184952, 0.61325467],\n",
       "       [0.56738141, 0.53667077],\n",
       "       [0.59694314, 0.51804203],\n",
       "       [0.62622184, 0.2734195 ],\n",
       "       [0.73193318, 0.29808545],\n",
       "       [0.5625194 , 0.3515054 ],\n",
       "       [0.54389328, 0.34586072],\n",
       "       [0.59313202, 0.27292424],\n",
       "       [0.58720967, 0.27291942],\n",
       "       [0.73016119, 0.56258562],\n",
       "       [0.58134335, 0.35552764],\n",
       "       [0.63371271, 0.55360168],\n",
       "       [0.64027923, 0.57091412],\n",
       "       [0.66408029, 0.66178098],\n",
       "       [0.74327907, 0.58892751],\n",
       "       [0.64653587, 0.61751086],\n",
       "       [0.75066432, 0.54421741],\n",
       "       [0.76607475, 0.56042778],\n",
       "       [0.53001159, 0.28767806],\n",
       "       [0.55236775, 0.28422612],\n",
       "       [0.56853512, 0.28014487],\n",
       "       [0.55687407, 0.34835517],\n",
       "       [0.59007514, 0.27289087],\n",
       "       [0.58000004, 0.26717752],\n",
       "       [0.58420318, 0.27292341],\n",
       "       [0.55290005, 0.35640627],\n",
       "       [0.55884212, 0.27547061],\n",
       "       [0.54357582, 0.27639687],\n",
       "       [0.52479213, 0.27600169],\n",
       "       [0.53148869, 0.21850055],\n",
       "       [0.52978778, 0.23384243],\n",
       "       [0.52882636, 0.2450847 ],\n",
       "       [0.52683872, 0.25636804],\n",
       "       [0.52425146, 0.2651875 ],\n",
       "       [0.55841136, 0.2697323 ],\n",
       "       [0.56329787, 0.26584512],\n",
       "       [0.56873015, 0.26047641],\n",
       "       [0.57307225, 0.25438064],\n",
       "       [0.6024664 , 0.30523658],\n",
       "       [0.77250004, 0.39874923],\n",
       "       [0.50734946, 0.34088129],\n",
       "       [0.56985569, 0.27125937],\n",
       "       [0.57487327, 0.2694428 ],\n",
       "       [0.53653663, 0.33836585],\n",
       "       [0.57244125, 0.3446784 ],\n",
       "       [0.54003823, 0.342026  ],\n",
       "       [0.60599577, 0.42108154],\n",
       "       [0.64626774, 0.40696061],\n",
       "       [0.58623844, 0.36726904],\n",
       "       [0.72448158, 0.64240623],\n",
       "       [0.70540914, 0.60911053],\n",
       "       [0.69243884, 0.57282257],\n",
       "       [0.58757722, 0.24055409],\n",
       "       [0.57879514, 0.56512684],\n",
       "       [0.5850566 , 0.61893886],\n",
       "       [0.59698659, 0.67116365],\n",
       "       [0.68066567, 0.47410917],\n",
       "       [0.73847154, 0.45333719],\n",
       "       [0.57527971, 0.47848457],\n",
       "       [0.71997505, 0.50852835],\n",
       "       [0.56405327, 0.44634956],\n",
       "       [0.56833804, 0.36967641],\n",
       "       [0.76366383, 0.44091129],\n",
       "       [0.72218004, 0.43745524],\n",
       "       [0.69059104, 0.42855126],\n",
       "       [0.6420821 , 0.43141413],\n",
       "       [0.606399  , 0.43981016],\n",
       "       [0.58042711, 0.44928241],\n",
       "       [0.53353855, 0.47324133],\n",
       "       [0.75463849, 0.39631367],\n",
       "       [0.74009594, 0.51124495],\n",
       "       [0.51978201, 0.34486997],\n",
       "       [0.57674375, 0.41073793],\n",
       "       [0.79071292, 0.49063241],\n",
       "       [0.56158075, 0.46012068],\n",
       "       [0.58800387, 0.36737412],\n",
       "       [0.70191261, 0.4946726 ],\n",
       "       [0.56929049, 0.38442135],\n",
       "       [0.75540078, 0.34927905],\n",
       "       [0.57502067, 0.48604584],\n",
       "       [0.5513722 , 0.39561069],\n",
       "       [0.67877355, 0.24425381],\n",
       "       [0.67267734, 0.22675991],\n",
       "       [0.77220684, 0.39688677],\n",
       "       [0.70991182, 0.27205837],\n",
       "       [0.77703729, 0.52562726],\n",
       "       [0.5846259 , 0.17899209],\n",
       "       [0.51695484, 0.34154826],\n",
       "       [0.59834185, 0.39597338],\n",
       "       [0.75981554, 0.48033434],\n",
       "       [0.65908235, 0.48283088],\n",
       "       [0.63792562, 0.48094374],\n",
       "       [0.58463514, 0.26438046],\n",
       "       [0.74303958, 0.35544121],\n",
       "       [0.54185703, 0.15623283],\n",
       "       [0.60767904, 0.18252045],\n",
       "       [0.63673115, 0.20048386],\n",
       "       [0.51492065, 0.61861098],\n",
       "       [0.49535334, 0.15304083],\n",
       "       [0.61622149, 0.48181802],\n",
       "       [0.595539  , 0.48399699],\n",
       "       [0.5817892 , 0.48478609],\n",
       "       [0.75623059, 0.51626569],\n",
       "       [0.59948546, 0.50228977],\n",
       "       [0.6224879 , 0.5089767 ],\n",
       "       [0.64520672, 0.51039824],\n",
       "       [0.66655254, 0.50743422],\n",
       "       [0.6788516 , 0.5026466 ],\n",
       "       [0.79071561, 0.53824574],\n",
       "       [0.67282975, 0.48632979],\n",
       "       [0.50631437, 0.32202876],\n",
       "       [0.58007199, 0.31562954],\n",
       "       [0.56282699, 0.35420209],\n",
       "       [0.53809434, 0.32086277],\n",
       "       [0.51117715, 0.50705636],\n",
       "       [0.64659053, 0.2182377 ],\n",
       "       [0.61614487, 0.19880146],\n",
       "       [0.54496652, 0.16448981],\n",
       "       [0.70325112, 0.25692213],\n",
       "       [0.58288273, 0.4925794 ],\n",
       "       [0.54800653, 0.43807822],\n",
       "       [0.49620026, 0.16191483],\n",
       "       [0.5772306 , 0.16684258],\n",
       "       [0.75676847, 0.35197276],\n",
       "       [0.54304311, 0.26761532],\n",
       "       [0.54771587, 0.26100618],\n",
       "       [0.55177552, 0.25244415],\n",
       "       [0.55450827, 0.24245238],\n",
       "       [0.5626528 , 0.22765505],\n",
       "       [0.57539839, 0.27510345],\n",
       "       [0.58057931, 0.27636778],\n",
       "       [0.58491427, 0.27793354],\n",
       "       [0.61886978, 0.29068857],\n",
       "       [0.71253216, 0.34126997],\n",
       "       [0.54853359, 0.46130902],\n",
       "       [0.56003693, 0.50243008],\n",
       "       [0.57370067, 0.5000526 ],\n",
       "       [0.57066751, 0.27415067],\n",
       "       [0.70630521, 0.2958442 ],\n",
       "       [0.54116926, 0.50251284],\n",
       "       [0.57408285, 0.21131802],\n",
       "       [0.50978851, 0.42936522],\n",
       "       [0.53201979, 0.44837558],\n",
       "       [0.51001817, 0.45273328],\n",
       "       [0.56306648, 0.40421802],\n",
       "       [0.49745643, 0.17748076],\n",
       "       [0.49884206, 0.1986478 ],\n",
       "       [0.53793633, 0.19975877],\n",
       "       [0.62794113, 0.24801195],\n",
       "       [0.60796234, 0.3516804 ],\n",
       "       [0.6029456 , 0.22723287],\n",
       "       [0.66424382, 0.35560226],\n",
       "       [0.6292147 , 0.33158195],\n",
       "       [0.6799652 , 0.32419395],\n",
       "       [0.54408944, 0.17934465],\n",
       "       [0.57572213, 0.39321387],\n",
       "       [0.64427763, 0.23602408],\n",
       "       [0.6134524 , 0.21453583],\n",
       "       [0.64860904, 0.27233082],\n",
       "       [0.73068359, 0.32182974],\n",
       "       [0.67525578, 0.27217597],\n",
       "       [0.73814631, 0.31060725],\n",
       "       [0.64508134, 0.30640608],\n",
       "       [0.56197786, 0.42479271],\n",
       "       [0.56049553, 0.35977095],\n",
       "       [0.57337156, 0.35609943],\n",
       "       [0.55184066, 0.37300795],\n",
       "       [0.58270296, 0.52246952],\n",
       "       [0.62747878, 0.53655511],\n",
       "       [0.66583499, 0.53866285],\n",
       "       [0.69561243, 0.53393945],\n",
       "       [0.71380883, 0.52425551],\n",
       "       [0.71891367, 0.48917168],\n",
       "       [0.78269082, 0.44101143],\n",
       "       [0.69894189, 0.4587118 ],\n",
       "       [0.67361689, 0.4518832 ],\n",
       "       [0.63976222, 0.45158058],\n",
       "       [0.60776228, 0.45606446],\n",
       "       [0.58318532, 0.46234113],\n",
       "       [0.56659731, 0.46871448],\n",
       "       [0.78343424, 0.4452852 ],\n",
       "       [0.57247865, 0.3516022 ],\n",
       "       [0.54802179, 0.41726357],\n",
       "       [0.54482594, 0.3576346 ],\n",
       "       [0.53192991, 0.34862667],\n",
       "       [0.54431474, 0.35500169],\n",
       "       [0.56563377, 0.34641075],\n",
       "       [0.5273256 , 0.34633005],\n",
       "       [0.52447128, 0.34286749],\n",
       "       [0.56665111, 0.4849177 ],\n",
       "       [0.55447266, 0.48011941],\n",
       "       [0.54824033, 0.47630823],\n",
       "       [0.68553102, 0.49901247],\n",
       "       [0.70514661, 0.50787017],\n",
       "       [0.48861539, 0.42678136],\n",
       "       [0.33074164, 0.49124563],\n",
       "       [0.48468113, 0.34658694],\n",
       "       [0.24142778, 0.58283359],\n",
       "       [0.39908427, 0.46840894],\n",
       "       [0.37384385, 0.4678387 ],\n",
       "       [0.35004896, 0.47006691],\n",
       "       [0.32044077, 0.48467189],\n",
       "       [0.42122275, 0.47228044],\n",
       "       [0.36617839, 0.53088424],\n",
       "       [0.39596605, 0.5272783 ],\n",
       "       [0.33860332, 0.52826089],\n",
       "       [0.3210448 , 0.52087992],\n",
       "       [0.29824269, 0.47204405],\n",
       "       [0.41138113, 0.19618607],\n",
       "       [0.3227272 , 0.49833703],\n",
       "       [0.22832787, 0.4899109 ],\n",
       "       [0.27083403, 0.48894387],\n",
       "       [0.38339746, 0.38255924],\n",
       "       [0.47640157, 0.29754978],\n",
       "       [0.4787671 , 0.28050935],\n",
       "       [0.44986087, 0.29075742],\n",
       "       [0.43262118, 0.28406674],\n",
       "       [0.45809245, 0.27976757],\n",
       "       [0.44205928, 0.27780783],\n",
       "       [0.39555025, 0.25747174],\n",
       "       [0.48809195, 0.35493803],\n",
       "       [0.4853977 , 0.37554497],\n",
       "       [0.2864911 , 0.5396865 ],\n",
       "       [0.43460625, 0.43477374],\n",
       "       [0.43281466, 0.36512381],\n",
       "       [0.43124449, 0.37731916],\n",
       "       [0.30803037, 0.38826567],\n",
       "       [0.48713285, 0.40294021],\n",
       "       [0.34709716, 0.55701786],\n",
       "       [0.31134385, 0.55249244],\n",
       "       [0.26491606, 0.6187588 ],\n",
       "       [0.45863831, 0.53483975],\n",
       "       [0.42072022, 0.5167138 ],\n",
       "       [0.37862861, 0.27698088],\n",
       "       [0.26305342, 0.30312514],\n",
       "       [0.45110238, 0.35286766],\n",
       "       [0.46963441, 0.34676152],\n",
       "       [0.41065818, 0.27335989],\n",
       "       [0.41649401, 0.27332592],\n",
       "       [0.29859465, 0.56684041],\n",
       "       [0.43182063, 0.35723299],\n",
       "       [0.39500606, 0.55283201],\n",
       "       [0.3920145 , 0.56961372],\n",
       "       [0.36695176, 0.66503832],\n",
       "       [0.28204638, 0.59376624],\n",
       "       [0.382056  , 0.62035853],\n",
       "       [0.2724508 , 0.55031317],\n",
       "       [0.25609684, 0.56539333],\n",
       "       [0.47696435, 0.2880187 ],\n",
       "       [0.45385808, 0.28471959],\n",
       "       [0.43702137, 0.28082514],\n",
       "       [0.45658839, 0.34957093],\n",
       "       [0.41367579, 0.27329099],\n",
       "       [0.42284411, 0.26745343],\n",
       "       [0.4195351 , 0.2733593 ],\n",
       "       [0.46182299, 0.35760206],\n",
       "       [0.44608897, 0.27594566],\n",
       "       [0.46167815, 0.27677763],\n",
       "       [0.4805432 , 0.27618003],\n",
       "       [0.4685452 , 0.21940148],\n",
       "       [0.47005659, 0.23384857],\n",
       "       [0.47243696, 0.24520123],\n",
       "       [0.4755758 , 0.25649685],\n",
       "       [0.47926801, 0.26524079],\n",
       "       [0.44537479, 0.26998466],\n",
       "       [0.43954551, 0.26609147],\n",
       "       [0.43335658, 0.2606715 ],\n",
       "       [0.42821407, 0.25457531],\n",
       "       [0.40585798, 0.30793947],\n",
       "       [0.23157215, 0.40449411],\n",
       "       [0.43400776, 0.27156675],\n",
       "       [0.42840272, 0.26973438],\n",
       "       [0.47657543, 0.33911079],\n",
       "       [0.43969733, 0.34616607],\n",
       "       [0.47331655, 0.3428036 ],\n",
       "       [0.40804154, 0.42346042],\n",
       "       [0.36594605, 0.41026491],\n",
       "       [0.42680943, 0.36900795],\n",
       "       [0.30436367, 0.64703923],\n",
       "       [0.32196259, 0.61312416],\n",
       "       [0.33944225, 0.57401752],\n",
       "       [0.41412085, 0.24312055],\n",
       "       [0.45266664, 0.56223553],\n",
       "       [0.44412994, 0.62049034],\n",
       "       [0.43546188, 0.67301783],\n",
       "       [0.33073044, 0.47545487],\n",
       "       [0.27007711, 0.45829672],\n",
       "       [0.43614829, 0.47631693],\n",
       "       [0.29658371, 0.51322034],\n",
       "       [0.45213276, 0.4477964 ],\n",
       "       [0.44672805, 0.37110102],\n",
       "       [0.24725699, 0.44610965],\n",
       "       [0.28625822, 0.44184977],\n",
       "       [0.31814361, 0.43229181],\n",
       "       [0.36674011, 0.43402308],\n",
       "       [0.40273172, 0.44144905],\n",
       "       [0.42991126, 0.44986737],\n",
       "       [0.48609364, 0.47380668],\n",
       "       [0.25291967, 0.40154886],\n",
       "       [0.27702665, 0.51682985],\n",
       "       [0.49536175, 0.34526026],\n",
       "       [0.43784243, 0.41256851],\n",
       "       [0.22285116, 0.49673158],\n",
       "       [0.45057458, 0.45965856],\n",
       "       [0.424676  , 0.36920309],\n",
       "       [0.31115144, 0.4981975 ],\n",
       "       [0.44613278, 0.38595378],\n",
       "       [0.24379301, 0.35476661],\n",
       "       [0.43763238, 0.48353779],\n",
       "       [0.46581966, 0.39673632],\n",
       "       [0.31549245, 0.24783051],\n",
       "       [0.31790054, 0.23045039],\n",
       "       [0.23336399, 0.40231681],\n",
       "       [0.28565323, 0.2764256 ],\n",
       "       [0.2412287 , 0.53087661],\n",
       "       [0.40766084, 0.18074167],\n",
       "       [0.49771237, 0.34185153],\n",
       "       [0.41493636, 0.39820772],\n",
       "       [0.24903202, 0.4867689 ],\n",
       "       [0.35304177, 0.48139888],\n",
       "       [0.37401021, 0.47860605],\n",
       "       [0.41776478, 0.26473659],\n",
       "       [0.26070017, 0.36078417],\n",
       "       [0.44868577, 0.15733969],\n",
       "       [0.38218993, 0.18520761],\n",
       "       [0.35301232, 0.20349747],\n",
       "       [0.39540672, 0.4791671 ],\n",
       "       [0.41627401, 0.48132747],\n",
       "       [0.43039578, 0.48203558],\n",
       "       [0.2599383 , 0.52295473],\n",
       "       [0.41544116, 0.50149131],\n",
       "       [0.39353251, 0.50929165],\n",
       "       [0.37079459, 0.51123917],\n",
       "       [0.34892821, 0.50899601],\n",
       "       [0.33592296, 0.50473624],\n",
       "       [0.22874117, 0.54431736],\n",
       "       [0.33957434, 0.48615181],\n",
       "       [0.4293834 , 0.31768566],\n",
       "       [0.45113945, 0.35563499],\n",
       "       [0.47328192, 0.32161653],\n",
       "       [0.34686679, 0.22101229],\n",
       "       [0.37652087, 0.20096564],\n",
       "       [0.44717062, 0.16544831],\n",
       "       [0.2888236 , 0.26134646],\n",
       "       [0.43088382, 0.49054325],\n",
       "       [0.46948344, 0.43915498],\n",
       "       [0.41293812, 0.16894072],\n",
       "       [0.24486107, 0.35731596],\n",
       "       [0.46061736, 0.26784033],\n",
       "       [0.45492482, 0.26122415],\n",
       "       [0.44974422, 0.25258666],\n",
       "       [0.44560498, 0.24251735],\n",
       "       [0.4380061 , 0.22973222],\n",
       "       [0.42886096, 0.27572405],\n",
       "       [0.42400283, 0.27703226],\n",
       "       [0.41983324, 0.27865732],\n",
       "       [0.38800311, 0.29396886],\n",
       "       [0.29195166, 0.34628439],\n",
       "       [0.46952426, 0.46226335],\n",
       "       [0.45585155, 0.49992883],\n",
       "       [0.4407658 , 0.49767238],\n",
       "       [0.43352818, 0.27469528],\n",
       "       [0.29334497, 0.30062085],\n",
       "       [0.47857583, 0.50006402],\n",
       "       [0.42327982, 0.21325332],\n",
       "       [0.48708457, 0.44901198],\n",
       "       [0.45264184, 0.40560514],\n",
       "       [0.45919049, 0.2007786 ],\n",
       "       [0.37269932, 0.25097197],\n",
       "       [0.4031502 , 0.35417449],\n",
       "       [0.39565641, 0.22975141],\n",
       "       [0.34395289, 0.35966545],\n",
       "       [0.37928689, 0.33482522],\n",
       "       [0.32498252, 0.32862103],\n",
       "       [0.45036232, 0.18029845],\n",
       "       [0.43869048, 0.39499235],\n",
       "       [0.3527329 , 0.2391004 ],\n",
       "       [0.38208073, 0.21692431],\n",
       "       [0.35404915, 0.27577877],\n",
       "       [0.26996756, 0.32702255],\n",
       "       [0.32429028, 0.2761364 ],\n",
       "       [0.25994492, 0.31566876],\n",
       "       [0.36102092, 0.31005323],\n",
       "       [0.45415384, 0.42619228],\n",
       "       [0.45441651, 0.36110795],\n",
       "       [0.4405064 , 0.35763669],\n",
       "       [0.46470046, 0.37407959],\n",
       "       [0.43719029, 0.52042472],\n",
       "       [0.39608067, 0.53583705],\n",
       "       [0.3585211 , 0.53987452],\n",
       "       [0.3276279 , 0.53698745],\n",
       "       [0.30663514, 0.5285401 ],\n",
       "       [0.29393893, 0.49374056],\n",
       "       [0.22678816, 0.44642788],\n",
       "       [0.31124377, 0.4618777 ],\n",
       "       [0.3362819 , 0.45413309],\n",
       "       [0.36975569, 0.45271438],\n",
       "       [0.40173548, 0.45631492],\n",
       "       [0.42688704, 0.46187252],\n",
       "       [0.44446069, 0.46769834],\n",
       "       [0.22515869, 0.45125842],\n",
       "       [0.44101989, 0.35314959],\n",
       "       [0.46954447, 0.41833961],\n",
       "       [0.47101122, 0.35859054],\n",
       "       [0.48296136, 0.34927547],\n",
       "       [0.47083044, 0.35587293],\n",
       "       [0.44721776, 0.34782159],\n",
       "       [0.48770463, 0.34692776],\n",
       "       [0.49020636, 0.34342903],\n",
       "       [0.4458251 , 0.48250806],\n",
       "       [0.45848536, 0.47831523],\n",
       "       [0.4666096 , 0.47468889],\n",
       "       [0.32864398, 0.50138667],\n",
       "       [0.31062782, 0.51164317]])"
      ]
     },
     "execution_count": 31,
     "metadata": {},
     "output_type": "execute_result"
    }
   ],
   "source": [
    "new_texture_coordinates = rotate_array(texture_coordinates, np.array([0.5, 0.5]), 180)\n",
    "new_texture_coordinates"
   ]
  },
  {
   "cell_type": "code",
   "execution_count": 32,
   "id": "fa5401b9",
   "metadata": {},
   "outputs": [
    {
     "data": {
      "application/vnd.plotly.v1+json": {
       "config": {
        "plotlyServerURL": "https://plot.ly"
       },
       "data": [
        {
         "marker": {
          "size": 2
         },
         "mode": "markers",
         "type": "scatter",
         "x": [
          0.503934383392334,
          0.508196234703064,
          0.5070833563804626,
          0.5302223563194275,
          0.5090292394161224,
          0.5095769762992859,
          0.5103987157344818,
          0.6820095479488373,
          0.5121404826641083,
          0.5130716860294342,
          0.5165337920188904,
          0.5035291910171509,
          0.5031911134719849,
          0.5027762651443481,
          0.5016995668411255,
          0.5010403394699097,
          0.5004895031452179,
          0.4998462796211242,
          0.5003001391887665,
          0.507633626461029,
          0.5298298001289368,
          0.7822044193744659,
          0.6109825968742371,
          0.6365514397621155,
          0.6609488129615784,
          0.6916542053222656,
          0.5893015265464783,
          0.6541052460670471,
          0.6236552596092224,
          0.6807565689086914,
          0.6964670419692993,
          0.7125863432884216,
          0.5833630263805389,
          0.6905385851860046,
          0.7850143611431122,
          0.7410105168819427,
          0.6277675032615662,
          0.5315394997596741,
          0.5274164080619812,
          0.5569166839122772,
          0.5733781456947327,
          0.5476196110248566,
          0.5631474256515503,
          0.607713907957077,
          0.5282030999660492,
          0.532193124294281,
          0.7365256547927856,
          0.5804463624954224,
          0.5811039805412292,
          0.5827899873256683,
          0.7012383937835693,
          0.531577080488205,
          0.6821954846382141,
          0.715701162815094,
          0.7618495225906372,
          0.5673814117908478,
          0.5969431400299072,
          0.6262218356132507,
          0.7319331765174866,
          0.5625194013118744,
          0.5438932776451111,
          0.5931320190429688,
          0.5872096717357635,
          0.730161190032959,
          0.5813433527946472,
          0.6337127089500427,
          0.640279233455658,
          0.6640802919864655,
          0.7432790696620941,
          0.6465358734130859,
          0.7506643235683441,
          0.7660747468471527,
          0.5300115942955017,
          0.5523677468299866,
          0.5685351192951202,
          0.5568740665912628,
          0.5900751352310181,
          0.5800000429153442,
          0.5842031836509705,
          0.5529000461101532,
          0.558842122554779,
          0.5435758233070374,
          0.5247921347618103,
          0.531488686800003,
          0.5297877788543701,
          0.5288263559341431,
          0.5268387198448181,
          0.5242514610290527,
          0.5584113597869873,
          0.5632978677749634,
          0.5687301456928253,
          0.5730722546577454,
          0.6024664044380188,
          0.7725000381469727,
          0.5073494613170624,
          0.5698556900024414,
          0.5748732686042786,
          0.5365366339683533,
          0.5724412500858307,
          0.5400382280349731,
          0.605995774269104,
          0.6462677419185638,
          0.586238443851471,
          0.7244815826416016,
          0.7054091393947601,
          0.6924388408660889,
          0.587577223777771,
          0.5787951350212097,
          0.5850566029548645,
          0.5969865918159485,
          0.6806656718254089,
          0.7384715378284454,
          0.575279712677002,
          0.7199750542640686,
          0.5640532672405243,
          0.5683380365371704,
          0.7636638283729553,
          0.722180038690567,
          0.690591037273407,
          0.6420820951461792,
          0.6063989996910095,
          0.5804271101951599,
          0.5335385501384735,
          0.7546384930610657,
          0.7400959432125092,
          0.5197820067405701,
          0.5767437517642975,
          0.7907129228115082,
          0.5615807473659515,
          0.5880038738250732,
          0.7019126117229462,
          0.5692904889583588,
          0.7554007768630981,
          0.5750206708908081,
          0.5513722002506256,
          0.6787735521793365,
          0.6726773381233215,
          0.7722068428993225,
          0.7099118232727051,
          0.7770372927188873,
          0.5846258997917175,
          0.5169548392295837,
          0.5983418524265289,
          0.7598155438899994,
          0.6590823531150818,
          0.6379256248474121,
          0.5846351385116577,
          0.7430395781993866,
          0.5418570339679718,
          0.6076790392398834,
          0.6367311477661133,
          0.5149206519126892,
          0.49535334110260004,
          0.6162214875221252,
          0.595539003610611,
          0.5817891955375671,
          0.7562305927276611,
          0.599485456943512,
          0.6224879026412964,
          0.6452067196369171,
          0.6665525436401367,
          0.6788516044616699,
          0.7907156050205231,
          0.6728297472000122,
          0.5063143670558929,
          0.5800719857215881,
          0.5628269910812378,
          0.5380943417549133,
          0.5111771523952484,
          0.646590530872345,
          0.6161448657512665,
          0.5449665188789368,
          0.7032511234283447,
          0.5828827321529388,
          0.548006534576416,
          0.49620026350021357,
          0.5772306025028229,
          0.7567684650421143,
          0.5430431067943573,
          0.5477158725261688,
          0.5517755150794983,
          0.5545082688331604,
          0.5626527965068817,
          0.5753983855247498,
          0.5805793106555939,
          0.5849142670631409,
          0.6188697814941406,
          0.7125321626663208,
          0.5485335886478424,
          0.5600369274616241,
          0.5737006664276123,
          0.5706675052642822,
          0.706305205821991,
          0.5411692559719086,
          0.5740828514099121,
          0.5097885131835938,
          0.5320197939872742,
          0.5100181698799133,
          0.5630664825439453,
          0.4974564313888549,
          0.49884206056594843,
          0.5379363298416138,
          0.6279411315917969,
          0.6079623401165009,
          0.6029455959796906,
          0.6642438173294067,
          0.6292147040367126,
          0.6799651980400085,
          0.5440894365310669,
          0.5757221281528473,
          0.6442776322364807,
          0.6134524047374725,
          0.6486090421676636,
          0.7306835949420929,
          0.6752557754516602,
          0.7381463050842285,
          0.6450813412666321,
          0.5619778633117676,
          0.560495525598526,
          0.573371559381485,
          0.5518406629562378,
          0.5827029645442963,
          0.6274787783622742,
          0.6658349931240082,
          0.6956124305725098,
          0.7138088345527649,
          0.7189136743545532,
          0.7826908230781555,
          0.6989418864250183,
          0.673616886138916,
          0.6397622227668762,
          0.6077622771263123,
          0.5831853151321411,
          0.5665973126888275,
          0.7834342420101166,
          0.5724786520004272,
          0.5480217933654785,
          0.544825941324234,
          0.5319299101829529,
          0.5443147420883179,
          0.5656337738037109,
          0.5273256003856659,
          0.5244712829589844,
          0.5666511058807373,
          0.5544726550579071,
          0.5482403337955475,
          0.6855310201644897,
          0.7051466107368469,
          0.48861539363861084,
          0.33074164390563965,
          0.4846811294555664,
          0.24142777919769287,
          0.39908427000045776,
          0.37384384870529175,
          0.3500489592552185,
          0.32044076919555664,
          0.4212227463722229,
          0.36617839336395264,
          0.3959660530090332,
          0.33860331773757935,
          0.32104480266571045,
          0.2982426881790161,
          0.4113811254501342,
          0.3227272033691406,
          0.22832787036895752,
          0.2708340287208557,
          0.3833974599838257,
          0.47640156745910645,
          0.4787670969963074,
          0.4498608708381653,
          0.43262118101119995,
          0.45809245109558105,
          0.4420592784881592,
          0.3955502510070801,
          0.48809194564819336,
          0.48539769649505615,
          0.2864910960197449,
          0.43460625410079956,
          0.43281465768814087,
          0.43124449253082275,
          0.308030366897583,
          0.48713284730911255,
          0.34709715843200684,
          0.31134384870529175,
          0.2649160623550415,
          0.4586383104324341,
          0.4207202196121216,
          0.37862861156463623,
          0.26305341720581055,
          0.4511023759841919,
          0.46963441371917725,
          0.41065818071365356,
          0.4164940118789673,
          0.2985946536064148,
          0.4318206310272217,
          0.39500606060028076,
          0.3920145034790039,
          0.36695176362991333,
          0.282046377658844,
          0.38205599784851074,
          0.2724508047103882,
          0.25609683990478516,
          0.4769643545150757,
          0.45385807752609253,
          0.4370213747024536,
          0.45658838748931885,
          0.41367578506469727,
          0.4228441119194031,
          0.4195351004600525,
          0.4618229866027832,
          0.446088969707489,
          0.461678147315979,
          0.48054319620132446,
          0.4685451984405517,
          0.4700565934181213,
          0.4724369645118713,
          0.47557580471038813,
          0.47926801443099976,
          0.4453747868537903,
          0.43954551219940186,
          0.4333565831184387,
          0.42821407318115234,
          0.40585798025131226,
          0.23157215118408203,
          0.43400776386260986,
          0.42840272188186646,
          0.47657543420791626,
          0.4396973252296448,
          0.4733165502548218,
          0.4080415368080139,
          0.36594605445861816,
          0.4268094301223755,
          0.3043636679649353,
          0.3219625949859619,
          0.33944225311279297,
          0.4141208529472351,
          0.45266664028167725,
          0.44412994384765625,
          0.4354618787765503,
          0.3307304382324219,
          0.270077109336853,
          0.4361482858657837,
          0.29658371210098267,
          0.4521327614784241,
          0.44672805070877075,
          0.24725699424743652,
          0.2862582206726074,
          0.3181436061859131,
          0.3667401075363159,
          0.402731716632843,
          0.4299112558364868,
          0.4860936403274536,
          0.25291967391967773,
          0.2770266532897949,
          0.4953617453575134,
          0.4378424286842346,
          0.22285115718841553,
          0.4505745768547058,
          0.42467600107192993,
          0.3111514449119568,
          0.4461327791213989,
          0.24379301071166992,
          0.43763238191604614,
          0.46581965684890747,
          0.3154924511909485,
          0.31790053844451904,
          0.23336398601531982,
          0.2856532335281372,
          0.24122869968414307,
          0.40766084194183344,
          0.4977123737335205,
          0.414936363697052,
          0.24903202056884766,
          0.35304176807403564,
          0.37401020526885986,
          0.4177647829055786,
          0.26070016622543335,
          0.4486857652664184,
          0.382189929485321,
          0.3530123233795166,
          0.39540672302246094,
          0.4162740111351013,
          0.43039578199386597,
          0.2599382996559143,
          0.4154411554336548,
          0.39353251457214355,
          0.3707945942878723,
          0.34892821311950684,
          0.3359229564666748,
          0.22874116897583008,
          0.33957433700561523,
          0.42938339710235596,
          0.4511394500732422,
          0.4732819199562073,
          0.34686678647994995,
          0.3765208721160888,
          0.44717061519622797,
          0.28882360458374023,
          0.43088382482528687,
          0.4694834351539612,
          0.412938117980957,
          0.24486106634140015,
          0.4606173634529114,
          0.4549248218536377,
          0.44974422454833984,
          0.4456049799919128,
          0.4380061030387878,
          0.42886096239089966,
          0.42400282621383667,
          0.419833242893219,
          0.3880031108856201,
          0.29195165634155273,
          0.4695242643356323,
          0.45585155487060547,
          0.4407657980918884,
          0.43352818489074707,
          0.29334497451782227,
          0.47857582569122314,
          0.4232798218727111,
          0.4870845675468445,
          0.4526418447494507,
          0.45919048786163325,
          0.3726993203163147,
          0.40315020084381104,
          0.39565640687942505,
          0.34395289421081543,
          0.37928688526153564,
          0.32498252391815186,
          0.4503623247146606,
          0.4386904835700989,
          0.35273289680480957,
          0.38208073377609253,
          0.3540491461753845,
          0.26996755599975586,
          0.32429027557373047,
          0.2599449157714844,
          0.36102092266082764,
          0.454153835773468,
          0.45441651344299316,
          0.4405063986778259,
          0.46470046043395996,
          0.43719029426574707,
          0.3960806727409363,
          0.35852110385894775,
          0.32762789726257324,
          0.30663514137268066,
          0.29393893480300903,
          0.22678816318511963,
          0.31124377250671387,
          0.3362818956375122,
          0.36975568532943726,
          0.40173548460006714,
          0.42688703536987305,
          0.4444606900215149,
          0.22515869140625,
          0.4410198926925659,
          0.4695444703102112,
          0.471011221408844,
          0.48296135663986206,
          0.47083044052124023,
          0.44721776247024536,
          0.48770463466644287,
          0.49020636081695557,
          0.44582509994506836,
          0.45848536491394043,
          0.4666095972061157,
          0.3286439776420593,
          0.310627818107605
         ],
         "y": [
          0.29275834560394287,
          0.35391491651535034,
          0.3372430205345154,
          0.426222026348114,
          0.3752020597457886,
          0.4045814871788025,
          0.4782133102416992,
          0.4901663064956665,
          0.533785343170166,
          0.5627602636814117,
          0.673588901758194,
          0.28602468967437744,
          0.2792689800262451,
          0.27483975887298584,
          0.26346105337142944,
          0.2539874315261841,
          0.24261343479156494,
          0.23132294416427612,
          0.21804511547088623,
          0.3442726731300354,
          0.34588485956192017,
          0.5770199298858643,
          0.469868540763855,
          0.4685634970664978,
          0.4697189927101135,
          0.4820671081542969,
          0.4740104675292969,
          0.5297057330608368,
          0.5273756980895996,
          0.5256947875022888,
          0.5174593329429626,
          0.46818530559539795,
          0.1942763328552246,
          0.4958348274230957,
          0.48458445072174067,
          0.48331099748611445,
          0.3795633316040039,
          0.29711633920669556,
          0.2802586555480957,
          0.29009199142456055,
          0.28331613540649414,
          0.27937090396881104,
          0.2772994637489319,
          0.2542877197265625,
          0.35440897941589355,
          0.3749556541442871,
          0.5341155827045441,
          0.43294674158096313,
          0.3634108901023865,
          0.37550294399261475,
          0.3836853504180908,
          0.40230464935302734,
          0.5557858943939209,
          0.5487168431282043,
          0.6132546663284302,
          0.5366707742214203,
          0.5180420279502869,
          0.27341949939727783,
          0.29808545112609863,
          0.3515053987503052,
          0.34586071968078613,
          0.2729242444038391,
          0.2729194164276123,
          0.5625856220722198,
          0.3555276393890381,
          0.5536016821861267,
          0.5709141194820404,
          0.66178098320961,
          0.5889275074005127,
          0.6175108551979065,
          0.5442174077033997,
          0.5604277849197388,
          0.287678062915802,
          0.28422611951828003,
          0.2801448702812195,
          0.34835517406463623,
          0.2728908658027649,
          0.2671775221824646,
          0.27292340993881226,
          0.3564062714576721,
          0.2754706144332886,
          0.27639687061309814,
          0.2760016918182373,
          0.218500554561615,
          0.23384243249893188,
          0.2450847029685974,
          0.2563680410385132,
          0.26518750190734863,
          0.2697322964668274,
          0.2658451199531555,
          0.26047641038894653,
          0.25438064336776733,
          0.3052365779876709,
          0.3987492322921753,
          0.3408812880516052,
          0.2712593674659729,
          0.2694427967071533,
          0.3383658528327942,
          0.3446784019470215,
          0.3420259952545166,
          0.42108154296875,
          0.4069606065750122,
          0.36726903915405273,
          0.6424062252044678,
          0.6091105341911316,
          0.5728225708007812,
          0.2405540943145752,
          0.5651268362998962,
          0.6189388632774353,
          0.6711636483669281,
          0.4741091728210449,
          0.4533371925354004,
          0.478484570980072,
          0.5085283517837524,
          0.446349561214447,
          0.369676411151886,
          0.4409112930297851,
          0.4374552369117737,
          0.42855125665664673,
          0.4314141273498535,
          0.4398101568222046,
          0.4492824077606201,
          0.47324132919311523,
          0.3963136672973633,
          0.5112449526786804,
          0.3448699712753296,
          0.41073793172836304,
          0.49063241481781,
          0.46012067794799805,
          0.36737412214279175,
          0.49467259645462036,
          0.38442134857177734,
          0.3492790460586548,
          0.48604583740234375,
          0.3956106901168823,
          0.24425381422042847,
          0.2267599105834961,
          0.39688676595687866,
          0.272058367729187,
          0.5256272554397583,
          0.17899209260940552,
          0.34154826402664185,
          0.3959733843803406,
          0.48033434152603144,
          0.48283088207244873,
          0.4809437394142151,
          0.26438045501708984,
          0.35544121265411377,
          0.1562328338623047,
          0.18252044916152954,
          0.20048385858535767,
          0.6186109781265259,
          0.1530408263206482,
          0.4818180203437805,
          0.4839969873428345,
          0.48478609323501587,
          0.5162656903266907,
          0.5022897720336914,
          0.5089766979217529,
          0.5103982388973236,
          0.507434219121933,
          0.5026465952396393,
          0.5382457375526428,
          0.4863297939300537,
          0.3220287561416626,
          0.3156295418739319,
          0.3542020916938782,
          0.3208627700805664,
          0.5070563554763794,
          0.21823769807815552,
          0.1988014578819275,
          0.16448980569839478,
          0.2569221258163452,
          0.4925794005393982,
          0.43807822465896606,
          0.16191482543945312,
          0.16684257984161377,
          0.351972758769989,
          0.26761531829833984,
          0.2610061764717102,
          0.25244414806365967,
          0.24245238304138184,
          0.2276550531387329,
          0.27510344982147217,
          0.27636778354644775,
          0.2779335379600525,
          0.29068857431411743,
          0.34126996994018555,
          0.461309015750885,
          0.5024300813674927,
          0.5000526010990143,
          0.27415066957473755,
          0.2958441972732544,
          0.5025128424167633,
          0.2113180160522461,
          0.42936521768569946,
          0.4483755826950073,
          0.45273327827453613,
          0.40421801805496216,
          0.1774807572364807,
          0.19864779710769653,
          0.19975876808166504,
          0.24801194667816162,
          0.3516803979873657,
          0.22723287343978882,
          0.3556022644042969,
          0.3315819501876831,
          0.32419395446777344,
          0.17934465408325195,
          0.3932138681411743,
          0.23602408170700073,
          0.21453583240509033,
          0.2723308205604553,
          0.32182973623275757,
          0.27217596769332886,
          0.31060725450515747,
          0.30640608072280884,
          0.42479270696640015,
          0.3597709536552429,
          0.3560994267463684,
          0.37300795316696167,
          0.5224695205688477,
          0.5365551114082336,
          0.538662850856781,
          0.5339394509792328,
          0.5242555141448975,
          0.48917168378829956,
          0.44101142883300776,
          0.45871180295944214,
          0.4518831968307495,
          0.45158058404922485,
          0.45606446266174316,
          0.4623411297798157,
          0.46871447563171387,
          0.4452852010726928,
          0.3516021966934204,
          0.41726356744766235,
          0.35763460397720337,
          0.34862667322158813,
          0.35500168800354004,
          0.34641075134277344,
          0.34633004665374756,
          0.34286749362945557,
          0.48491770029067993,
          0.48011940717697144,
          0.4763082265853882,
          0.49901247024536133,
          0.5078701674938202,
          0.4267813563346863,
          0.4912456274032593,
          0.3465869426727295,
          0.5828335881233215,
          0.4684089422225952,
          0.46783870458602905,
          0.4700669050216675,
          0.4846718907356262,
          0.47228044271469116,
          0.5308842360973358,
          0.5272783041000366,
          0.5282608866691589,
          0.5208799242973328,
          0.47204405069351196,
          0.19618606567382812,
          0.4983370304107666,
          0.489910900592804,
          0.488943874835968,
          0.38255923986434937,
          0.2975497841835022,
          0.280509352684021,
          0.290757417678833,
          0.28406673669815063,
          0.27976757287979126,
          0.2778078317642212,
          0.2574717402458191,
          0.3549380302429199,
          0.3755449652671814,
          0.5396865010261536,
          0.4347737431526184,
          0.36512380838394165,
          0.3773191571235657,
          0.3882656693458557,
          0.40294021368026733,
          0.5570178627967834,
          0.5524924397468567,
          0.6187587976455688,
          0.5348397493362427,
          0.5167137980461121,
          0.2769808769226074,
          0.30312514305114746,
          0.35286766290664673,
          0.3467615246772766,
          0.27335989475250244,
          0.27332592010498047,
          0.566840410232544,
          0.3572329878807068,
          0.5528320074081421,
          0.5696137249469757,
          0.6650383174419403,
          0.5937662422657013,
          0.6203585267066956,
          0.5503131747245789,
          0.565393328666687,
          0.28801870346069336,
          0.2847195863723755,
          0.280825138092041,
          0.3495709300041199,
          0.2732909917831421,
          0.2674534320831299,
          0.2733592987060547,
          0.357602059841156,
          0.27594566345214844,
          0.27677762508392334,
          0.2761800289154053,
          0.21940147876739502,
          0.23384857177734375,
          0.2452012300491333,
          0.2564968466758728,
          0.26524078845977783,
          0.2699846625328064,
          0.2660914659500122,
          0.2606714963912964,
          0.25457531213760376,
          0.30793946981430054,
          0.40449410676956177,
          0.2715667486190796,
          0.26973438262939453,
          0.339110791683197,
          0.34616607427597046,
          0.34280359745025635,
          0.4234604239463806,
          0.41026490926742554,
          0.36900794506073,
          0.6470392346382141,
          0.6131241619586945,
          0.5740175247192383,
          0.24312055110931396,
          0.5622355341911316,
          0.6204903423786163,
          0.673017829656601,
          0.4754548668861389,
          0.4582967162132263,
          0.4763169288635254,
          0.513220340013504,
          0.44779640436172485,
          0.3711010217666626,
          0.4461096525192261,
          0.4418497681617737,
          0.43229180574417114,
          0.43402308225631714,
          0.44144904613494873,
          0.4498673677444458,
          0.4738066792488098,
          0.4015488624572754,
          0.5168298482894897,
          0.34526026248931885,
          0.41256850957870483,
          0.4967315793037415,
          0.45965856313705444,
          0.3692030906677246,
          0.4981974959373474,
          0.38595378398895264,
          0.3547666072845459,
          0.48353779315948486,
          0.3967363238334656,
          0.24783051013946533,
          0.23045039176940918,
          0.4023168087005615,
          0.2764256000518799,
          0.5308766067028046,
          0.18074166774749756,
          0.34185153245925903,
          0.39820772409439087,
          0.48676890134811407,
          0.48139888048171997,
          0.47860604524612427,
          0.2647365927696228,
          0.3607841730117798,
          0.1573396921157837,
          0.18520760536193848,
          0.20349746942520142,
          0.479167103767395,
          0.48132747411727905,
          0.4820355772972107,
          0.5229547321796417,
          0.5014913082122803,
          0.5092916488647461,
          0.5112391710281372,
          0.5089960098266602,
          0.5047362446784973,
          0.544317364692688,
          0.4861518144607544,
          0.31768566370010376,
          0.35563498735427856,
          0.321616530418396,
          0.22101229429244995,
          0.20096564292907715,
          0.16544830799102783,
          0.2613464593887329,
          0.4905432462692261,
          0.4391549825668335,
          0.1689407229423523,
          0.35731595754623413,
          0.26784032583236694,
          0.2612241506576538,
          0.2525866627693176,
          0.242517352104187,
          0.2297322154045105,
          0.27572405338287354,
          0.2770322561264038,
          0.27865731716156006,
          0.2939688563346863,
          0.3462843894958496,
          0.4622633457183838,
          0.4999288320541382,
          0.4976723790168762,
          0.2746952772140503,
          0.3006208539009094,
          0.5000640153884888,
          0.21325331926345825,
          0.44901198148727417,
          0.40560513734817505,
          0.20077860355377197,
          0.2509719729423523,
          0.35417449474334717,
          0.22975140810012817,
          0.3596654534339905,
          0.33482521772384644,
          0.3286210298538208,
          0.18029844760894775,
          0.3949923515319824,
          0.2391003966331482,
          0.21692430973052979,
          0.27577877044677734,
          0.3270225524902344,
          0.2761363983154297,
          0.3156687617301941,
          0.3100532293319702,
          0.4261922836303711,
          0.3611079454421997,
          0.3576366901397705,
          0.3740795850753784,
          0.5204247236251831,
          0.5358370542526245,
          0.5398745238780975,
          0.5369874536991119,
          0.5285401046276093,
          0.4937405586242676,
          0.44642788171768194,
          0.461877703666687,
          0.4541330933570862,
          0.45271438360214233,
          0.45631492137908936,
          0.46187251806259155,
          0.467698335647583,
          0.4512584209442139,
          0.3531495928764343,
          0.4183396100997925,
          0.3585905432701111,
          0.34927546977996826,
          0.3558729290962219,
          0.34782159328460693,
          0.3469277620315552,
          0.3434290289878845,
          0.4825080633163452,
          0.47831523418426514,
          0.47468888759613037,
          0.5013866722583771,
          0.5116431713104248
         ]
        }
       ],
       "layout": {
        "height": 579,
        "template": {
         "data": {
          "bar": [
           {
            "error_x": {
             "color": "#2a3f5f"
            },
            "error_y": {
             "color": "#2a3f5f"
            },
            "marker": {
             "line": {
              "color": "#E5ECF6",
              "width": 0.5
             },
             "pattern": {
              "fillmode": "overlay",
              "size": 10,
              "solidity": 0.2
             }
            },
            "type": "bar"
           }
          ],
          "barpolar": [
           {
            "marker": {
             "line": {
              "color": "#E5ECF6",
              "width": 0.5
             },
             "pattern": {
              "fillmode": "overlay",
              "size": 10,
              "solidity": 0.2
             }
            },
            "type": "barpolar"
           }
          ],
          "carpet": [
           {
            "aaxis": {
             "endlinecolor": "#2a3f5f",
             "gridcolor": "white",
             "linecolor": "white",
             "minorgridcolor": "white",
             "startlinecolor": "#2a3f5f"
            },
            "baxis": {
             "endlinecolor": "#2a3f5f",
             "gridcolor": "white",
             "linecolor": "white",
             "minorgridcolor": "white",
             "startlinecolor": "#2a3f5f"
            },
            "type": "carpet"
           }
          ],
          "choropleth": [
           {
            "colorbar": {
             "outlinewidth": 0,
             "ticks": ""
            },
            "type": "choropleth"
           }
          ],
          "contour": [
           {
            "colorbar": {
             "outlinewidth": 0,
             "ticks": ""
            },
            "colorscale": [
             [
              0,
              "#0d0887"
             ],
             [
              0.1111111111111111,
              "#46039f"
             ],
             [
              0.2222222222222222,
              "#7201a8"
             ],
             [
              0.3333333333333333,
              "#9c179e"
             ],
             [
              0.4444444444444444,
              "#bd3786"
             ],
             [
              0.5555555555555556,
              "#d8576b"
             ],
             [
              0.6666666666666666,
              "#ed7953"
             ],
             [
              0.7777777777777778,
              "#fb9f3a"
             ],
             [
              0.8888888888888888,
              "#fdca26"
             ],
             [
              1,
              "#f0f921"
             ]
            ],
            "type": "contour"
           }
          ],
          "contourcarpet": [
           {
            "colorbar": {
             "outlinewidth": 0,
             "ticks": ""
            },
            "type": "contourcarpet"
           }
          ],
          "heatmap": [
           {
            "colorbar": {
             "outlinewidth": 0,
             "ticks": ""
            },
            "colorscale": [
             [
              0,
              "#0d0887"
             ],
             [
              0.1111111111111111,
              "#46039f"
             ],
             [
              0.2222222222222222,
              "#7201a8"
             ],
             [
              0.3333333333333333,
              "#9c179e"
             ],
             [
              0.4444444444444444,
              "#bd3786"
             ],
             [
              0.5555555555555556,
              "#d8576b"
             ],
             [
              0.6666666666666666,
              "#ed7953"
             ],
             [
              0.7777777777777778,
              "#fb9f3a"
             ],
             [
              0.8888888888888888,
              "#fdca26"
             ],
             [
              1,
              "#f0f921"
             ]
            ],
            "type": "heatmap"
           }
          ],
          "heatmapgl": [
           {
            "colorbar": {
             "outlinewidth": 0,
             "ticks": ""
            },
            "colorscale": [
             [
              0,
              "#0d0887"
             ],
             [
              0.1111111111111111,
              "#46039f"
             ],
             [
              0.2222222222222222,
              "#7201a8"
             ],
             [
              0.3333333333333333,
              "#9c179e"
             ],
             [
              0.4444444444444444,
              "#bd3786"
             ],
             [
              0.5555555555555556,
              "#d8576b"
             ],
             [
              0.6666666666666666,
              "#ed7953"
             ],
             [
              0.7777777777777778,
              "#fb9f3a"
             ],
             [
              0.8888888888888888,
              "#fdca26"
             ],
             [
              1,
              "#f0f921"
             ]
            ],
            "type": "heatmapgl"
           }
          ],
          "histogram": [
           {
            "marker": {
             "pattern": {
              "fillmode": "overlay",
              "size": 10,
              "solidity": 0.2
             }
            },
            "type": "histogram"
           }
          ],
          "histogram2d": [
           {
            "colorbar": {
             "outlinewidth": 0,
             "ticks": ""
            },
            "colorscale": [
             [
              0,
              "#0d0887"
             ],
             [
              0.1111111111111111,
              "#46039f"
             ],
             [
              0.2222222222222222,
              "#7201a8"
             ],
             [
              0.3333333333333333,
              "#9c179e"
             ],
             [
              0.4444444444444444,
              "#bd3786"
             ],
             [
              0.5555555555555556,
              "#d8576b"
             ],
             [
              0.6666666666666666,
              "#ed7953"
             ],
             [
              0.7777777777777778,
              "#fb9f3a"
             ],
             [
              0.8888888888888888,
              "#fdca26"
             ],
             [
              1,
              "#f0f921"
             ]
            ],
            "type": "histogram2d"
           }
          ],
          "histogram2dcontour": [
           {
            "colorbar": {
             "outlinewidth": 0,
             "ticks": ""
            },
            "colorscale": [
             [
              0,
              "#0d0887"
             ],
             [
              0.1111111111111111,
              "#46039f"
             ],
             [
              0.2222222222222222,
              "#7201a8"
             ],
             [
              0.3333333333333333,
              "#9c179e"
             ],
             [
              0.4444444444444444,
              "#bd3786"
             ],
             [
              0.5555555555555556,
              "#d8576b"
             ],
             [
              0.6666666666666666,
              "#ed7953"
             ],
             [
              0.7777777777777778,
              "#fb9f3a"
             ],
             [
              0.8888888888888888,
              "#fdca26"
             ],
             [
              1,
              "#f0f921"
             ]
            ],
            "type": "histogram2dcontour"
           }
          ],
          "mesh3d": [
           {
            "colorbar": {
             "outlinewidth": 0,
             "ticks": ""
            },
            "type": "mesh3d"
           }
          ],
          "parcoords": [
           {
            "line": {
             "colorbar": {
              "outlinewidth": 0,
              "ticks": ""
             }
            },
            "type": "parcoords"
           }
          ],
          "pie": [
           {
            "automargin": true,
            "type": "pie"
           }
          ],
          "scatter": [
           {
            "fillpattern": {
             "fillmode": "overlay",
             "size": 10,
             "solidity": 0.2
            },
            "type": "scatter"
           }
          ],
          "scatter3d": [
           {
            "line": {
             "colorbar": {
              "outlinewidth": 0,
              "ticks": ""
             }
            },
            "marker": {
             "colorbar": {
              "outlinewidth": 0,
              "ticks": ""
             }
            },
            "type": "scatter3d"
           }
          ],
          "scattercarpet": [
           {
            "marker": {
             "colorbar": {
              "outlinewidth": 0,
              "ticks": ""
             }
            },
            "type": "scattercarpet"
           }
          ],
          "scattergeo": [
           {
            "marker": {
             "colorbar": {
              "outlinewidth": 0,
              "ticks": ""
             }
            },
            "type": "scattergeo"
           }
          ],
          "scattergl": [
           {
            "marker": {
             "colorbar": {
              "outlinewidth": 0,
              "ticks": ""
             }
            },
            "type": "scattergl"
           }
          ],
          "scattermapbox": [
           {
            "marker": {
             "colorbar": {
              "outlinewidth": 0,
              "ticks": ""
             }
            },
            "type": "scattermapbox"
           }
          ],
          "scatterpolar": [
           {
            "marker": {
             "colorbar": {
              "outlinewidth": 0,
              "ticks": ""
             }
            },
            "type": "scatterpolar"
           }
          ],
          "scatterpolargl": [
           {
            "marker": {
             "colorbar": {
              "outlinewidth": 0,
              "ticks": ""
             }
            },
            "type": "scatterpolargl"
           }
          ],
          "scatterternary": [
           {
            "marker": {
             "colorbar": {
              "outlinewidth": 0,
              "ticks": ""
             }
            },
            "type": "scatterternary"
           }
          ],
          "surface": [
           {
            "colorbar": {
             "outlinewidth": 0,
             "ticks": ""
            },
            "colorscale": [
             [
              0,
              "#0d0887"
             ],
             [
              0.1111111111111111,
              "#46039f"
             ],
             [
              0.2222222222222222,
              "#7201a8"
             ],
             [
              0.3333333333333333,
              "#9c179e"
             ],
             [
              0.4444444444444444,
              "#bd3786"
             ],
             [
              0.5555555555555556,
              "#d8576b"
             ],
             [
              0.6666666666666666,
              "#ed7953"
             ],
             [
              0.7777777777777778,
              "#fb9f3a"
             ],
             [
              0.8888888888888888,
              "#fdca26"
             ],
             [
              1,
              "#f0f921"
             ]
            ],
            "type": "surface"
           }
          ],
          "table": [
           {
            "cells": {
             "fill": {
              "color": "#EBF0F8"
             },
             "line": {
              "color": "white"
             }
            },
            "header": {
             "fill": {
              "color": "#C8D4E3"
             },
             "line": {
              "color": "white"
             }
            },
            "type": "table"
           }
          ]
         },
         "layout": {
          "annotationdefaults": {
           "arrowcolor": "#2a3f5f",
           "arrowhead": 0,
           "arrowwidth": 1
          },
          "autotypenumbers": "strict",
          "coloraxis": {
           "colorbar": {
            "outlinewidth": 0,
            "ticks": ""
           }
          },
          "colorscale": {
           "diverging": [
            [
             0,
             "#8e0152"
            ],
            [
             0.1,
             "#c51b7d"
            ],
            [
             0.2,
             "#de77ae"
            ],
            [
             0.3,
             "#f1b6da"
            ],
            [
             0.4,
             "#fde0ef"
            ],
            [
             0.5,
             "#f7f7f7"
            ],
            [
             0.6,
             "#e6f5d0"
            ],
            [
             0.7,
             "#b8e186"
            ],
            [
             0.8,
             "#7fbc41"
            ],
            [
             0.9,
             "#4d9221"
            ],
            [
             1,
             "#276419"
            ]
           ],
           "sequential": [
            [
             0,
             "#0d0887"
            ],
            [
             0.1111111111111111,
             "#46039f"
            ],
            [
             0.2222222222222222,
             "#7201a8"
            ],
            [
             0.3333333333333333,
             "#9c179e"
            ],
            [
             0.4444444444444444,
             "#bd3786"
            ],
            [
             0.5555555555555556,
             "#d8576b"
            ],
            [
             0.6666666666666666,
             "#ed7953"
            ],
            [
             0.7777777777777778,
             "#fb9f3a"
            ],
            [
             0.8888888888888888,
             "#fdca26"
            ],
            [
             1,
             "#f0f921"
            ]
           ],
           "sequentialminus": [
            [
             0,
             "#0d0887"
            ],
            [
             0.1111111111111111,
             "#46039f"
            ],
            [
             0.2222222222222222,
             "#7201a8"
            ],
            [
             0.3333333333333333,
             "#9c179e"
            ],
            [
             0.4444444444444444,
             "#bd3786"
            ],
            [
             0.5555555555555556,
             "#d8576b"
            ],
            [
             0.6666666666666666,
             "#ed7953"
            ],
            [
             0.7777777777777778,
             "#fb9f3a"
            ],
            [
             0.8888888888888888,
             "#fdca26"
            ],
            [
             1,
             "#f0f921"
            ]
           ]
          },
          "colorway": [
           "#636efa",
           "#EF553B",
           "#00cc96",
           "#ab63fa",
           "#FFA15A",
           "#19d3f3",
           "#FF6692",
           "#B6E880",
           "#FF97FF",
           "#FECB52"
          ],
          "font": {
           "color": "#2a3f5f"
          },
          "geo": {
           "bgcolor": "white",
           "lakecolor": "white",
           "landcolor": "#E5ECF6",
           "showlakes": true,
           "showland": true,
           "subunitcolor": "white"
          },
          "hoverlabel": {
           "align": "left"
          },
          "hovermode": "closest",
          "mapbox": {
           "style": "light"
          },
          "paper_bgcolor": "white",
          "plot_bgcolor": "#E5ECF6",
          "polar": {
           "angularaxis": {
            "gridcolor": "white",
            "linecolor": "white",
            "ticks": ""
           },
           "bgcolor": "#E5ECF6",
           "radialaxis": {
            "gridcolor": "white",
            "linecolor": "white",
            "ticks": ""
           }
          },
          "scene": {
           "xaxis": {
            "backgroundcolor": "#E5ECF6",
            "gridcolor": "white",
            "gridwidth": 2,
            "linecolor": "white",
            "showbackground": true,
            "ticks": "",
            "zerolinecolor": "white"
           },
           "yaxis": {
            "backgroundcolor": "#E5ECF6",
            "gridcolor": "white",
            "gridwidth": 2,
            "linecolor": "white",
            "showbackground": true,
            "ticks": "",
            "zerolinecolor": "white"
           },
           "zaxis": {
            "backgroundcolor": "#E5ECF6",
            "gridcolor": "white",
            "gridwidth": 2,
            "linecolor": "white",
            "showbackground": true,
            "ticks": "",
            "zerolinecolor": "white"
           }
          },
          "shapedefaults": {
           "line": {
            "color": "#2a3f5f"
           }
          },
          "ternary": {
           "aaxis": {
            "gridcolor": "white",
            "linecolor": "white",
            "ticks": ""
           },
           "baxis": {
            "gridcolor": "white",
            "linecolor": "white",
            "ticks": ""
           },
           "bgcolor": "#E5ECF6",
           "caxis": {
            "gridcolor": "white",
            "linecolor": "white",
            "ticks": ""
           }
          },
          "title": {
           "x": 0.05
          },
          "xaxis": {
           "automargin": true,
           "gridcolor": "white",
           "linecolor": "white",
           "ticks": "",
           "title": {
            "standoff": 15
           },
           "zerolinecolor": "white",
           "zerolinewidth": 2
          },
          "yaxis": {
           "automargin": true,
           "gridcolor": "white",
           "linecolor": "white",
           "ticks": "",
           "title": {
            "standoff": 15
           },
           "zerolinecolor": "white",
           "zerolinewidth": 2
          }
         }
        },
        "title": {
         "text": "2D Line Plot"
        },
        "width": 450,
        "xaxis": {
         "range": [
          0,
          1
         ],
         "title": {
          "text": "X-axis"
         }
        },
        "yaxis": {
         "range": [
          0,
          1
         ],
         "title": {
          "text": "Y-axis"
         }
        }
       }
      },
      "text/html": [
       "<div>                            <div id=\"b8b0af6e-5deb-432b-b2db-9af9c9fd241e\" class=\"plotly-graph-div\" style=\"height:579.0px; width:450.0px;\"></div>            <script type=\"text/javascript\">                require([\"plotly\"], function(Plotly) {                    window.PLOTLYENV=window.PLOTLYENV || {};                                    if (document.getElementById(\"b8b0af6e-5deb-432b-b2db-9af9c9fd241e\")) {                    Plotly.newPlot(                        \"b8b0af6e-5deb-432b-b2db-9af9c9fd241e\",                        [{\"marker\":{\"size\":2},\"mode\":\"markers\",\"x\":[0.503934383392334,0.508196234703064,0.5070833563804626,0.5302223563194275,0.5090292394161224,0.5095769762992859,0.5103987157344818,0.6820095479488373,0.5121404826641083,0.5130716860294342,0.5165337920188904,0.5035291910171509,0.5031911134719849,0.5027762651443481,0.5016995668411255,0.5010403394699097,0.5004895031452179,0.4998462796211242,0.5003001391887665,0.507633626461029,0.5298298001289368,0.7822044193744659,0.6109825968742371,0.6365514397621155,0.6609488129615784,0.6916542053222656,0.5893015265464783,0.6541052460670471,0.6236552596092224,0.6807565689086914,0.6964670419692993,0.7125863432884216,0.5833630263805389,0.6905385851860046,0.7850143611431122,0.7410105168819427,0.6277675032615662,0.5315394997596741,0.5274164080619812,0.5569166839122772,0.5733781456947327,0.5476196110248566,0.5631474256515503,0.607713907957077,0.5282030999660492,0.532193124294281,0.7365256547927856,0.5804463624954224,0.5811039805412292,0.5827899873256683,0.7012383937835693,0.531577080488205,0.6821954846382141,0.715701162815094,0.7618495225906372,0.5673814117908478,0.5969431400299072,0.6262218356132507,0.7319331765174866,0.5625194013118744,0.5438932776451111,0.5931320190429688,0.5872096717357635,0.730161190032959,0.5813433527946472,0.6337127089500427,0.640279233455658,0.6640802919864655,0.7432790696620941,0.6465358734130859,0.7506643235683441,0.7660747468471527,0.5300115942955017,0.5523677468299866,0.5685351192951202,0.5568740665912628,0.5900751352310181,0.5800000429153442,0.5842031836509705,0.5529000461101532,0.558842122554779,0.5435758233070374,0.5247921347618103,0.531488686800003,0.5297877788543701,0.5288263559341431,0.5268387198448181,0.5242514610290527,0.5584113597869873,0.5632978677749634,0.5687301456928253,0.5730722546577454,0.6024664044380188,0.7725000381469727,0.5073494613170624,0.5698556900024414,0.5748732686042786,0.5365366339683533,0.5724412500858307,0.5400382280349731,0.605995774269104,0.6462677419185638,0.586238443851471,0.7244815826416016,0.7054091393947601,0.6924388408660889,0.587577223777771,0.5787951350212097,0.5850566029548645,0.5969865918159485,0.6806656718254089,0.7384715378284454,0.575279712677002,0.7199750542640686,0.5640532672405243,0.5683380365371704,0.7636638283729553,0.722180038690567,0.690591037273407,0.6420820951461792,0.6063989996910095,0.5804271101951599,0.5335385501384735,0.7546384930610657,0.7400959432125092,0.5197820067405701,0.5767437517642975,0.7907129228115082,0.5615807473659515,0.5880038738250732,0.7019126117229462,0.5692904889583588,0.7554007768630981,0.5750206708908081,0.5513722002506256,0.6787735521793365,0.6726773381233215,0.7722068428993225,0.7099118232727051,0.7770372927188873,0.5846258997917175,0.5169548392295837,0.5983418524265289,0.7598155438899994,0.6590823531150818,0.6379256248474121,0.5846351385116577,0.7430395781993866,0.5418570339679718,0.6076790392398834,0.6367311477661133,0.5149206519126892,0.49535334110260004,0.6162214875221252,0.595539003610611,0.5817891955375671,0.7562305927276611,0.599485456943512,0.6224879026412964,0.6452067196369171,0.6665525436401367,0.6788516044616699,0.7907156050205231,0.6728297472000122,0.5063143670558929,0.5800719857215881,0.5628269910812378,0.5380943417549133,0.5111771523952484,0.646590530872345,0.6161448657512665,0.5449665188789368,0.7032511234283447,0.5828827321529388,0.548006534576416,0.49620026350021357,0.5772306025028229,0.7567684650421143,0.5430431067943573,0.5477158725261688,0.5517755150794983,0.5545082688331604,0.5626527965068817,0.5753983855247498,0.5805793106555939,0.5849142670631409,0.6188697814941406,0.7125321626663208,0.5485335886478424,0.5600369274616241,0.5737006664276123,0.5706675052642822,0.706305205821991,0.5411692559719086,0.5740828514099121,0.5097885131835938,0.5320197939872742,0.5100181698799133,0.5630664825439453,0.4974564313888549,0.49884206056594843,0.5379363298416138,0.6279411315917969,0.6079623401165009,0.6029455959796906,0.6642438173294067,0.6292147040367126,0.6799651980400085,0.5440894365310669,0.5757221281528473,0.6442776322364807,0.6134524047374725,0.6486090421676636,0.7306835949420929,0.6752557754516602,0.7381463050842285,0.6450813412666321,0.5619778633117676,0.560495525598526,0.573371559381485,0.5518406629562378,0.5827029645442963,0.6274787783622742,0.6658349931240082,0.6956124305725098,0.7138088345527649,0.7189136743545532,0.7826908230781555,0.6989418864250183,0.673616886138916,0.6397622227668762,0.6077622771263123,0.5831853151321411,0.5665973126888275,0.7834342420101166,0.5724786520004272,0.5480217933654785,0.544825941324234,0.5319299101829529,0.5443147420883179,0.5656337738037109,0.5273256003856659,0.5244712829589844,0.5666511058807373,0.5544726550579071,0.5482403337955475,0.6855310201644897,0.7051466107368469,0.48861539363861084,0.33074164390563965,0.4846811294555664,0.24142777919769287,0.39908427000045776,0.37384384870529175,0.3500489592552185,0.32044076919555664,0.4212227463722229,0.36617839336395264,0.3959660530090332,0.33860331773757935,0.32104480266571045,0.2982426881790161,0.4113811254501342,0.3227272033691406,0.22832787036895752,0.2708340287208557,0.3833974599838257,0.47640156745910645,0.4787670969963074,0.4498608708381653,0.43262118101119995,0.45809245109558105,0.4420592784881592,0.3955502510070801,0.48809194564819336,0.48539769649505615,0.2864910960197449,0.43460625410079956,0.43281465768814087,0.43124449253082275,0.308030366897583,0.48713284730911255,0.34709715843200684,0.31134384870529175,0.2649160623550415,0.4586383104324341,0.4207202196121216,0.37862861156463623,0.26305341720581055,0.4511023759841919,0.46963441371917725,0.41065818071365356,0.4164940118789673,0.2985946536064148,0.4318206310272217,0.39500606060028076,0.3920145034790039,0.36695176362991333,0.282046377658844,0.38205599784851074,0.2724508047103882,0.25609683990478516,0.4769643545150757,0.45385807752609253,0.4370213747024536,0.45658838748931885,0.41367578506469727,0.4228441119194031,0.4195351004600525,0.4618229866027832,0.446088969707489,0.461678147315979,0.48054319620132446,0.4685451984405517,0.4700565934181213,0.4724369645118713,0.47557580471038813,0.47926801443099976,0.4453747868537903,0.43954551219940186,0.4333565831184387,0.42821407318115234,0.40585798025131226,0.23157215118408203,0.43400776386260986,0.42840272188186646,0.47657543420791626,0.4396973252296448,0.4733165502548218,0.4080415368080139,0.36594605445861816,0.4268094301223755,0.3043636679649353,0.3219625949859619,0.33944225311279297,0.4141208529472351,0.45266664028167725,0.44412994384765625,0.4354618787765503,0.3307304382324219,0.270077109336853,0.4361482858657837,0.29658371210098267,0.4521327614784241,0.44672805070877075,0.24725699424743652,0.2862582206726074,0.3181436061859131,0.3667401075363159,0.402731716632843,0.4299112558364868,0.4860936403274536,0.25291967391967773,0.2770266532897949,0.4953617453575134,0.4378424286842346,0.22285115718841553,0.4505745768547058,0.42467600107192993,0.3111514449119568,0.4461327791213989,0.24379301071166992,0.43763238191604614,0.46581965684890747,0.3154924511909485,0.31790053844451904,0.23336398601531982,0.2856532335281372,0.24122869968414307,0.40766084194183344,0.4977123737335205,0.414936363697052,0.24903202056884766,0.35304176807403564,0.37401020526885986,0.4177647829055786,0.26070016622543335,0.4486857652664184,0.382189929485321,0.3530123233795166,0.39540672302246094,0.4162740111351013,0.43039578199386597,0.2599382996559143,0.4154411554336548,0.39353251457214355,0.3707945942878723,0.34892821311950684,0.3359229564666748,0.22874116897583008,0.33957433700561523,0.42938339710235596,0.4511394500732422,0.4732819199562073,0.34686678647994995,0.3765208721160888,0.44717061519622797,0.28882360458374023,0.43088382482528687,0.4694834351539612,0.412938117980957,0.24486106634140015,0.4606173634529114,0.4549248218536377,0.44974422454833984,0.4456049799919128,0.4380061030387878,0.42886096239089966,0.42400282621383667,0.419833242893219,0.3880031108856201,0.29195165634155273,0.4695242643356323,0.45585155487060547,0.4407657980918884,0.43352818489074707,0.29334497451782227,0.47857582569122314,0.4232798218727111,0.4870845675468445,0.4526418447494507,0.45919048786163325,0.3726993203163147,0.40315020084381104,0.39565640687942505,0.34395289421081543,0.37928688526153564,0.32498252391815186,0.4503623247146606,0.4386904835700989,0.35273289680480957,0.38208073377609253,0.3540491461753845,0.26996755599975586,0.32429027557373047,0.2599449157714844,0.36102092266082764,0.454153835773468,0.45441651344299316,0.4405063986778259,0.46470046043395996,0.43719029426574707,0.3960806727409363,0.35852110385894775,0.32762789726257324,0.30663514137268066,0.29393893480300903,0.22678816318511963,0.31124377250671387,0.3362818956375122,0.36975568532943726,0.40173548460006714,0.42688703536987305,0.4444606900215149,0.22515869140625,0.4410198926925659,0.4695444703102112,0.471011221408844,0.48296135663986206,0.47083044052124023,0.44721776247024536,0.48770463466644287,0.49020636081695557,0.44582509994506836,0.45848536491394043,0.4666095972061157,0.3286439776420593,0.310627818107605],\"y\":[0.29275834560394287,0.35391491651535034,0.3372430205345154,0.426222026348114,0.3752020597457886,0.4045814871788025,0.4782133102416992,0.4901663064956665,0.533785343170166,0.5627602636814117,0.673588901758194,0.28602468967437744,0.2792689800262451,0.27483975887298584,0.26346105337142944,0.2539874315261841,0.24261343479156494,0.23132294416427612,0.21804511547088623,0.3442726731300354,0.34588485956192017,0.5770199298858643,0.469868540763855,0.4685634970664978,0.4697189927101135,0.4820671081542969,0.4740104675292969,0.5297057330608368,0.5273756980895996,0.5256947875022888,0.5174593329429626,0.46818530559539795,0.1942763328552246,0.4958348274230957,0.48458445072174067,0.48331099748611445,0.3795633316040039,0.29711633920669556,0.2802586555480957,0.29009199142456055,0.28331613540649414,0.27937090396881104,0.2772994637489319,0.2542877197265625,0.35440897941589355,0.3749556541442871,0.5341155827045441,0.43294674158096313,0.3634108901023865,0.37550294399261475,0.3836853504180908,0.40230464935302734,0.5557858943939209,0.5487168431282043,0.6132546663284302,0.5366707742214203,0.5180420279502869,0.27341949939727783,0.29808545112609863,0.3515053987503052,0.34586071968078613,0.2729242444038391,0.2729194164276123,0.5625856220722198,0.3555276393890381,0.5536016821861267,0.5709141194820404,0.66178098320961,0.5889275074005127,0.6175108551979065,0.5442174077033997,0.5604277849197388,0.287678062915802,0.28422611951828003,0.2801448702812195,0.34835517406463623,0.2728908658027649,0.2671775221824646,0.27292340993881226,0.3564062714576721,0.2754706144332886,0.27639687061309814,0.2760016918182373,0.218500554561615,0.23384243249893188,0.2450847029685974,0.2563680410385132,0.26518750190734863,0.2697322964668274,0.2658451199531555,0.26047641038894653,0.25438064336776733,0.3052365779876709,0.3987492322921753,0.3408812880516052,0.2712593674659729,0.2694427967071533,0.3383658528327942,0.3446784019470215,0.3420259952545166,0.42108154296875,0.4069606065750122,0.36726903915405273,0.6424062252044678,0.6091105341911316,0.5728225708007812,0.2405540943145752,0.5651268362998962,0.6189388632774353,0.6711636483669281,0.4741091728210449,0.4533371925354004,0.478484570980072,0.5085283517837524,0.446349561214447,0.369676411151886,0.4409112930297851,0.4374552369117737,0.42855125665664673,0.4314141273498535,0.4398101568222046,0.4492824077606201,0.47324132919311523,0.3963136672973633,0.5112449526786804,0.3448699712753296,0.41073793172836304,0.49063241481781,0.46012067794799805,0.36737412214279175,0.49467259645462036,0.38442134857177734,0.3492790460586548,0.48604583740234375,0.3956106901168823,0.24425381422042847,0.2267599105834961,0.39688676595687866,0.272058367729187,0.5256272554397583,0.17899209260940552,0.34154826402664185,0.3959733843803406,0.48033434152603144,0.48283088207244873,0.4809437394142151,0.26438045501708984,0.35544121265411377,0.1562328338623047,0.18252044916152954,0.20048385858535767,0.6186109781265259,0.1530408263206482,0.4818180203437805,0.4839969873428345,0.48478609323501587,0.5162656903266907,0.5022897720336914,0.5089766979217529,0.5103982388973236,0.507434219121933,0.5026465952396393,0.5382457375526428,0.4863297939300537,0.3220287561416626,0.3156295418739319,0.3542020916938782,0.3208627700805664,0.5070563554763794,0.21823769807815552,0.1988014578819275,0.16448980569839478,0.2569221258163452,0.4925794005393982,0.43807822465896606,0.16191482543945312,0.16684257984161377,0.351972758769989,0.26761531829833984,0.2610061764717102,0.25244414806365967,0.24245238304138184,0.2276550531387329,0.27510344982147217,0.27636778354644775,0.2779335379600525,0.29068857431411743,0.34126996994018555,0.461309015750885,0.5024300813674927,0.5000526010990143,0.27415066957473755,0.2958441972732544,0.5025128424167633,0.2113180160522461,0.42936521768569946,0.4483755826950073,0.45273327827453613,0.40421801805496216,0.1774807572364807,0.19864779710769653,0.19975876808166504,0.24801194667816162,0.3516803979873657,0.22723287343978882,0.3556022644042969,0.3315819501876831,0.32419395446777344,0.17934465408325195,0.3932138681411743,0.23602408170700073,0.21453583240509033,0.2723308205604553,0.32182973623275757,0.27217596769332886,0.31060725450515747,0.30640608072280884,0.42479270696640015,0.3597709536552429,0.3560994267463684,0.37300795316696167,0.5224695205688477,0.5365551114082336,0.538662850856781,0.5339394509792328,0.5242555141448975,0.48917168378829956,0.44101142883300776,0.45871180295944214,0.4518831968307495,0.45158058404922485,0.45606446266174316,0.4623411297798157,0.46871447563171387,0.4452852010726928,0.3516021966934204,0.41726356744766235,0.35763460397720337,0.34862667322158813,0.35500168800354004,0.34641075134277344,0.34633004665374756,0.34286749362945557,0.48491770029067993,0.48011940717697144,0.4763082265853882,0.49901247024536133,0.5078701674938202,0.4267813563346863,0.4912456274032593,0.3465869426727295,0.5828335881233215,0.4684089422225952,0.46783870458602905,0.4700669050216675,0.4846718907356262,0.47228044271469116,0.5308842360973358,0.5272783041000366,0.5282608866691589,0.5208799242973328,0.47204405069351196,0.19618606567382812,0.4983370304107666,0.489910900592804,0.488943874835968,0.38255923986434937,0.2975497841835022,0.280509352684021,0.290757417678833,0.28406673669815063,0.27976757287979126,0.2778078317642212,0.2574717402458191,0.3549380302429199,0.3755449652671814,0.5396865010261536,0.4347737431526184,0.36512380838394165,0.3773191571235657,0.3882656693458557,0.40294021368026733,0.5570178627967834,0.5524924397468567,0.6187587976455688,0.5348397493362427,0.5167137980461121,0.2769808769226074,0.30312514305114746,0.35286766290664673,0.3467615246772766,0.27335989475250244,0.27332592010498047,0.566840410232544,0.3572329878807068,0.5528320074081421,0.5696137249469757,0.6650383174419403,0.5937662422657013,0.6203585267066956,0.5503131747245789,0.565393328666687,0.28801870346069336,0.2847195863723755,0.280825138092041,0.3495709300041199,0.2732909917831421,0.2674534320831299,0.2733592987060547,0.357602059841156,0.27594566345214844,0.27677762508392334,0.2761800289154053,0.21940147876739502,0.23384857177734375,0.2452012300491333,0.2564968466758728,0.26524078845977783,0.2699846625328064,0.2660914659500122,0.2606714963912964,0.25457531213760376,0.30793946981430054,0.40449410676956177,0.2715667486190796,0.26973438262939453,0.339110791683197,0.34616607427597046,0.34280359745025635,0.4234604239463806,0.41026490926742554,0.36900794506073,0.6470392346382141,0.6131241619586945,0.5740175247192383,0.24312055110931396,0.5622355341911316,0.6204903423786163,0.673017829656601,0.4754548668861389,0.4582967162132263,0.4763169288635254,0.513220340013504,0.44779640436172485,0.3711010217666626,0.4461096525192261,0.4418497681617737,0.43229180574417114,0.43402308225631714,0.44144904613494873,0.4498673677444458,0.4738066792488098,0.4015488624572754,0.5168298482894897,0.34526026248931885,0.41256850957870483,0.4967315793037415,0.45965856313705444,0.3692030906677246,0.4981974959373474,0.38595378398895264,0.3547666072845459,0.48353779315948486,0.3967363238334656,0.24783051013946533,0.23045039176940918,0.4023168087005615,0.2764256000518799,0.5308766067028046,0.18074166774749756,0.34185153245925903,0.39820772409439087,0.48676890134811407,0.48139888048171997,0.47860604524612427,0.2647365927696228,0.3607841730117798,0.1573396921157837,0.18520760536193848,0.20349746942520142,0.479167103767395,0.48132747411727905,0.4820355772972107,0.5229547321796417,0.5014913082122803,0.5092916488647461,0.5112391710281372,0.5089960098266602,0.5047362446784973,0.544317364692688,0.4861518144607544,0.31768566370010376,0.35563498735427856,0.321616530418396,0.22101229429244995,0.20096564292907715,0.16544830799102783,0.2613464593887329,0.4905432462692261,0.4391549825668335,0.1689407229423523,0.35731595754623413,0.26784032583236694,0.2612241506576538,0.2525866627693176,0.242517352104187,0.2297322154045105,0.27572405338287354,0.2770322561264038,0.27865731716156006,0.2939688563346863,0.3462843894958496,0.4622633457183838,0.4999288320541382,0.4976723790168762,0.2746952772140503,0.3006208539009094,0.5000640153884888,0.21325331926345825,0.44901198148727417,0.40560513734817505,0.20077860355377197,0.2509719729423523,0.35417449474334717,0.22975140810012817,0.3596654534339905,0.33482521772384644,0.3286210298538208,0.18029844760894775,0.3949923515319824,0.2391003966331482,0.21692430973052979,0.27577877044677734,0.3270225524902344,0.2761363983154297,0.3156687617301941,0.3100532293319702,0.4261922836303711,0.3611079454421997,0.3576366901397705,0.3740795850753784,0.5204247236251831,0.5358370542526245,0.5398745238780975,0.5369874536991119,0.5285401046276093,0.4937405586242676,0.44642788171768194,0.461877703666687,0.4541330933570862,0.45271438360214233,0.45631492137908936,0.46187251806259155,0.467698335647583,0.4512584209442139,0.3531495928764343,0.4183396100997925,0.3585905432701111,0.34927546977996826,0.3558729290962219,0.34782159328460693,0.3469277620315552,0.3434290289878845,0.4825080633163452,0.47831523418426514,0.47468888759613037,0.5013866722583771,0.5116431713104248],\"type\":\"scatter\"}],                        {\"template\":{\"data\":{\"histogram2dcontour\":[{\"type\":\"histogram2dcontour\",\"colorbar\":{\"outlinewidth\":0,\"ticks\":\"\"},\"colorscale\":[[0.0,\"#0d0887\"],[0.1111111111111111,\"#46039f\"],[0.2222222222222222,\"#7201a8\"],[0.3333333333333333,\"#9c179e\"],[0.4444444444444444,\"#bd3786\"],[0.5555555555555556,\"#d8576b\"],[0.6666666666666666,\"#ed7953\"],[0.7777777777777778,\"#fb9f3a\"],[0.8888888888888888,\"#fdca26\"],[1.0,\"#f0f921\"]]}],\"choropleth\":[{\"type\":\"choropleth\",\"colorbar\":{\"outlinewidth\":0,\"ticks\":\"\"}}],\"histogram2d\":[{\"type\":\"histogram2d\",\"colorbar\":{\"outlinewidth\":0,\"ticks\":\"\"},\"colorscale\":[[0.0,\"#0d0887\"],[0.1111111111111111,\"#46039f\"],[0.2222222222222222,\"#7201a8\"],[0.3333333333333333,\"#9c179e\"],[0.4444444444444444,\"#bd3786\"],[0.5555555555555556,\"#d8576b\"],[0.6666666666666666,\"#ed7953\"],[0.7777777777777778,\"#fb9f3a\"],[0.8888888888888888,\"#fdca26\"],[1.0,\"#f0f921\"]]}],\"heatmap\":[{\"type\":\"heatmap\",\"colorbar\":{\"outlinewidth\":0,\"ticks\":\"\"},\"colorscale\":[[0.0,\"#0d0887\"],[0.1111111111111111,\"#46039f\"],[0.2222222222222222,\"#7201a8\"],[0.3333333333333333,\"#9c179e\"],[0.4444444444444444,\"#bd3786\"],[0.5555555555555556,\"#d8576b\"],[0.6666666666666666,\"#ed7953\"],[0.7777777777777778,\"#fb9f3a\"],[0.8888888888888888,\"#fdca26\"],[1.0,\"#f0f921\"]]}],\"heatmapgl\":[{\"type\":\"heatmapgl\",\"colorbar\":{\"outlinewidth\":0,\"ticks\":\"\"},\"colorscale\":[[0.0,\"#0d0887\"],[0.1111111111111111,\"#46039f\"],[0.2222222222222222,\"#7201a8\"],[0.3333333333333333,\"#9c179e\"],[0.4444444444444444,\"#bd3786\"],[0.5555555555555556,\"#d8576b\"],[0.6666666666666666,\"#ed7953\"],[0.7777777777777778,\"#fb9f3a\"],[0.8888888888888888,\"#fdca26\"],[1.0,\"#f0f921\"]]}],\"contourcarpet\":[{\"type\":\"contourcarpet\",\"colorbar\":{\"outlinewidth\":0,\"ticks\":\"\"}}],\"contour\":[{\"type\":\"contour\",\"colorbar\":{\"outlinewidth\":0,\"ticks\":\"\"},\"colorscale\":[[0.0,\"#0d0887\"],[0.1111111111111111,\"#46039f\"],[0.2222222222222222,\"#7201a8\"],[0.3333333333333333,\"#9c179e\"],[0.4444444444444444,\"#bd3786\"],[0.5555555555555556,\"#d8576b\"],[0.6666666666666666,\"#ed7953\"],[0.7777777777777778,\"#fb9f3a\"],[0.8888888888888888,\"#fdca26\"],[1.0,\"#f0f921\"]]}],\"surface\":[{\"type\":\"surface\",\"colorbar\":{\"outlinewidth\":0,\"ticks\":\"\"},\"colorscale\":[[0.0,\"#0d0887\"],[0.1111111111111111,\"#46039f\"],[0.2222222222222222,\"#7201a8\"],[0.3333333333333333,\"#9c179e\"],[0.4444444444444444,\"#bd3786\"],[0.5555555555555556,\"#d8576b\"],[0.6666666666666666,\"#ed7953\"],[0.7777777777777778,\"#fb9f3a\"],[0.8888888888888888,\"#fdca26\"],[1.0,\"#f0f921\"]]}],\"mesh3d\":[{\"type\":\"mesh3d\",\"colorbar\":{\"outlinewidth\":0,\"ticks\":\"\"}}],\"scatter\":[{\"fillpattern\":{\"fillmode\":\"overlay\",\"size\":10,\"solidity\":0.2},\"type\":\"scatter\"}],\"parcoords\":[{\"type\":\"parcoords\",\"line\":{\"colorbar\":{\"outlinewidth\":0,\"ticks\":\"\"}}}],\"scatterpolargl\":[{\"type\":\"scatterpolargl\",\"marker\":{\"colorbar\":{\"outlinewidth\":0,\"ticks\":\"\"}}}],\"bar\":[{\"error_x\":{\"color\":\"#2a3f5f\"},\"error_y\":{\"color\":\"#2a3f5f\"},\"marker\":{\"line\":{\"color\":\"#E5ECF6\",\"width\":0.5},\"pattern\":{\"fillmode\":\"overlay\",\"size\":10,\"solidity\":0.2}},\"type\":\"bar\"}],\"scattergeo\":[{\"type\":\"scattergeo\",\"marker\":{\"colorbar\":{\"outlinewidth\":0,\"ticks\":\"\"}}}],\"scatterpolar\":[{\"type\":\"scatterpolar\",\"marker\":{\"colorbar\":{\"outlinewidth\":0,\"ticks\":\"\"}}}],\"histogram\":[{\"marker\":{\"pattern\":{\"fillmode\":\"overlay\",\"size\":10,\"solidity\":0.2}},\"type\":\"histogram\"}],\"scattergl\":[{\"type\":\"scattergl\",\"marker\":{\"colorbar\":{\"outlinewidth\":0,\"ticks\":\"\"}}}],\"scatter3d\":[{\"type\":\"scatter3d\",\"line\":{\"colorbar\":{\"outlinewidth\":0,\"ticks\":\"\"}},\"marker\":{\"colorbar\":{\"outlinewidth\":0,\"ticks\":\"\"}}}],\"scattermapbox\":[{\"type\":\"scattermapbox\",\"marker\":{\"colorbar\":{\"outlinewidth\":0,\"ticks\":\"\"}}}],\"scatterternary\":[{\"type\":\"scatterternary\",\"marker\":{\"colorbar\":{\"outlinewidth\":0,\"ticks\":\"\"}}}],\"scattercarpet\":[{\"type\":\"scattercarpet\",\"marker\":{\"colorbar\":{\"outlinewidth\":0,\"ticks\":\"\"}}}],\"carpet\":[{\"aaxis\":{\"endlinecolor\":\"#2a3f5f\",\"gridcolor\":\"white\",\"linecolor\":\"white\",\"minorgridcolor\":\"white\",\"startlinecolor\":\"#2a3f5f\"},\"baxis\":{\"endlinecolor\":\"#2a3f5f\",\"gridcolor\":\"white\",\"linecolor\":\"white\",\"minorgridcolor\":\"white\",\"startlinecolor\":\"#2a3f5f\"},\"type\":\"carpet\"}],\"table\":[{\"cells\":{\"fill\":{\"color\":\"#EBF0F8\"},\"line\":{\"color\":\"white\"}},\"header\":{\"fill\":{\"color\":\"#C8D4E3\"},\"line\":{\"color\":\"white\"}},\"type\":\"table\"}],\"barpolar\":[{\"marker\":{\"line\":{\"color\":\"#E5ECF6\",\"width\":0.5},\"pattern\":{\"fillmode\":\"overlay\",\"size\":10,\"solidity\":0.2}},\"type\":\"barpolar\"}],\"pie\":[{\"automargin\":true,\"type\":\"pie\"}]},\"layout\":{\"autotypenumbers\":\"strict\",\"colorway\":[\"#636efa\",\"#EF553B\",\"#00cc96\",\"#ab63fa\",\"#FFA15A\",\"#19d3f3\",\"#FF6692\",\"#B6E880\",\"#FF97FF\",\"#FECB52\"],\"font\":{\"color\":\"#2a3f5f\"},\"hovermode\":\"closest\",\"hoverlabel\":{\"align\":\"left\"},\"paper_bgcolor\":\"white\",\"plot_bgcolor\":\"#E5ECF6\",\"polar\":{\"bgcolor\":\"#E5ECF6\",\"angularaxis\":{\"gridcolor\":\"white\",\"linecolor\":\"white\",\"ticks\":\"\"},\"radialaxis\":{\"gridcolor\":\"white\",\"linecolor\":\"white\",\"ticks\":\"\"}},\"ternary\":{\"bgcolor\":\"#E5ECF6\",\"aaxis\":{\"gridcolor\":\"white\",\"linecolor\":\"white\",\"ticks\":\"\"},\"baxis\":{\"gridcolor\":\"white\",\"linecolor\":\"white\",\"ticks\":\"\"},\"caxis\":{\"gridcolor\":\"white\",\"linecolor\":\"white\",\"ticks\":\"\"}},\"coloraxis\":{\"colorbar\":{\"outlinewidth\":0,\"ticks\":\"\"}},\"colorscale\":{\"sequential\":[[0.0,\"#0d0887\"],[0.1111111111111111,\"#46039f\"],[0.2222222222222222,\"#7201a8\"],[0.3333333333333333,\"#9c179e\"],[0.4444444444444444,\"#bd3786\"],[0.5555555555555556,\"#d8576b\"],[0.6666666666666666,\"#ed7953\"],[0.7777777777777778,\"#fb9f3a\"],[0.8888888888888888,\"#fdca26\"],[1.0,\"#f0f921\"]],\"sequentialminus\":[[0.0,\"#0d0887\"],[0.1111111111111111,\"#46039f\"],[0.2222222222222222,\"#7201a8\"],[0.3333333333333333,\"#9c179e\"],[0.4444444444444444,\"#bd3786\"],[0.5555555555555556,\"#d8576b\"],[0.6666666666666666,\"#ed7953\"],[0.7777777777777778,\"#fb9f3a\"],[0.8888888888888888,\"#fdca26\"],[1.0,\"#f0f921\"]],\"diverging\":[[0,\"#8e0152\"],[0.1,\"#c51b7d\"],[0.2,\"#de77ae\"],[0.3,\"#f1b6da\"],[0.4,\"#fde0ef\"],[0.5,\"#f7f7f7\"],[0.6,\"#e6f5d0\"],[0.7,\"#b8e186\"],[0.8,\"#7fbc41\"],[0.9,\"#4d9221\"],[1,\"#276419\"]]},\"xaxis\":{\"gridcolor\":\"white\",\"linecolor\":\"white\",\"ticks\":\"\",\"title\":{\"standoff\":15},\"zerolinecolor\":\"white\",\"automargin\":true,\"zerolinewidth\":2},\"yaxis\":{\"gridcolor\":\"white\",\"linecolor\":\"white\",\"ticks\":\"\",\"title\":{\"standoff\":15},\"zerolinecolor\":\"white\",\"automargin\":true,\"zerolinewidth\":2},\"scene\":{\"xaxis\":{\"backgroundcolor\":\"#E5ECF6\",\"gridcolor\":\"white\",\"linecolor\":\"white\",\"showbackground\":true,\"ticks\":\"\",\"zerolinecolor\":\"white\",\"gridwidth\":2},\"yaxis\":{\"backgroundcolor\":\"#E5ECF6\",\"gridcolor\":\"white\",\"linecolor\":\"white\",\"showbackground\":true,\"ticks\":\"\",\"zerolinecolor\":\"white\",\"gridwidth\":2},\"zaxis\":{\"backgroundcolor\":\"#E5ECF6\",\"gridcolor\":\"white\",\"linecolor\":\"white\",\"showbackground\":true,\"ticks\":\"\",\"zerolinecolor\":\"white\",\"gridwidth\":2}},\"shapedefaults\":{\"line\":{\"color\":\"#2a3f5f\"}},\"annotationdefaults\":{\"arrowcolor\":\"#2a3f5f\",\"arrowhead\":0,\"arrowwidth\":1},\"geo\":{\"bgcolor\":\"white\",\"landcolor\":\"#E5ECF6\",\"subunitcolor\":\"white\",\"showland\":true,\"showlakes\":true,\"lakecolor\":\"white\"},\"title\":{\"x\":0.05},\"mapbox\":{\"style\":\"light\"}}},\"xaxis\":{\"title\":{\"text\":\"X-axis\"},\"range\":[0,1]},\"yaxis\":{\"title\":{\"text\":\"Y-axis\"},\"range\":[0,1]},\"title\":{\"text\":\"2D Line Plot\"},\"width\":450.0,\"height\":579.0},                        {\"responsive\": true}                    ).then(function(){\n",
       "                            \n",
       "var gd = document.getElementById('b8b0af6e-5deb-432b-b2db-9af9c9fd241e');\n",
       "var x = new MutationObserver(function (mutations, observer) {{\n",
       "        var display = window.getComputedStyle(gd).display;\n",
       "        if (!display || display === 'none') {{\n",
       "            console.log([gd, 'removed!']);\n",
       "            Plotly.purge(gd);\n",
       "            observer.disconnect();\n",
       "        }}\n",
       "}});\n",
       "\n",
       "// Listen for the removal of the full notebook cells\n",
       "var notebookContainer = gd.closest('#notebook-container');\n",
       "if (notebookContainer) {{\n",
       "    x.observe(notebookContainer, {childList: true});\n",
       "}}\n",
       "\n",
       "// Listen for the clearing of the current output cell\n",
       "var outputEl = gd.closest('.output');\n",
       "if (outputEl) {{\n",
       "    x.observe(outputEl, {childList: true});\n",
       "}}\n",
       "\n",
       "                        })                };                });            </script>        </div>"
      ]
     },
     "metadata": {},
     "output_type": "display_data"
    }
   ],
   "source": [
    "import plotly.graph_objects as go\n",
    "\n",
    "# Sample data\n",
    "x = [vertex[0] for vertex in new_texture_coordinates]\n",
    "y = [vertex[1] for vertex in new_texture_coordinates]\n",
    "\n",
    "# Create a line plot\n",
    "fig = go.Figure(data=go.Scatter(x=x, y=y, mode='markers', marker=dict(size=2)))\n",
    "\n",
    "layout_scale = 1.5\n",
    "\n",
    "# Customize the layout\n",
    "fig.update_layout(title='2D Line Plot',\n",
    "                  xaxis_title='X-axis',\n",
    "                  yaxis_title='Y-axis',\n",
    "                  xaxis=dict(range=[0, 1]),\n",
    "                  yaxis=dict(range=[0, 1]),\n",
    "                  width=W * layout_scale,\n",
    "                  height=H * layout_scale,\n",
    "                )\n",
    "\n",
    "# Show the plot\n",
    "fig.show()"
   ]
  },
  {
   "cell_type": "code",
   "execution_count": 33,
   "id": "b95c84c1-3b5e-4f8a-a9d5-1d81d1e0c1a9",
   "metadata": {},
   "outputs": [
    {
     "ename": "NameError",
     "evalue": "name 'keypoints' is not defined",
     "output_type": "error",
     "traceback": [
      "\u001b[0;31m---------------------------------------------------------------------------\u001b[0m",
      "\u001b[0;31mNameError\u001b[0m                                 Traceback (most recent call last)",
      "Cell \u001b[0;32mIn[33], line 6\u001b[0m\n\u001b[1;32m      3\u001b[0m keypoints_uv \u001b[38;5;241m=\u001b[39m np\u001b[38;5;241m.\u001b[39marray([(W_new\u001b[38;5;241m*\u001b[39mx, H_new\u001b[38;5;241m*\u001b[39my) \u001b[38;5;28;01mfor\u001b[39;00m x,y \u001b[38;5;129;01min\u001b[39;00m uv_map])\n\u001b[1;32m      5\u001b[0m tform \u001b[38;5;241m=\u001b[39m PiecewiseAffineTransform()\n\u001b[0;32m----> 6\u001b[0m tform\u001b[38;5;241m.\u001b[39mestimate(keypoints_uv,\u001b[43mkeypoints\u001b[49m)\n\u001b[1;32m      7\u001b[0m texture \u001b[38;5;241m=\u001b[39m warp(img_ori, tform, output_shape\u001b[38;5;241m=\u001b[39m(H_new,W_new))\n\u001b[1;32m      8\u001b[0m texture \u001b[38;5;241m=\u001b[39m (\u001b[38;5;241m255\u001b[39m\u001b[38;5;241m*\u001b[39mtexture)\u001b[38;5;241m.\u001b[39mastype(np\u001b[38;5;241m.\u001b[39muint8)\n",
      "\u001b[0;31mNameError\u001b[0m: name 'keypoints' is not defined"
     ]
    }
   ],
   "source": [
    "#https://scikit-image.org/docs/dev/auto_examples/transform/plot_piecewise_affine.html\n",
    "H_new,W_new = 512,512\n",
    "keypoints_uv = np.array([(W_new*x, H_new*y) for x,y in uv_map])\n",
    "\n",
    "tform = PiecewiseAffineTransform()\n",
    "tform.estimate(keypoints_uv,keypoints)\n",
    "texture = warp(img_ori, tform, output_shape=(H_new,W_new))\n",
    "texture = (255*texture).astype(np.uint8)\n",
    "\n",
    "ax = imshow(texture)\n",
    "ax.plot(keypoints_uv[:, 0], keypoints_uv[:, 1], '.b', markersize=2)\n",
    "plt.show()"
   ]
  },
  {
   "cell_type": "code",
   "execution_count": 34,
   "id": "1ebc6b61-e814-4dc2-9297-15d2226b05d9",
   "metadata": {},
   "outputs": [],
   "source": [
    "keypoints3d = np.array([(point.x,point.y,point.z) for point in face_landmarks.landmark[0:468]])"
   ]
  },
  {
   "cell_type": "code",
   "execution_count": 35,
   "id": "7cc1d740-9ba5-486f-8b93-4bcfa4ec9106",
   "metadata": {},
   "outputs": [],
   "source": [
    "obj_filename = \"./data/canonical_face_model.obj\"\n",
    "verts,uvcoords,faces,uv_faces = load_obj(obj_filename)"
   ]
  },
  {
   "cell_type": "code",
   "execution_count": 39,
   "id": "47256167-0d08-49cd-82da-5791fc05cd8e",
   "metadata": {},
   "outputs": [],
   "source": [
    "def normalize_keypoints(keypoints3d):\n",
    "    center = keypoints3d[0]\n",
    "    keypoints3d = keypoints3d - center\n",
    "    axis1 = keypoints3d[165] - keypoints3d[391]\n",
    "    axis2 = keypoints3d[2] - keypoints3d[0]\n",
    "    axis3 = np.cross(axis2,axis1)\n",
    "    axis3 = axis3/np.linalg.norm(axis3)\n",
    "    axis2 = axis2/np.linalg.norm(axis2)\n",
    "    axis1 = np.cross(axis3, axis2)\n",
    "    axis1 = axis1/np.linalg.norm(axis1)\n",
    "    U = np.array([axis3,axis2,axis1])\n",
    "    keypoints3d = keypoints3d.dot(U)\n",
    "    keypoints3d = keypoints3d - keypoints3d.mean(axis=0)\n",
    "    return keypoints3d\n",
    "\n",
    "vertices = normalize_keypoints(vertex_positions)\n",
    "\n",
    "# borrowed from https://github.com/YadiraF/PRNet/blob/master/utils/write.py\n",
    "obj_name =  \"./results/without_piecewise/obj_model.obj\"\n",
    "write_obj(obj_name,\n",
    "              vertices,\n",
    "              faces,\n",
    "              texture_name = \"./results/without_piecewise/texture.jpg\",\n",
    "              texture=img_ori,\n",
    "              uvcoords=new_texture_coordinates,\n",
    "              uvfaces=uv_faces,\n",
    "              )"
   ]
  },
  {
   "cell_type": "code",
   "execution_count": null,
   "id": "99002eea",
   "metadata": {},
   "outputs": [],
   "source": []
  },
  {
   "cell_type": "code",
   "execution_count": null,
   "id": "4651399c",
   "metadata": {},
   "outputs": [],
   "source": []
  }
 ],
 "metadata": {
  "kernelspec": {
   "display_name": "env",
   "language": "python",
   "name": "python3"
  },
  "language_info": {
   "codemirror_mode": {
    "name": "ipython",
    "version": 3
   },
   "file_extension": ".py",
   "mimetype": "text/x-python",
   "name": "python",
   "nbconvert_exporter": "python",
   "pygments_lexer": "ipython3",
   "version": "3.10.12"
  }
 },
 "nbformat": 4,
 "nbformat_minor": 5
}
